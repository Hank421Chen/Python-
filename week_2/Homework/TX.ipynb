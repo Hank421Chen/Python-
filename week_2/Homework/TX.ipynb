{
 "cells": [
  {
   "cell_type": "code",
   "execution_count": 6,
   "metadata": {},
   "outputs": [
    {
     "name": "stderr",
     "output_type": "stream",
     "text": [
      "[INFO ] CRAWLER   : LAST UPDATE: 2017-11-17 00:00:00\n",
      "[INFO ] CRAWLER   : LAST UPDATE: 2017-11-17 00:00:00\n",
      "[INFO ] CRAWLER   : LAST UPDATE: 2017-11-17 00:00:00\n",
      "[INFO ] CRAWLER   : LAST UPDATE: 2017-11-17 00:00:00\n",
      "[INFO ] CRAWLER   : TODAY IS: 2018-09-25\n",
      "[INFO ] CRAWLER   : TODAY IS: 2018-09-25\n",
      "[INFO ] CRAWLER   : TODAY IS: 2018-09-25\n",
      "[INFO ] CRAWLER   : TODAY IS: 2018-09-25\n",
      "[INFO ] CRAWLER   : Stock is not open on 2017-11-18.\n",
      "[INFO ] CRAWLER   : Stock is not open on 2017-11-18.\n",
      "[INFO ] CRAWLER   : Stock is not open on 2017-11-18.\n",
      "[INFO ] CRAWLER   : Stock is not open on 2017-11-18.\n"
     ]
    },
    {
     "name": "stdout",
     "output_type": "stream",
     "text": [
      "list index out of range\n",
      "list index out of range"
     ]
    },
    {
     "name": "stderr",
     "output_type": "stream",
     "text": [
      "[INFO ] CRAWLER   : Stock is not open on 2017-11-19.\n",
      "[INFO ] CRAWLER   : Stock is not open on 2017-11-19.\n",
      "[INFO ] CRAWLER   : Stock is not open on 2017-11-19.\n",
      "[INFO ] CRAWLER   : Stock is not open on 2017-11-19.\n",
      "[INFO ] CRAWLER   : Stock is not open on 2017-11-25.\n",
      "[INFO ] CRAWLER   : Stock is not open on 2017-11-25.\n",
      "[INFO ] CRAWLER   : Stock is not open on 2017-11-25.\n",
      "[INFO ] CRAWLER   : Stock is not open on 2017-11-25.\n",
      "[INFO ] CRAWLER   : Stock is not open on 2017-11-26.\n",
      "[INFO ] CRAWLER   : Stock is not open on 2017-11-26.\n",
      "[INFO ] CRAWLER   : Stock is not open on 2017-11-26.\n",
      "[INFO ] CRAWLER   : Stock is not open on 2017-11-26.\n"
     ]
    },
    {
     "name": "stdout",
     "output_type": "stream",
     "text": [
      "\n",
      "list index out of range\n",
      "list index out of range\n"
     ]
    },
    {
     "name": "stderr",
     "output_type": "stream",
     "text": [
      "[ERROR] CRAWLER   : [insert_volume][2017-11-30] list index out of range\n",
      "[ERROR] CRAWLER   : [insert_volume][2017-11-30] list index out of range\n",
      "[ERROR] CRAWLER   : [insert_volume][2017-11-30] list index out of range\n",
      "[ERROR] CRAWLER   : [insert_volume][2017-11-30] list index out of range\n",
      "[ERROR] CRAWLER   : [insert_3_BS][2017-11-30] HTTPConnectionPool(host='www.tse.com.tw', port=80): Max retries exceeded with url: /fund/BFI82U?response=json&dayDate=20171130 (Caused by NewConnectionError('<requests.packages.urllib3.connection.HTTPConnection object at 0x000001D991EA3BE0>: Failed to establish a new connection: [WinError 10061] 無法連線，因為目標電腦拒絕連線。',))\n",
      "[ERROR] CRAWLER   : [insert_3_BS][2017-11-30] HTTPConnectionPool(host='www.tse.com.tw', port=80): Max retries exceeded with url: /fund/BFI82U?response=json&dayDate=20171130 (Caused by NewConnectionError('<requests.packages.urllib3.connection.HTTPConnection object at 0x000001D991EA3BE0>: Failed to establish a new connection: [WinError 10061] 無法連線，因為目標電腦拒絕連線。',))\n",
      "[ERROR] CRAWLER   : [insert_3_BS][2017-11-30] HTTPConnectionPool(host='www.tse.com.tw', port=80): Max retries exceeded with url: /fund/BFI82U?response=json&dayDate=20171130 (Caused by NewConnectionError('<requests.packages.urllib3.connection.HTTPConnection object at 0x000001D991EA3BE0>: Failed to establish a new connection: [WinError 10061] 無法連線，因為目標電腦拒絕連線。',))\n",
      "[ERROR] CRAWLER   : [insert_3_BS][2017-11-30] HTTPConnectionPool(host='www.tse.com.tw', port=80): Max retries exceeded with url: /fund/BFI82U?response=json&dayDate=20171130 (Caused by NewConnectionError('<requests.packages.urllib3.connection.HTTPConnection object at 0x000001D991EA3BE0>: Failed to establish a new connection: [WinError 10061] 無法連線，因為目標電腦拒絕連線。',))\n",
      "[INFO ] CRAWLER   : Stock is not open on 2017-12-01.\n",
      "[INFO ] CRAWLER   : Stock is not open on 2017-12-01.\n",
      "[INFO ] CRAWLER   : Stock is not open on 2017-12-01.\n",
      "[INFO ] CRAWLER   : Stock is not open on 2017-12-01.\n"
     ]
    },
    {
     "name": "stdout",
     "output_type": "stream",
     "text": [
      "('Connection aborted.', RemoteDisconnected('Remote end closed connection without response',))\n"
     ]
    },
    {
     "name": "stderr",
     "output_type": "stream",
     "text": [
      "[INFO ] CRAWLER   : Stock is not open on 2017-12-02.\n",
      "[INFO ] CRAWLER   : Stock is not open on 2017-12-02.\n",
      "[INFO ] CRAWLER   : Stock is not open on 2017-12-02.\n",
      "[INFO ] CRAWLER   : Stock is not open on 2017-12-02.\n"
     ]
    },
    {
     "name": "stdout",
     "output_type": "stream",
     "text": [
      "list index out of range\n"
     ]
    },
    {
     "name": "stderr",
     "output_type": "stream",
     "text": [
      "[INFO ] CRAWLER   : Stock is not open on 2017-12-03.\n",
      "[INFO ] CRAWLER   : Stock is not open on 2017-12-03.\n",
      "[INFO ] CRAWLER   : Stock is not open on 2017-12-03.\n",
      "[INFO ] CRAWLER   : Stock is not open on 2017-12-03.\n"
     ]
    },
    {
     "name": "stdout",
     "output_type": "stream",
     "text": [
      "list index out of range\n"
     ]
    },
    {
     "name": "stderr",
     "output_type": "stream",
     "text": [
      "[INFO ] CRAWLER   : Stock is not open on 2017-12-04.\n",
      "[INFO ] CRAWLER   : Stock is not open on 2017-12-04.\n",
      "[INFO ] CRAWLER   : Stock is not open on 2017-12-04.\n",
      "[INFO ] CRAWLER   : Stock is not open on 2017-12-04.\n"
     ]
    },
    {
     "name": "stdout",
     "output_type": "stream",
     "text": [
      "HTTPConnectionPool(host='www.twse.com.tw', port=80): Max retries exceeded with url: /indicesReport/MI_5MINS_HIST?response=json&date=20171204 (Caused by NewConnectionError('<requests.packages.urllib3.connection.HTTPConnection object at 0x000001D99269F438>: Failed to establish a new connection: [WinError 10061] 無法連線，因為目標電腦拒絕連線。',))\n"
     ]
    },
    {
     "name": "stderr",
     "output_type": "stream",
     "text": [
      "[INFO ] CRAWLER   : Stock is not open on 2017-12-05.\n",
      "[INFO ] CRAWLER   : Stock is not open on 2017-12-05.\n",
      "[INFO ] CRAWLER   : Stock is not open on 2017-12-05.\n",
      "[INFO ] CRAWLER   : Stock is not open on 2017-12-05.\n"
     ]
    },
    {
     "name": "stdout",
     "output_type": "stream",
     "text": [
      "HTTPConnectionPool(host='www.twse.com.tw', port=80): Max retries exceeded with url: /indicesReport/MI_5MINS_HIST?response=json&date=20171205 (Caused by NewConnectionError('<requests.packages.urllib3.connection.HTTPConnection object at 0x000001D9917F1940>: Failed to establish a new connection: [WinError 10061] 無法連線，因為目標電腦拒絕連線。',))\n"
     ]
    },
    {
     "name": "stderr",
     "output_type": "stream",
     "text": [
      "[INFO ] CRAWLER   : Stock is not open on 2017-12-06.\n",
      "[INFO ] CRAWLER   : Stock is not open on 2017-12-06.\n",
      "[INFO ] CRAWLER   : Stock is not open on 2017-12-06.\n",
      "[INFO ] CRAWLER   : Stock is not open on 2017-12-06.\n"
     ]
    },
    {
     "name": "stdout",
     "output_type": "stream",
     "text": [
      "HTTPConnectionPool(host='www.twse.com.tw', port=80): Max retries exceeded with url: /indicesReport/MI_5MINS_HIST?response=json&date=20171206 (Caused by NewConnectionError('<requests.packages.urllib3.connection.HTTPConnection object at 0x000001D991ABB3C8>: Failed to establish a new connection: [WinError 10061] 無法連線，因為目標電腦拒絕連線。',))\n"
     ]
    },
    {
     "name": "stderr",
     "output_type": "stream",
     "text": [
      "[INFO ] CRAWLER   : Stock is not open on 2017-12-07.\n",
      "[INFO ] CRAWLER   : Stock is not open on 2017-12-07.\n",
      "[INFO ] CRAWLER   : Stock is not open on 2017-12-07.\n",
      "[INFO ] CRAWLER   : Stock is not open on 2017-12-07.\n"
     ]
    },
    {
     "name": "stdout",
     "output_type": "stream",
     "text": [
      "HTTPConnectionPool(host='www.twse.com.tw', port=80): Max retries exceeded with url: /indicesReport/MI_5MINS_HIST?response=json&date=20171207 (Caused by NewConnectionError('<requests.packages.urllib3.connection.HTTPConnection object at 0x000001D9922F7A90>: Failed to establish a new connection: [WinError 10061] 無法連線，因為目標電腦拒絕連線。',))\n"
     ]
    },
    {
     "name": "stderr",
     "output_type": "stream",
     "text": [
      "[INFO ] CRAWLER   : Stock is not open on 2017-12-08.\n",
      "[INFO ] CRAWLER   : Stock is not open on 2017-12-08.\n",
      "[INFO ] CRAWLER   : Stock is not open on 2017-12-08.\n",
      "[INFO ] CRAWLER   : Stock is not open on 2017-12-08.\n"
     ]
    },
    {
     "name": "stdout",
     "output_type": "stream",
     "text": [
      "HTTPConnectionPool(host='www.twse.com.tw', port=80): Max retries exceeded with url: /indicesReport/MI_5MINS_HIST?response=json&date=20171208 (Caused by NewConnectionError('<requests.packages.urllib3.connection.HTTPConnection object at 0x000001D98E168710>: Failed to establish a new connection: [WinError 10061] 無法連線，因為目標電腦拒絕連線。',))\n"
     ]
    },
    {
     "name": "stderr",
     "output_type": "stream",
     "text": [
      "[INFO ] CRAWLER   : Stock is not open on 2017-12-09.\n",
      "[INFO ] CRAWLER   : Stock is not open on 2017-12-09.\n",
      "[INFO ] CRAWLER   : Stock is not open on 2017-12-09.\n",
      "[INFO ] CRAWLER   : Stock is not open on 2017-12-09.\n"
     ]
    },
    {
     "name": "stdout",
     "output_type": "stream",
     "text": [
      "list index out of range\n",
      "list index out of range"
     ]
    },
    {
     "name": "stderr",
     "output_type": "stream",
     "text": [
      "[INFO ] CRAWLER   : Stock is not open on 2017-12-10.\n",
      "[INFO ] CRAWLER   : Stock is not open on 2017-12-10.\n",
      "[INFO ] CRAWLER   : Stock is not open on 2017-12-10.\n",
      "[INFO ] CRAWLER   : Stock is not open on 2017-12-10.\n",
      "[INFO ] CRAWLER   : Stock is not open on 2017-12-11.\n",
      "[INFO ] CRAWLER   : Stock is not open on 2017-12-11.\n",
      "[INFO ] CRAWLER   : Stock is not open on 2017-12-11.\n",
      "[INFO ] CRAWLER   : Stock is not open on 2017-12-11.\n"
     ]
    },
    {
     "name": "stdout",
     "output_type": "stream",
     "text": [
      "\n",
      "HTTPConnectionPool(host='www.twse.com.tw', port=80): Max retries exceeded with url: /indicesReport/MI_5MINS_HIST?response=json&date=20171211 (Caused by NewConnectionError('<requests.packages.urllib3.connection.HTTPConnection object at 0x000001D991CBFE80>: Failed to establish a new connection: [WinError 10061] 無法連線，因為目標電腦拒絕連線。',))\n"
     ]
    },
    {
     "name": "stderr",
     "output_type": "stream",
     "text": [
      "[INFO ] CRAWLER   : Stock is not open on 2017-12-12.\n",
      "[INFO ] CRAWLER   : Stock is not open on 2017-12-12.\n",
      "[INFO ] CRAWLER   : Stock is not open on 2017-12-12.\n",
      "[INFO ] CRAWLER   : Stock is not open on 2017-12-12.\n"
     ]
    },
    {
     "name": "stdout",
     "output_type": "stream",
     "text": [
      "HTTPConnectionPool(host='www.twse.com.tw', port=80): Max retries exceeded with url: /indicesReport/MI_5MINS_HIST?response=json&date=20171212 (Caused by NewConnectionError('<requests.packages.urllib3.connection.HTTPConnection object at 0x000001D9918EB5F8>: Failed to establish a new connection: [WinError 10061] 無法連線，因為目標電腦拒絕連線。',))\n"
     ]
    },
    {
     "name": "stderr",
     "output_type": "stream",
     "text": [
      "[INFO ] CRAWLER   : Stock is not open on 2017-12-13.\n",
      "[INFO ] CRAWLER   : Stock is not open on 2017-12-13.\n",
      "[INFO ] CRAWLER   : Stock is not open on 2017-12-13.\n",
      "[INFO ] CRAWLER   : Stock is not open on 2017-12-13.\n"
     ]
    },
    {
     "name": "stdout",
     "output_type": "stream",
     "text": [
      "HTTPConnectionPool(host='www.twse.com.tw', port=80): Max retries exceeded with url: /indicesReport/MI_5MINS_HIST?response=json&date=20171213 (Caused by NewConnectionError('<requests.packages.urllib3.connection.HTTPConnection object at 0x000001D991588828>: Failed to establish a new connection: [WinError 10061] 無法連線，因為目標電腦拒絕連線。',))\n"
     ]
    },
    {
     "name": "stderr",
     "output_type": "stream",
     "text": [
      "[INFO ] CRAWLER   : Stock is not open on 2017-12-14.\n",
      "[INFO ] CRAWLER   : Stock is not open on 2017-12-14.\n",
      "[INFO ] CRAWLER   : Stock is not open on 2017-12-14.\n",
      "[INFO ] CRAWLER   : Stock is not open on 2017-12-14.\n"
     ]
    },
    {
     "name": "stdout",
     "output_type": "stream",
     "text": [
      "HTTPConnectionPool(host='www.twse.com.tw', port=80): Max retries exceeded with url: /indicesReport/MI_5MINS_HIST?response=json&date=20171214 (Caused by NewConnectionError('<requests.packages.urllib3.connection.HTTPConnection object at 0x000001D991C5E5C0>: Failed to establish a new connection: [WinError 10061] 無法連線，因為目標電腦拒絕連線。',))\n"
     ]
    },
    {
     "name": "stderr",
     "output_type": "stream",
     "text": [
      "[INFO ] CRAWLER   : Stock is not open on 2017-12-15.\n",
      "[INFO ] CRAWLER   : Stock is not open on 2017-12-15.\n",
      "[INFO ] CRAWLER   : Stock is not open on 2017-12-15.\n",
      "[INFO ] CRAWLER   : Stock is not open on 2017-12-15.\n"
     ]
    },
    {
     "name": "stdout",
     "output_type": "stream",
     "text": [
      "HTTPConnectionPool(host='www.twse.com.tw', port=80): Max retries exceeded with url: /indicesReport/MI_5MINS_HIST?response=json&date=20171215 (Caused by NewConnectionError('<requests.packages.urllib3.connection.HTTPConnection object at 0x000001D991B63EB8>: Failed to establish a new connection: [WinError 10061] 無法連線，因為目標電腦拒絕連線。',))\n"
     ]
    },
    {
     "name": "stderr",
     "output_type": "stream",
     "text": [
      "[INFO ] CRAWLER   : Stock is not open on 2017-12-16.\n",
      "[INFO ] CRAWLER   : Stock is not open on 2017-12-16.\n",
      "[INFO ] CRAWLER   : Stock is not open on 2017-12-16.\n",
      "[INFO ] CRAWLER   : Stock is not open on 2017-12-16.\n",
      "[INFO ] CRAWLER   : Stock is not open on 2017-12-17.\n",
      "[INFO ] CRAWLER   : Stock is not open on 2017-12-17.\n",
      "[INFO ] CRAWLER   : Stock is not open on 2017-12-17.\n",
      "[INFO ] CRAWLER   : Stock is not open on 2017-12-17.\n"
     ]
    },
    {
     "name": "stdout",
     "output_type": "stream",
     "text": [
      "list index out of range\n",
      "list index out of range\n"
     ]
    },
    {
     "name": "stderr",
     "output_type": "stream",
     "text": [
      "[INFO ] CRAWLER   : Stock is not open on 2017-12-18.\n",
      "[INFO ] CRAWLER   : Stock is not open on 2017-12-18.\n",
      "[INFO ] CRAWLER   : Stock is not open on 2017-12-18.\n",
      "[INFO ] CRAWLER   : Stock is not open on 2017-12-18.\n"
     ]
    },
    {
     "name": "stdout",
     "output_type": "stream",
     "text": [
      "HTTPConnectionPool(host='www.twse.com.tw', port=80): Max retries exceeded with url: /indicesReport/MI_5MINS_HIST?response=json&date=20171218 (Caused by NewConnectionError('<requests.packages.urllib3.connection.HTTPConnection object at 0x000001D9927A4828>: Failed to establish a new connection: [WinError 10061] 無法連線，因為目標電腦拒絕連線。',))\n"
     ]
    },
    {
     "name": "stderr",
     "output_type": "stream",
     "text": [
      "[INFO ] CRAWLER   : Stock is not open on 2017-12-19.\n",
      "[INFO ] CRAWLER   : Stock is not open on 2017-12-19.\n",
      "[INFO ] CRAWLER   : Stock is not open on 2017-12-19.\n",
      "[INFO ] CRAWLER   : Stock is not open on 2017-12-19.\n"
     ]
    },
    {
     "name": "stdout",
     "output_type": "stream",
     "text": [
      "HTTPConnectionPool(host='www.twse.com.tw', port=80): Max retries exceeded with url: /indicesReport/MI_5MINS_HIST?response=json&date=20171219 (Caused by NewConnectionError('<requests.packages.urllib3.connection.HTTPConnection object at 0x000001D991C61588>: Failed to establish a new connection: [WinError 10061] 無法連線，因為目標電腦拒絕連線。',))\n"
     ]
    },
    {
     "name": "stderr",
     "output_type": "stream",
     "text": [
      "[INFO ] CRAWLER   : Stock is not open on 2017-12-20.\n",
      "[INFO ] CRAWLER   : Stock is not open on 2017-12-20.\n",
      "[INFO ] CRAWLER   : Stock is not open on 2017-12-20.\n",
      "[INFO ] CRAWLER   : Stock is not open on 2017-12-20.\n"
     ]
    },
    {
     "name": "stdout",
     "output_type": "stream",
     "text": [
      "HTTPConnectionPool(host='www.twse.com.tw', port=80): Max retries exceeded with url: /indicesReport/MI_5MINS_HIST?response=json&date=20171220 (Caused by NewConnectionError('<requests.packages.urllib3.connection.HTTPConnection object at 0x000001D991E03240>: Failed to establish a new connection: [WinError 10061] 無法連線，因為目標電腦拒絕連線。',))\n"
     ]
    },
    {
     "name": "stderr",
     "output_type": "stream",
     "text": [
      "[INFO ] CRAWLER   : Stock is not open on 2017-12-21.\n",
      "[INFO ] CRAWLER   : Stock is not open on 2017-12-21.\n",
      "[INFO ] CRAWLER   : Stock is not open on 2017-12-21.\n",
      "[INFO ] CRAWLER   : Stock is not open on 2017-12-21.\n"
     ]
    },
    {
     "name": "stdout",
     "output_type": "stream",
     "text": [
      "HTTPConnectionPool(host='www.twse.com.tw', port=80): Max retries exceeded with url: /indicesReport/MI_5MINS_HIST?response=json&date=20171221 (Caused by NewConnectionError('<requests.packages.urllib3.connection.HTTPConnection object at 0x000001D991573CF8>: Failed to establish a new connection: [WinError 10061] 無法連線，因為目標電腦拒絕連線。',))\n"
     ]
    },
    {
     "name": "stderr",
     "output_type": "stream",
     "text": [
      "[INFO ] CRAWLER   : Stock is not open on 2017-12-22.\n",
      "[INFO ] CRAWLER   : Stock is not open on 2017-12-22.\n",
      "[INFO ] CRAWLER   : Stock is not open on 2017-12-22.\n",
      "[INFO ] CRAWLER   : Stock is not open on 2017-12-22.\n",
      "[INFO ] CRAWLER   : Stock is not open on 2017-12-23.\n",
      "[INFO ] CRAWLER   : Stock is not open on 2017-12-23.\n",
      "[INFO ] CRAWLER   : Stock is not open on 2017-12-23.\n",
      "[INFO ] CRAWLER   : Stock is not open on 2017-12-23.\n"
     ]
    },
    {
     "name": "stdout",
     "output_type": "stream",
     "text": [
      "HTTPConnectionPool(host='www.twse.com.tw', port=80): Max retries exceeded with url: /indicesReport/MI_5MINS_HIST?response=json&date=20171222 (Caused by NewConnectionError('<requests.packages.urllib3.connection.HTTPConnection object at 0x000001D9916DA7F0>: Failed to establish a new connection: [WinError 10061] 無法連線，因為目標電腦拒絕連線。',))\n",
      "list index out of range\n"
     ]
    },
    {
     "name": "stderr",
     "output_type": "stream",
     "text": [
      "[INFO ] CRAWLER   : Stock is not open on 2017-12-24.\n",
      "[INFO ] CRAWLER   : Stock is not open on 2017-12-24.\n",
      "[INFO ] CRAWLER   : Stock is not open on 2017-12-24.\n",
      "[INFO ] CRAWLER   : Stock is not open on 2017-12-24.\n"
     ]
    },
    {
     "name": "stdout",
     "output_type": "stream",
     "text": [
      "list index out of range\n"
     ]
    },
    {
     "name": "stderr",
     "output_type": "stream",
     "text": [
      "[INFO ] CRAWLER   : Stock is not open on 2017-12-25.\n",
      "[INFO ] CRAWLER   : Stock is not open on 2017-12-25.\n",
      "[INFO ] CRAWLER   : Stock is not open on 2017-12-25.\n",
      "[INFO ] CRAWLER   : Stock is not open on 2017-12-25.\n"
     ]
    },
    {
     "name": "stdout",
     "output_type": "stream",
     "text": [
      "HTTPConnectionPool(host='www.twse.com.tw', port=80): Max retries exceeded with url: /indicesReport/MI_5MINS_HIST?response=json&date=20171225 (Caused by NewConnectionError('<requests.packages.urllib3.connection.HTTPConnection object at 0x000001D99239E4A8>: Failed to establish a new connection: [WinError 10061] 無法連線，因為目標電腦拒絕連線。',))\n"
     ]
    },
    {
     "name": "stderr",
     "output_type": "stream",
     "text": [
      "[INFO ] CRAWLER   : Stock is not open on 2017-12-26.\n",
      "[INFO ] CRAWLER   : Stock is not open on 2017-12-26.\n",
      "[INFO ] CRAWLER   : Stock is not open on 2017-12-26.\n",
      "[INFO ] CRAWLER   : Stock is not open on 2017-12-26.\n"
     ]
    },
    {
     "name": "stdout",
     "output_type": "stream",
     "text": [
      "HTTPConnectionPool(host='www.twse.com.tw', port=80): Max retries exceeded with url: /indicesReport/MI_5MINS_HIST?response=json&date=20171226 (Caused by NewConnectionError('<requests.packages.urllib3.connection.HTTPConnection object at 0x000001D991FBD160>: Failed to establish a new connection: [WinError 10061] 無法連線，因為目標電腦拒絕連線。',))\n"
     ]
    },
    {
     "name": "stderr",
     "output_type": "stream",
     "text": [
      "[INFO ] CRAWLER   : Stock is not open on 2017-12-27.\n",
      "[INFO ] CRAWLER   : Stock is not open on 2017-12-27.\n",
      "[INFO ] CRAWLER   : Stock is not open on 2017-12-27.\n",
      "[INFO ] CRAWLER   : Stock is not open on 2017-12-27.\n"
     ]
    },
    {
     "name": "stdout",
     "output_type": "stream",
     "text": [
      "HTTPConnectionPool(host='www.twse.com.tw', port=80): Max retries exceeded with url: /indicesReport/MI_5MINS_HIST?response=json&date=20171227 (Caused by NewConnectionError('<requests.packages.urllib3.connection.HTTPConnection object at 0x000001D9912A5860>: Failed to establish a new connection: [WinError 10061] 無法連線，因為目標電腦拒絕連線。',))\n"
     ]
    },
    {
     "name": "stderr",
     "output_type": "stream",
     "text": [
      "[INFO ] CRAWLER   : Stock is not open on 2017-12-28.\n",
      "[INFO ] CRAWLER   : Stock is not open on 2017-12-28.\n",
      "[INFO ] CRAWLER   : Stock is not open on 2017-12-28.\n",
      "[INFO ] CRAWLER   : Stock is not open on 2017-12-28.\n"
     ]
    },
    {
     "name": "stdout",
     "output_type": "stream",
     "text": [
      "HTTPConnectionPool(host='www.twse.com.tw', port=80): Max retries exceeded with url: /indicesReport/MI_5MINS_HIST?response=json&date=20171228 (Caused by NewConnectionError('<requests.packages.urllib3.connection.HTTPConnection object at 0x000001D99213C550>: Failed to establish a new connection: [WinError 10061] 無法連線，因為目標電腦拒絕連線。',))\n"
     ]
    },
    {
     "name": "stderr",
     "output_type": "stream",
     "text": [
      "[INFO ] CRAWLER   : Stock is not open on 2017-12-29.\n",
      "[INFO ] CRAWLER   : Stock is not open on 2017-12-29.\n",
      "[INFO ] CRAWLER   : Stock is not open on 2017-12-29.\n",
      "[INFO ] CRAWLER   : Stock is not open on 2017-12-29.\n",
      "[INFO ] CRAWLER   : Stock is not open on 2017-12-30.\n",
      "[INFO ] CRAWLER   : Stock is not open on 2017-12-30.\n",
      "[INFO ] CRAWLER   : Stock is not open on 2017-12-30.\n",
      "[INFO ] CRAWLER   : Stock is not open on 2017-12-30.\n"
     ]
    },
    {
     "name": "stdout",
     "output_type": "stream",
     "text": [
      "HTTPConnectionPool(host='www.twse.com.tw', port=80): Max retries exceeded with url: /indicesReport/MI_5MINS_HIST?response=json&date=20171229 (Caused by NewConnectionError('<requests.packages.urllib3.connection.HTTPConnection object at 0x000001D99179D208>: Failed to establish a new connection: [WinError 10061] 無法連線，因為目標電腦拒絕連線。',))\n",
      "list index out of range\n"
     ]
    },
    {
     "name": "stderr",
     "output_type": "stream",
     "text": [
      "[INFO ] CRAWLER   : Stock is not open on 2017-12-31.\n",
      "[INFO ] CRAWLER   : Stock is not open on 2017-12-31.\n",
      "[INFO ] CRAWLER   : Stock is not open on 2017-12-31.\n",
      "[INFO ] CRAWLER   : Stock is not open on 2017-12-31.\n",
      "[INFO ] CRAWLER   : Stock is not open on 2018-01-01.\n",
      "[INFO ] CRAWLER   : Stock is not open on 2018-01-01.\n",
      "[INFO ] CRAWLER   : Stock is not open on 2018-01-01.\n",
      "[INFO ] CRAWLER   : Stock is not open on 2018-01-01.\n"
     ]
    },
    {
     "name": "stdout",
     "output_type": "stream",
     "text": [
      "list index out of range\n",
      "list index out of range\n"
     ]
    },
    {
     "name": "stderr",
     "output_type": "stream",
     "text": [
      "[INFO ] CRAWLER   : Stock is not open on 2018-01-02.\n",
      "[INFO ] CRAWLER   : Stock is not open on 2018-01-02.\n",
      "[INFO ] CRAWLER   : Stock is not open on 2018-01-02.\n",
      "[INFO ] CRAWLER   : Stock is not open on 2018-01-02.\n"
     ]
    },
    {
     "name": "stdout",
     "output_type": "stream",
     "text": [
      "HTTPConnectionPool(host='www.twse.com.tw', port=80): Max retries exceeded with url: /indicesReport/MI_5MINS_HIST?response=json&date=20180102 (Caused by NewConnectionError('<requests.packages.urllib3.connection.HTTPConnection object at 0x000001D992022DA0>: Failed to establish a new connection: [WinError 10061] 無法連線，因為目標電腦拒絕連線。',))\n"
     ]
    },
    {
     "name": "stderr",
     "output_type": "stream",
     "text": [
      "[INFO ] CRAWLER   : Stock is not open on 2018-01-03.\n",
      "[INFO ] CRAWLER   : Stock is not open on 2018-01-03.\n",
      "[INFO ] CRAWLER   : Stock is not open on 2018-01-03.\n",
      "[INFO ] CRAWLER   : Stock is not open on 2018-01-03.\n"
     ]
    },
    {
     "name": "stdout",
     "output_type": "stream",
     "text": [
      "HTTPConnectionPool(host='www.twse.com.tw', port=80): Max retries exceeded with url: /indicesReport/MI_5MINS_HIST?response=json&date=20180103 (Caused by NewConnectionError('<requests.packages.urllib3.connection.HTTPConnection object at 0x000001D9923096D8>: Failed to establish a new connection: [WinError 10061] 無法連線，因為目標電腦拒絕連線。',))\n"
     ]
    },
    {
     "name": "stderr",
     "output_type": "stream",
     "text": [
      "[INFO ] CRAWLER   : Stock is not open on 2018-01-04.\n",
      "[INFO ] CRAWLER   : Stock is not open on 2018-01-04.\n",
      "[INFO ] CRAWLER   : Stock is not open on 2018-01-04.\n",
      "[INFO ] CRAWLER   : Stock is not open on 2018-01-04.\n"
     ]
    },
    {
     "name": "stdout",
     "output_type": "stream",
     "text": [
      "HTTPConnectionPool(host='www.twse.com.tw', port=80): Max retries exceeded with url: /indicesReport/MI_5MINS_HIST?response=json&date=20180104 (Caused by NewConnectionError('<requests.packages.urllib3.connection.HTTPConnection object at 0x000001D991607550>: Failed to establish a new connection: [WinError 10061] 無法連線，因為目標電腦拒絕連線。',))\n"
     ]
    },
    {
     "name": "stderr",
     "output_type": "stream",
     "text": [
      "[INFO ] CRAWLER   : Stock is not open on 2018-01-05.\n",
      "[INFO ] CRAWLER   : Stock is not open on 2018-01-05.\n",
      "[INFO ] CRAWLER   : Stock is not open on 2018-01-05.\n",
      "[INFO ] CRAWLER   : Stock is not open on 2018-01-05.\n",
      "[INFO ] CRAWLER   : Stock is not open on 2018-01-06.\n",
      "[INFO ] CRAWLER   : Stock is not open on 2018-01-06.\n",
      "[INFO ] CRAWLER   : Stock is not open on 2018-01-06.\n",
      "[INFO ] CRAWLER   : Stock is not open on 2018-01-06.\n"
     ]
    },
    {
     "name": "stdout",
     "output_type": "stream",
     "text": [
      "HTTPConnectionPool(host='www.twse.com.tw', port=80): Max retries exceeded with url: /indicesReport/MI_5MINS_HIST?response=json&date=20180105 (Caused by NewConnectionError('<requests.packages.urllib3.connection.HTTPConnection object at 0x000001D9922FAD68>: Failed to establish a new connection: [WinError 10061] 無法連線，因為目標電腦拒絕連線。',))\n",
      "list index out of range\n"
     ]
    },
    {
     "name": "stderr",
     "output_type": "stream",
     "text": [
      "[INFO ] CRAWLER   : Stock is not open on 2018-01-07.\n",
      "[INFO ] CRAWLER   : Stock is not open on 2018-01-07.\n",
      "[INFO ] CRAWLER   : Stock is not open on 2018-01-07.\n",
      "[INFO ] CRAWLER   : Stock is not open on 2018-01-07.\n"
     ]
    },
    {
     "name": "stdout",
     "output_type": "stream",
     "text": [
      "list index out of range\n"
     ]
    },
    {
     "name": "stderr",
     "output_type": "stream",
     "text": [
      "[INFO ] CRAWLER   : Stock is not open on 2018-01-08.\n",
      "[INFO ] CRAWLER   : Stock is not open on 2018-01-08.\n",
      "[INFO ] CRAWLER   : Stock is not open on 2018-01-08.\n",
      "[INFO ] CRAWLER   : Stock is not open on 2018-01-08.\n"
     ]
    },
    {
     "name": "stdout",
     "output_type": "stream",
     "text": [
      "HTTPConnectionPool(host='www.twse.com.tw', port=80): Max retries exceeded with url: /indicesReport/MI_5MINS_HIST?response=json&date=20180108 (Caused by NewConnectionError('<requests.packages.urllib3.connection.HTTPConnection object at 0x000001D991EDB320>: Failed to establish a new connection: [WinError 10061] 無法連線，因為目標電腦拒絕連線。',))\n"
     ]
    },
    {
     "name": "stderr",
     "output_type": "stream",
     "text": [
      "[INFO ] CRAWLER   : Stock is not open on 2018-01-09.\n",
      "[INFO ] CRAWLER   : Stock is not open on 2018-01-09.\n",
      "[INFO ] CRAWLER   : Stock is not open on 2018-01-09.\n",
      "[INFO ] CRAWLER   : Stock is not open on 2018-01-09.\n"
     ]
    },
    {
     "name": "stdout",
     "output_type": "stream",
     "text": [
      "HTTPConnectionPool(host='www.twse.com.tw', port=80): Max retries exceeded with url: /indicesReport/MI_5MINS_HIST?response=json&date=20180109 (Caused by NewConnectionError('<requests.packages.urllib3.connection.HTTPConnection object at 0x000001D99191FEB8>: Failed to establish a new connection: [WinError 10061] 無法連線，因為目標電腦拒絕連線。',))\n"
     ]
    },
    {
     "name": "stderr",
     "output_type": "stream",
     "text": [
      "[INFO ] CRAWLER   : Stock is not open on 2018-01-10.\n",
      "[INFO ] CRAWLER   : Stock is not open on 2018-01-10.\n",
      "[INFO ] CRAWLER   : Stock is not open on 2018-01-10.\n",
      "[INFO ] CRAWLER   : Stock is not open on 2018-01-10.\n"
     ]
    },
    {
     "name": "stdout",
     "output_type": "stream",
     "text": [
      "HTTPConnectionPool(host='www.twse.com.tw', port=80): Max retries exceeded with url: /indicesReport/MI_5MINS_HIST?response=json&date=20180110 (Caused by NewConnectionError('<requests.packages.urllib3.connection.HTTPConnection object at 0x000001D991573BE0>: Failed to establish a new connection: [WinError 10061] 無法連線，因為目標電腦拒絕連線。',))\n"
     ]
    },
    {
     "name": "stderr",
     "output_type": "stream",
     "text": [
      "[INFO ] CRAWLER   : Stock is not open on 2018-01-11.\n",
      "[INFO ] CRAWLER   : Stock is not open on 2018-01-11.\n",
      "[INFO ] CRAWLER   : Stock is not open on 2018-01-11.\n",
      "[INFO ] CRAWLER   : Stock is not open on 2018-01-11.\n"
     ]
    },
    {
     "name": "stdout",
     "output_type": "stream",
     "text": [
      "HTTPConnectionPool(host='www.twse.com.tw', port=80): Max retries exceeded with url: /indicesReport/MI_5MINS_HIST?response=json&date=20180111 (Caused by NewConnectionError('<requests.packages.urllib3.connection.HTTPConnection object at 0x000001D9927B0518>: Failed to establish a new connection: [WinError 10061] 無法連線，因為目標電腦拒絕連線。',))\n"
     ]
    },
    {
     "name": "stderr",
     "output_type": "stream",
     "text": [
      "[INFO ] CRAWLER   : Stock is not open on 2018-01-12.\n",
      "[INFO ] CRAWLER   : Stock is not open on 2018-01-12.\n",
      "[INFO ] CRAWLER   : Stock is not open on 2018-01-12.\n",
      "[INFO ] CRAWLER   : Stock is not open on 2018-01-12.\n"
     ]
    },
    {
     "name": "stdout",
     "output_type": "stream",
     "text": [
      "HTTPConnectionPool(host='www.twse.com.tw', port=80): Max retries exceeded with url: /indicesReport/MI_5MINS_HIST?response=json&date=20180112 (Caused by NewConnectionError('<requests.packages.urllib3.connection.HTTPConnection object at 0x000001D9915D6320>: Failed to establish a new connection: [WinError 10061] 無法連線，因為目標電腦拒絕連線。',))\n",
      "list index out of range"
     ]
    },
    {
     "name": "stderr",
     "output_type": "stream",
     "text": [
      "[INFO ] CRAWLER   : Stock is not open on 2018-01-13.\n",
      "[INFO ] CRAWLER   : Stock is not open on 2018-01-13.\n",
      "[INFO ] CRAWLER   : Stock is not open on 2018-01-13.\n",
      "[INFO ] CRAWLER   : Stock is not open on 2018-01-13.\n",
      "[INFO ] CRAWLER   : Stock is not open on 2018-01-14.\n",
      "[INFO ] CRAWLER   : Stock is not open on 2018-01-14.\n",
      "[INFO ] CRAWLER   : Stock is not open on 2018-01-14.\n",
      "[INFO ] CRAWLER   : Stock is not open on 2018-01-14.\n"
     ]
    },
    {
     "name": "stdout",
     "output_type": "stream",
     "text": [
      "\n",
      "list index out of range\n"
     ]
    },
    {
     "name": "stderr",
     "output_type": "stream",
     "text": [
      "[INFO ] CRAWLER   : Stock is not open on 2018-01-15.\n",
      "[INFO ] CRAWLER   : Stock is not open on 2018-01-15.\n",
      "[INFO ] CRAWLER   : Stock is not open on 2018-01-15.\n",
      "[INFO ] CRAWLER   : Stock is not open on 2018-01-15.\n"
     ]
    },
    {
     "name": "stdout",
     "output_type": "stream",
     "text": [
      "HTTPConnectionPool(host='www.twse.com.tw', port=80): Max retries exceeded with url: /indicesReport/MI_5MINS_HIST?response=json&date=20180115 (Caused by NewConnectionError('<requests.packages.urllib3.connection.HTTPConnection object at 0x000001D991298978>: Failed to establish a new connection: [WinError 10061] 無法連線，因為目標電腦拒絕連線。',))\n"
     ]
    },
    {
     "name": "stderr",
     "output_type": "stream",
     "text": [
      "[INFO ] CRAWLER   : Stock is not open on 2018-01-16.\n",
      "[INFO ] CRAWLER   : Stock is not open on 2018-01-16.\n",
      "[INFO ] CRAWLER   : Stock is not open on 2018-01-16.\n",
      "[INFO ] CRAWLER   : Stock is not open on 2018-01-16.\n"
     ]
    },
    {
     "name": "stdout",
     "output_type": "stream",
     "text": [
      "HTTPConnectionPool(host='www.twse.com.tw', port=80): Max retries exceeded with url: /indicesReport/MI_5MINS_HIST?response=json&date=20180116 (Caused by NewConnectionError('<requests.packages.urllib3.connection.HTTPConnection object at 0x000001D9922FD828>: Failed to establish a new connection: [WinError 10061] 無法連線，因為目標電腦拒絕連線。',))\n"
     ]
    },
    {
     "name": "stderr",
     "output_type": "stream",
     "text": [
      "[INFO ] CRAWLER   : Stock is not open on 2018-01-17.\n",
      "[INFO ] CRAWLER   : Stock is not open on 2018-01-17.\n",
      "[INFO ] CRAWLER   : Stock is not open on 2018-01-17.\n",
      "[INFO ] CRAWLER   : Stock is not open on 2018-01-17.\n"
     ]
    },
    {
     "name": "stdout",
     "output_type": "stream",
     "text": [
      "HTTPConnectionPool(host='www.twse.com.tw', port=80): Max retries exceeded with url: /indicesReport/MI_5MINS_HIST?response=json&date=20180117 (Caused by NewConnectionError('<requests.packages.urllib3.connection.HTTPConnection object at 0x000001D991606630>: Failed to establish a new connection: [WinError 10061] 無法連線，因為目標電腦拒絕連線。',))\n"
     ]
    },
    {
     "name": "stderr",
     "output_type": "stream",
     "text": [
      "[INFO ] CRAWLER   : Stock is not open on 2018-01-18.\n",
      "[INFO ] CRAWLER   : Stock is not open on 2018-01-18.\n",
      "[INFO ] CRAWLER   : Stock is not open on 2018-01-18.\n",
      "[INFO ] CRAWLER   : Stock is not open on 2018-01-18.\n"
     ]
    },
    {
     "name": "stdout",
     "output_type": "stream",
     "text": [
      "HTTPConnectionPool(host='www.twse.com.tw', port=80): Max retries exceeded with url: /indicesReport/MI_5MINS_HIST?response=json&date=20180118 (Caused by NewConnectionError('<requests.packages.urllib3.connection.HTTPConnection object at 0x000001D991D320B8>: Failed to establish a new connection: [WinError 10061] 無法連線，因為目標電腦拒絕連線。',))\n"
     ]
    },
    {
     "name": "stderr",
     "output_type": "stream",
     "text": [
      "[INFO ] CRAWLER   : Stock is not open on 2018-01-19.\n",
      "[INFO ] CRAWLER   : Stock is not open on 2018-01-19.\n",
      "[INFO ] CRAWLER   : Stock is not open on 2018-01-19.\n",
      "[INFO ] CRAWLER   : Stock is not open on 2018-01-19.\n",
      "[INFO ] CRAWLER   : Stock is not open on 2018-01-20.\n",
      "[INFO ] CRAWLER   : Stock is not open on 2018-01-20.\n",
      "[INFO ] CRAWLER   : Stock is not open on 2018-01-20.\n",
      "[INFO ] CRAWLER   : Stock is not open on 2018-01-20.\n"
     ]
    },
    {
     "name": "stdout",
     "output_type": "stream",
     "text": [
      "HTTPConnectionPool(host='www.twse.com.tw', port=80): Max retries exceeded with url: /indicesReport/MI_5MINS_HIST?response=json&date=20180119 (Caused by NewConnectionError('<requests.packages.urllib3.connection.HTTPConnection object at 0x000001D991925B00>: Failed to establish a new connection: [WinError 10061] 無法連線，因為目標電腦拒絕連線。',))\n",
      "list index out of range\n"
     ]
    },
    {
     "name": "stderr",
     "output_type": "stream",
     "text": [
      "[INFO ] CRAWLER   : Stock is not open on 2018-01-21.\n",
      "[INFO ] CRAWLER   : Stock is not open on 2018-01-21.\n",
      "[INFO ] CRAWLER   : Stock is not open on 2018-01-21.\n",
      "[INFO ] CRAWLER   : Stock is not open on 2018-01-21.\n"
     ]
    },
    {
     "name": "stdout",
     "output_type": "stream",
     "text": [
      "list index out of range\n"
     ]
    },
    {
     "name": "stderr",
     "output_type": "stream",
     "text": [
      "[INFO ] CRAWLER   : Stock is not open on 2018-01-22.\n",
      "[INFO ] CRAWLER   : Stock is not open on 2018-01-22.\n",
      "[INFO ] CRAWLER   : Stock is not open on 2018-01-22.\n",
      "[INFO ] CRAWLER   : Stock is not open on 2018-01-22.\n"
     ]
    },
    {
     "name": "stdout",
     "output_type": "stream",
     "text": [
      "HTTPConnectionPool(host='www.twse.com.tw', port=80): Max retries exceeded with url: /indicesReport/MI_5MINS_HIST?response=json&date=20180122 (Caused by NewConnectionError('<requests.packages.urllib3.connection.HTTPConnection object at 0x000001D991B8D9E8>: Failed to establish a new connection: [WinError 10061] 無法連線，因為目標電腦拒絕連線。',))\n"
     ]
    },
    {
     "name": "stderr",
     "output_type": "stream",
     "text": [
      "[INFO ] CRAWLER   : Stock is not open on 2018-01-23.\n",
      "[INFO ] CRAWLER   : Stock is not open on 2018-01-23.\n",
      "[INFO ] CRAWLER   : Stock is not open on 2018-01-23.\n",
      "[INFO ] CRAWLER   : Stock is not open on 2018-01-23.\n"
     ]
    },
    {
     "name": "stdout",
     "output_type": "stream",
     "text": [
      "HTTPConnectionPool(host='www.twse.com.tw', port=80): Max retries exceeded with url: /indicesReport/MI_5MINS_HIST?response=json&date=20180123 (Caused by NewConnectionError('<requests.packages.urllib3.connection.HTTPConnection object at 0x000001D991E94630>: Failed to establish a new connection: [WinError 10061] 無法連線，因為目標電腦拒絕連線。',))\n"
     ]
    },
    {
     "name": "stderr",
     "output_type": "stream",
     "text": [
      "[INFO ] CRAWLER   : Stock is not open on 2018-01-24.\n",
      "[INFO ] CRAWLER   : Stock is not open on 2018-01-24.\n",
      "[INFO ] CRAWLER   : Stock is not open on 2018-01-24.\n",
      "[INFO ] CRAWLER   : Stock is not open on 2018-01-24.\n"
     ]
    },
    {
     "name": "stdout",
     "output_type": "stream",
     "text": [
      "HTTPConnectionPool(host='www.twse.com.tw', port=80): Max retries exceeded with url: /indicesReport/MI_5MINS_HIST?response=json&date=20180124 (Caused by NewConnectionError('<requests.packages.urllib3.connection.HTTPConnection object at 0x000001D98E16F940>: Failed to establish a new connection: [WinError 10061] 無法連線，因為目標電腦拒絕連線。',))\n"
     ]
    },
    {
     "name": "stderr",
     "output_type": "stream",
     "text": [
      "[INFO ] CRAWLER   : Stock is not open on 2018-01-25.\n",
      "[INFO ] CRAWLER   : Stock is not open on 2018-01-25.\n",
      "[INFO ] CRAWLER   : Stock is not open on 2018-01-25.\n",
      "[INFO ] CRAWLER   : Stock is not open on 2018-01-25.\n"
     ]
    },
    {
     "name": "stdout",
     "output_type": "stream",
     "text": [
      "HTTPConnectionPool(host='www.twse.com.tw', port=80): Max retries exceeded with url: /indicesReport/MI_5MINS_HIST?response=json&date=20180125 (Caused by NewConnectionError('<requests.packages.urllib3.connection.HTTPConnection object at 0x000001D991950470>: Failed to establish a new connection: [WinError 10061] 無法連線，因為目標電腦拒絕連線。',))\n"
     ]
    },
    {
     "name": "stderr",
     "output_type": "stream",
     "text": [
      "[INFO ] CRAWLER   : Stock is not open on 2018-01-26.\n",
      "[INFO ] CRAWLER   : Stock is not open on 2018-01-26.\n",
      "[INFO ] CRAWLER   : Stock is not open on 2018-01-26.\n",
      "[INFO ] CRAWLER   : Stock is not open on 2018-01-26.\n"
     ]
    },
    {
     "name": "stdout",
     "output_type": "stream",
     "text": [
      "HTTPConnectionPool(host='www.twse.com.tw', port=80): Max retries exceeded with url: /indicesReport/MI_5MINS_HIST?response=json&date=20180126 (Caused by NewConnectionError('<requests.packages.urllib3.connection.HTTPConnection object at 0x000001D9917DDCF8>: Failed to establish a new connection: [WinError 10061] 無法連線，因為目標電腦拒絕連線。',))\n"
     ]
    },
    {
     "name": "stderr",
     "output_type": "stream",
     "text": [
      "[INFO ] CRAWLER   : Stock is not open on 2018-01-27.\n",
      "[INFO ] CRAWLER   : Stock is not open on 2018-01-27.\n",
      "[INFO ] CRAWLER   : Stock is not open on 2018-01-27.\n",
      "[INFO ] CRAWLER   : Stock is not open on 2018-01-27.\n",
      "[INFO ] CRAWLER   : Stock is not open on 2018-01-28.\n",
      "[INFO ] CRAWLER   : Stock is not open on 2018-01-28.\n",
      "[INFO ] CRAWLER   : Stock is not open on 2018-01-28.\n",
      "[INFO ] CRAWLER   : Stock is not open on 2018-01-28.\n"
     ]
    },
    {
     "name": "stdout",
     "output_type": "stream",
     "text": [
      "list index out of range\n",
      "list index out of range\n"
     ]
    },
    {
     "name": "stderr",
     "output_type": "stream",
     "text": [
      "[INFO ] CRAWLER   : Stock is not open on 2018-01-29.\n",
      "[INFO ] CRAWLER   : Stock is not open on 2018-01-29.\n",
      "[INFO ] CRAWLER   : Stock is not open on 2018-01-29.\n",
      "[INFO ] CRAWLER   : Stock is not open on 2018-01-29.\n"
     ]
    },
    {
     "name": "stdout",
     "output_type": "stream",
     "text": [
      "HTTPConnectionPool(host='www.twse.com.tw', port=80): Max retries exceeded with url: /indicesReport/MI_5MINS_HIST?response=json&date=20180129 (Caused by NewConnectionError('<requests.packages.urllib3.connection.HTTPConnection object at 0x000001D9920D1860>: Failed to establish a new connection: [WinError 10061] 無法連線，因為目標電腦拒絕連線。',))\n"
     ]
    },
    {
     "name": "stderr",
     "output_type": "stream",
     "text": [
      "[INFO ] CRAWLER   : Stock is not open on 2018-01-30.\n",
      "[INFO ] CRAWLER   : Stock is not open on 2018-01-30.\n",
      "[INFO ] CRAWLER   : Stock is not open on 2018-01-30.\n",
      "[INFO ] CRAWLER   : Stock is not open on 2018-01-30.\n"
     ]
    },
    {
     "name": "stdout",
     "output_type": "stream",
     "text": [
      "HTTPConnectionPool(host='www.twse.com.tw', port=80): Max retries exceeded with url: /indicesReport/MI_5MINS_HIST?response=json&date=20180130 (Caused by NewConnectionError('<requests.packages.urllib3.connection.HTTPConnection object at 0x000001D9921F04A8>: Failed to establish a new connection: [WinError 10061] 無法連線，因為目標電腦拒絕連線。',))\n"
     ]
    },
    {
     "name": "stderr",
     "output_type": "stream",
     "text": [
      "[INFO ] CRAWLER   : Stock is not open on 2018-01-31.\n",
      "[INFO ] CRAWLER   : Stock is not open on 2018-01-31.\n",
      "[INFO ] CRAWLER   : Stock is not open on 2018-01-31.\n",
      "[INFO ] CRAWLER   : Stock is not open on 2018-01-31.\n"
     ]
    },
    {
     "name": "stdout",
     "output_type": "stream",
     "text": [
      "HTTPConnectionPool(host='www.twse.com.tw', port=80): Max retries exceeded with url: /indicesReport/MI_5MINS_HIST?response=json&date=20180131 (Caused by NewConnectionError('<requests.packages.urllib3.connection.HTTPConnection object at 0x000001D991D6A0F0>: Failed to establish a new connection: [WinError 10061] 無法連線，因為目標電腦拒絕連線。',))\n"
     ]
    },
    {
     "name": "stderr",
     "output_type": "stream",
     "text": [
      "[INFO ] CRAWLER   : Stock is not open on 2018-02-01.\n",
      "[INFO ] CRAWLER   : Stock is not open on 2018-02-01.\n",
      "[INFO ] CRAWLER   : Stock is not open on 2018-02-01.\n",
      "[INFO ] CRAWLER   : Stock is not open on 2018-02-01.\n"
     ]
    },
    {
     "name": "stdout",
     "output_type": "stream",
     "text": [
      "HTTPConnectionPool(host='www.twse.com.tw', port=80): Max retries exceeded with url: /indicesReport/MI_5MINS_HIST?response=json&date=20180201 (Caused by NewConnectionError('<requests.packages.urllib3.connection.HTTPConnection object at 0x000001D991C21748>: Failed to establish a new connection: [WinError 10061] 無法連線，因為目標電腦拒絕連線。',))\n"
     ]
    },
    {
     "name": "stderr",
     "output_type": "stream",
     "text": [
      "[INFO ] CRAWLER   : Stock is not open on 2018-02-02.\n",
      "[INFO ] CRAWLER   : Stock is not open on 2018-02-02.\n",
      "[INFO ] CRAWLER   : Stock is not open on 2018-02-02.\n",
      "[INFO ] CRAWLER   : Stock is not open on 2018-02-02.\n"
     ]
    },
    {
     "name": "stdout",
     "output_type": "stream",
     "text": [
      "HTTPConnectionPool(host='www.twse.com.tw', port=80): Max retries exceeded with url: /indicesReport/MI_5MINS_HIST?response=json&date=20180202 (Caused by NewConnectionError('<requests.packages.urllib3.connection.HTTPConnection object at 0x000001D991950D30>: Failed to establish a new connection: [WinError 10061] 無法連線，因為目標電腦拒絕連線。',))\n"
     ]
    },
    {
     "name": "stderr",
     "output_type": "stream",
     "text": [
      "[INFO ] CRAWLER   : Stock is not open on 2018-02-03.\n",
      "[INFO ] CRAWLER   : Stock is not open on 2018-02-03.\n",
      "[INFO ] CRAWLER   : Stock is not open on 2018-02-03.\n",
      "[INFO ] CRAWLER   : Stock is not open on 2018-02-03.\n",
      "[INFO ] CRAWLER   : Stock is not open on 2018-02-04.\n",
      "[INFO ] CRAWLER   : Stock is not open on 2018-02-04.\n",
      "[INFO ] CRAWLER   : Stock is not open on 2018-02-04.\n",
      "[INFO ] CRAWLER   : Stock is not open on 2018-02-04.\n"
     ]
    },
    {
     "name": "stdout",
     "output_type": "stream",
     "text": [
      "list index out of range\n",
      "list index out of range\n"
     ]
    },
    {
     "name": "stderr",
     "output_type": "stream",
     "text": [
      "[INFO ] CRAWLER   : Stock is not open on 2018-02-05.\n",
      "[INFO ] CRAWLER   : Stock is not open on 2018-02-05.\n",
      "[INFO ] CRAWLER   : Stock is not open on 2018-02-05.\n",
      "[INFO ] CRAWLER   : Stock is not open on 2018-02-05.\n"
     ]
    },
    {
     "name": "stdout",
     "output_type": "stream",
     "text": [
      "HTTPConnectionPool(host='www.twse.com.tw', port=80): Max retries exceeded with url: /indicesReport/MI_5MINS_HIST?response=json&date=20180205 (Caused by NewConnectionError('<requests.packages.urllib3.connection.HTTPConnection object at 0x000001D99164F198>: Failed to establish a new connection: [WinError 10061] 無法連線，因為目標電腦拒絕連線。',))\n"
     ]
    },
    {
     "name": "stderr",
     "output_type": "stream",
     "text": [
      "[INFO ] CRAWLER   : Stock is not open on 2018-02-06.\n",
      "[INFO ] CRAWLER   : Stock is not open on 2018-02-06.\n",
      "[INFO ] CRAWLER   : Stock is not open on 2018-02-06.\n",
      "[INFO ] CRAWLER   : Stock is not open on 2018-02-06.\n"
     ]
    },
    {
     "name": "stdout",
     "output_type": "stream",
     "text": [
      "HTTPConnectionPool(host='www.twse.com.tw', port=80): Max retries exceeded with url: /indicesReport/MI_5MINS_HIST?response=json&date=20180206 (Caused by NewConnectionError('<requests.packages.urllib3.connection.HTTPConnection object at 0x000001D991D5FF60>: Failed to establish a new connection: [WinError 10061] 無法連線，因為目標電腦拒絕連線。',))\n"
     ]
    },
    {
     "name": "stderr",
     "output_type": "stream",
     "text": [
      "[INFO ] CRAWLER   : Stock is not open on 2018-02-07.\n",
      "[INFO ] CRAWLER   : Stock is not open on 2018-02-07.\n",
      "[INFO ] CRAWLER   : Stock is not open on 2018-02-07.\n",
      "[INFO ] CRAWLER   : Stock is not open on 2018-02-07.\n"
     ]
    },
    {
     "name": "stdout",
     "output_type": "stream",
     "text": [
      "HTTPConnectionPool(host='www.twse.com.tw', port=80): Max retries exceeded with url: /indicesReport/MI_5MINS_HIST?response=json&date=20180207 (Caused by NewConnectionError('<requests.packages.urllib3.connection.HTTPConnection object at 0x000001D991917BE0>: Failed to establish a new connection: [WinError 10061] 無法連線，因為目標電腦拒絕連線。',))\n"
     ]
    },
    {
     "name": "stderr",
     "output_type": "stream",
     "text": [
      "[INFO ] CRAWLER   : Stock is not open on 2018-02-08.\n",
      "[INFO ] CRAWLER   : Stock is not open on 2018-02-08.\n",
      "[INFO ] CRAWLER   : Stock is not open on 2018-02-08.\n",
      "[INFO ] CRAWLER   : Stock is not open on 2018-02-08.\n"
     ]
    },
    {
     "name": "stdout",
     "output_type": "stream",
     "text": [
      "HTTPConnectionPool(host='www.twse.com.tw', port=80): Max retries exceeded with url: /indicesReport/MI_5MINS_HIST?response=json&date=20180208 (Caused by NewConnectionError('<requests.packages.urllib3.connection.HTTPConnection object at 0x000001D992336978>: Failed to establish a new connection: [WinError 10061] 無法連線，因為目標電腦拒絕連線。',))\n"
     ]
    },
    {
     "name": "stderr",
     "output_type": "stream",
     "text": [
      "[INFO ] CRAWLER   : Stock is not open on 2018-02-09.\n",
      "[INFO ] CRAWLER   : Stock is not open on 2018-02-09.\n",
      "[INFO ] CRAWLER   : Stock is not open on 2018-02-09.\n",
      "[INFO ] CRAWLER   : Stock is not open on 2018-02-09.\n"
     ]
    },
    {
     "name": "stdout",
     "output_type": "stream",
     "text": [
      "HTTPConnectionPool(host='www.twse.com.tw', port=80): Max retries exceeded with url: /indicesReport/MI_5MINS_HIST?response=json&date=20180209 (Caused by NewConnectionError('<requests.packages.urllib3.connection.HTTPConnection object at 0x000001D9922CB550>: Failed to establish a new connection: [WinError 10061] 無法連線，因為目標電腦拒絕連線。',))\n"
     ]
    },
    {
     "name": "stderr",
     "output_type": "stream",
     "text": [
      "[INFO ] CRAWLER   : Stock is not open on 2018-02-10.\n",
      "[INFO ] CRAWLER   : Stock is not open on 2018-02-10.\n",
      "[INFO ] CRAWLER   : Stock is not open on 2018-02-10.\n",
      "[INFO ] CRAWLER   : Stock is not open on 2018-02-10.\n"
     ]
    },
    {
     "name": "stdout",
     "output_type": "stream",
     "text": [
      "list index out of range\n"
     ]
    },
    {
     "name": "stderr",
     "output_type": "stream",
     "text": [
      "[INFO ] CRAWLER   : Stock is not open on 2018-02-11.\n",
      "[INFO ] CRAWLER   : Stock is not open on 2018-02-11.\n",
      "[INFO ] CRAWLER   : Stock is not open on 2018-02-11.\n",
      "[INFO ] CRAWLER   : Stock is not open on 2018-02-11.\n"
     ]
    },
    {
     "name": "stdout",
     "output_type": "stream",
     "text": [
      "list index out of range\n"
     ]
    },
    {
     "name": "stderr",
     "output_type": "stream",
     "text": [
      "[INFO ] CRAWLER   : Stock is not open on 2018-02-12.\n",
      "[INFO ] CRAWLER   : Stock is not open on 2018-02-12.\n",
      "[INFO ] CRAWLER   : Stock is not open on 2018-02-12.\n",
      "[INFO ] CRAWLER   : Stock is not open on 2018-02-12.\n"
     ]
    },
    {
     "name": "stdout",
     "output_type": "stream",
     "text": [
      "HTTPConnectionPool(host='www.twse.com.tw', port=80): Max retries exceeded with url: /indicesReport/MI_5MINS_HIST?response=json&date=20180212 (Caused by NewConnectionError('<requests.packages.urllib3.connection.HTTPConnection object at 0x000001D9924859B0>: Failed to establish a new connection: [WinError 10061] 無法連線，因為目標電腦拒絕連線。',))\n"
     ]
    },
    {
     "name": "stderr",
     "output_type": "stream",
     "text": [
      "[INFO ] CRAWLER   : Stock is not open on 2018-02-13.\n",
      "[INFO ] CRAWLER   : Stock is not open on 2018-02-13.\n",
      "[INFO ] CRAWLER   : Stock is not open on 2018-02-13.\n",
      "[INFO ] CRAWLER   : Stock is not open on 2018-02-13.\n",
      "[INFO ] CRAWLER   : Stock is not open on 2018-02-14.\n",
      "[INFO ] CRAWLER   : Stock is not open on 2018-02-14.\n",
      "[INFO ] CRAWLER   : Stock is not open on 2018-02-14.\n",
      "[INFO ] CRAWLER   : Stock is not open on 2018-02-14.\n"
     ]
    },
    {
     "name": "stdout",
     "output_type": "stream",
     "text": [
      "list index out of range\n",
      "list index out of range\n"
     ]
    },
    {
     "name": "stderr",
     "output_type": "stream",
     "text": [
      "[INFO ] CRAWLER   : Stock is not open on 2018-02-15.\n",
      "[INFO ] CRAWLER   : Stock is not open on 2018-02-15.\n",
      "[INFO ] CRAWLER   : Stock is not open on 2018-02-15.\n",
      "[INFO ] CRAWLER   : Stock is not open on 2018-02-15.\n",
      "[INFO ] CRAWLER   : Stock is not open on 2018-02-16.\n",
      "[INFO ] CRAWLER   : Stock is not open on 2018-02-16.\n",
      "[INFO ] CRAWLER   : Stock is not open on 2018-02-16.\n",
      "[INFO ] CRAWLER   : Stock is not open on 2018-02-16.\n"
     ]
    },
    {
     "name": "stdout",
     "output_type": "stream",
     "text": [
      "list index out of range\n",
      "list index out of range\n"
     ]
    },
    {
     "name": "stderr",
     "output_type": "stream",
     "text": [
      "[INFO ] CRAWLER   : Stock is not open on 2018-02-17.\n",
      "[INFO ] CRAWLER   : Stock is not open on 2018-02-17.\n",
      "[INFO ] CRAWLER   : Stock is not open on 2018-02-17.\n",
      "[INFO ] CRAWLER   : Stock is not open on 2018-02-17.\n",
      "[INFO ] CRAWLER   : Stock is not open on 2018-02-18.\n",
      "[INFO ] CRAWLER   : Stock is not open on 2018-02-18.\n",
      "[INFO ] CRAWLER   : Stock is not open on 2018-02-18.\n",
      "[INFO ] CRAWLER   : Stock is not open on 2018-02-18.\n"
     ]
    },
    {
     "name": "stdout",
     "output_type": "stream",
     "text": [
      "list index out of range\n",
      "list index out of range\n"
     ]
    },
    {
     "name": "stderr",
     "output_type": "stream",
     "text": [
      "[INFO ] CRAWLER   : Stock is not open on 2018-02-19.\n",
      "[INFO ] CRAWLER   : Stock is not open on 2018-02-19.\n",
      "[INFO ] CRAWLER   : Stock is not open on 2018-02-19.\n",
      "[INFO ] CRAWLER   : Stock is not open on 2018-02-19.\n"
     ]
    },
    {
     "name": "stdout",
     "output_type": "stream",
     "text": [
      "list index out of range\n"
     ]
    },
    {
     "name": "stderr",
     "output_type": "stream",
     "text": [
      "[INFO ] CRAWLER   : Stock is not open on 2018-02-20.\n",
      "[INFO ] CRAWLER   : Stock is not open on 2018-02-20.\n",
      "[INFO ] CRAWLER   : Stock is not open on 2018-02-20.\n",
      "[INFO ] CRAWLER   : Stock is not open on 2018-02-20.\n"
     ]
    },
    {
     "name": "stdout",
     "output_type": "stream",
     "text": [
      "list index out of range\n"
     ]
    },
    {
     "name": "stderr",
     "output_type": "stream",
     "text": [
      "[INFO ] CRAWLER   : Stock is not open on 2018-02-21.\n",
      "[INFO ] CRAWLER   : Stock is not open on 2018-02-21.\n",
      "[INFO ] CRAWLER   : Stock is not open on 2018-02-21.\n",
      "[INFO ] CRAWLER   : Stock is not open on 2018-02-21.\n"
     ]
    },
    {
     "name": "stdout",
     "output_type": "stream",
     "text": [
      "HTTPConnectionPool(host='www.twse.com.tw', port=80): Max retries exceeded with url: /indicesReport/MI_5MINS_HIST?response=json&date=20180221 (Caused by NewConnectionError('<requests.packages.urllib3.connection.HTTPConnection object at 0x000001D99171EDA0>: Failed to establish a new connection: [WinError 10061] 無法連線，因為目標電腦拒絕連線。',))\n"
     ]
    },
    {
     "name": "stderr",
     "output_type": "stream",
     "text": [
      "[INFO ] CRAWLER   : Stock is not open on 2018-02-22.\n",
      "[INFO ] CRAWLER   : Stock is not open on 2018-02-22.\n",
      "[INFO ] CRAWLER   : Stock is not open on 2018-02-22.\n",
      "[INFO ] CRAWLER   : Stock is not open on 2018-02-22.\n"
     ]
    },
    {
     "name": "stdout",
     "output_type": "stream",
     "text": [
      "HTTPConnectionPool(host='www.twse.com.tw', port=80): Max retries exceeded with url: /indicesReport/MI_5MINS_HIST?response=json&date=20180222 (Caused by NewConnectionError('<requests.packages.urllib3.connection.HTTPConnection object at 0x000001D991F559E8>: Failed to establish a new connection: [WinError 10061] 無法連線，因為目標電腦拒絕連線。',))\n"
     ]
    },
    {
     "name": "stderr",
     "output_type": "stream",
     "text": [
      "[INFO ] CRAWLER   : Stock is not open on 2018-02-23.\n",
      "[INFO ] CRAWLER   : Stock is not open on 2018-02-23.\n",
      "[INFO ] CRAWLER   : Stock is not open on 2018-02-23.\n",
      "[INFO ] CRAWLER   : Stock is not open on 2018-02-23.\n"
     ]
    },
    {
     "name": "stdout",
     "output_type": "stream",
     "text": [
      "HTTPConnectionPool(host='www.twse.com.tw', port=80): Max retries exceeded with url: /indicesReport/MI_5MINS_HIST?response=json&date=20180223 (Caused by NewConnectionError('<requests.packages.urllib3.connection.HTTPConnection object at 0x000001D991CF66D8>: Failed to establish a new connection: [WinError 10061] 無法連線，因為目標電腦拒絕連線。',))\n"
     ]
    },
    {
     "name": "stderr",
     "output_type": "stream",
     "text": [
      "[INFO ] CRAWLER   : Stock is not open on 2018-02-24.\n",
      "[INFO ] CRAWLER   : Stock is not open on 2018-02-24.\n",
      "[INFO ] CRAWLER   : Stock is not open on 2018-02-24.\n",
      "[INFO ] CRAWLER   : Stock is not open on 2018-02-24.\n",
      "[INFO ] CRAWLER   : Stock is not open on 2018-02-25.\n",
      "[INFO ] CRAWLER   : Stock is not open on 2018-02-25.\n",
      "[INFO ] CRAWLER   : Stock is not open on 2018-02-25.\n",
      "[INFO ] CRAWLER   : Stock is not open on 2018-02-25.\n"
     ]
    },
    {
     "name": "stdout",
     "output_type": "stream",
     "text": [
      "list index out of range\n",
      "list index out of range\n"
     ]
    },
    {
     "name": "stderr",
     "output_type": "stream",
     "text": [
      "[INFO ] CRAWLER   : Stock is not open on 2018-02-26.\n",
      "[INFO ] CRAWLER   : Stock is not open on 2018-02-26.\n",
      "[INFO ] CRAWLER   : Stock is not open on 2018-02-26.\n",
      "[INFO ] CRAWLER   : Stock is not open on 2018-02-26.\n"
     ]
    },
    {
     "name": "stdout",
     "output_type": "stream",
     "text": [
      "HTTPConnectionPool(host='www.twse.com.tw', port=80): Max retries exceeded with url: /indicesReport/MI_5MINS_HIST?response=json&date=20180226 (Caused by NewConnectionError('<requests.packages.urllib3.connection.HTTPConnection object at 0x000001D99161B438>: Failed to establish a new connection: [WinError 10061] 無法連線，因為目標電腦拒絕連線。',))\n"
     ]
    },
    {
     "name": "stderr",
     "output_type": "stream",
     "text": [
      "[INFO ] CRAWLER   : Stock is not open on 2018-02-27.\n",
      "[INFO ] CRAWLER   : Stock is not open on 2018-02-27.\n",
      "[INFO ] CRAWLER   : Stock is not open on 2018-02-27.\n",
      "[INFO ] CRAWLER   : Stock is not open on 2018-02-27.\n"
     ]
    },
    {
     "name": "stdout",
     "output_type": "stream",
     "text": [
      "HTTPConnectionPool(host='www.twse.com.tw', port=80): Max retries exceeded with url: /indicesReport/MI_5MINS_HIST?response=json&date=20180227 (Caused by NewConnectionError('<requests.packages.urllib3.connection.HTTPConnection object at 0x000001D991D3B080>: Failed to establish a new connection: [WinError 10061] 無法連線，因為目標電腦拒絕連線。',))\n"
     ]
    },
    {
     "name": "stderr",
     "output_type": "stream",
     "text": [
      "[INFO ] CRAWLER   : Stock is not open on 2018-02-28.\n",
      "[INFO ] CRAWLER   : Stock is not open on 2018-02-28.\n",
      "[INFO ] CRAWLER   : Stock is not open on 2018-02-28.\n",
      "[INFO ] CRAWLER   : Stock is not open on 2018-02-28.\n"
     ]
    },
    {
     "name": "stdout",
     "output_type": "stream",
     "text": [
      "list index out of range\n"
     ]
    },
    {
     "name": "stderr",
     "output_type": "stream",
     "text": [
      "[INFO ] CRAWLER   : Stock is not open on 2018-03-01.\n",
      "[INFO ] CRAWLER   : Stock is not open on 2018-03-01.\n",
      "[INFO ] CRAWLER   : Stock is not open on 2018-03-01.\n",
      "[INFO ] CRAWLER   : Stock is not open on 2018-03-01.\n"
     ]
    },
    {
     "name": "stdout",
     "output_type": "stream",
     "text": [
      "HTTPConnectionPool(host='www.twse.com.tw', port=80): Max retries exceeded with url: /indicesReport/MI_5MINS_HIST?response=json&date=20180301 (Caused by NewConnectionError('<requests.packages.urllib3.connection.HTTPConnection object at 0x000001D991A33AC8>: Failed to establish a new connection: [WinError 10061] 無法連線，因為目標電腦拒絕連線。',))\n"
     ]
    },
    {
     "name": "stderr",
     "output_type": "stream",
     "text": [
      "[INFO ] CRAWLER   : Stock is not open on 2018-03-02.\n",
      "[INFO ] CRAWLER   : Stock is not open on 2018-03-02.\n",
      "[INFO ] CRAWLER   : Stock is not open on 2018-03-02.\n",
      "[INFO ] CRAWLER   : Stock is not open on 2018-03-02.\n"
     ]
    },
    {
     "name": "stdout",
     "output_type": "stream",
     "text": [
      "HTTPConnectionPool(host='www.twse.com.tw', port=80): Max retries exceeded with url: /indicesReport/MI_5MINS_HIST?response=json&date=20180302 (Caused by NewConnectionError('<requests.packages.urllib3.connection.HTTPConnection object at 0x000001D991C23860>: Failed to establish a new connection: [WinError 10061] 無法連線，因為目標電腦拒絕連線。',))\n"
     ]
    },
    {
     "name": "stderr",
     "output_type": "stream",
     "text": [
      "[INFO ] CRAWLER   : Stock is not open on 2018-03-03.\n",
      "[INFO ] CRAWLER   : Stock is not open on 2018-03-03.\n",
      "[INFO ] CRAWLER   : Stock is not open on 2018-03-03.\n",
      "[INFO ] CRAWLER   : Stock is not open on 2018-03-03.\n",
      "[INFO ] CRAWLER   : Stock is not open on 2018-03-04.\n",
      "[INFO ] CRAWLER   : Stock is not open on 2018-03-04.\n",
      "[INFO ] CRAWLER   : Stock is not open on 2018-03-04.\n",
      "[INFO ] CRAWLER   : Stock is not open on 2018-03-04.\n"
     ]
    },
    {
     "name": "stdout",
     "output_type": "stream",
     "text": [
      "list index out of range\n",
      "list index out of range\n"
     ]
    },
    {
     "name": "stderr",
     "output_type": "stream",
     "text": [
      "[INFO ] CRAWLER   : Stock is not open on 2018-03-05.\n",
      "[INFO ] CRAWLER   : Stock is not open on 2018-03-05.\n",
      "[INFO ] CRAWLER   : Stock is not open on 2018-03-05.\n",
      "[INFO ] CRAWLER   : Stock is not open on 2018-03-05.\n"
     ]
    },
    {
     "name": "stdout",
     "output_type": "stream",
     "text": [
      "HTTPConnectionPool(host='www.twse.com.tw', port=80): Max retries exceeded with url: /indicesReport/MI_5MINS_HIST?response=json&date=20180305 (Caused by NewConnectionError('<requests.packages.urllib3.connection.HTTPConnection object at 0x000001D9914EF780>: Failed to establish a new connection: [WinError 10061] 無法連線，因為目標電腦拒絕連線。',))\n"
     ]
    },
    {
     "name": "stderr",
     "output_type": "stream",
     "text": [
      "[INFO ] CRAWLER   : Stock is not open on 2018-03-06.\n",
      "[INFO ] CRAWLER   : Stock is not open on 2018-03-06.\n",
      "[INFO ] CRAWLER   : Stock is not open on 2018-03-06.\n",
      "[INFO ] CRAWLER   : Stock is not open on 2018-03-06.\n"
     ]
    },
    {
     "name": "stdout",
     "output_type": "stream",
     "text": [
      "HTTPConnectionPool(host='www.twse.com.tw', port=80): Max retries exceeded with url: /indicesReport/MI_5MINS_HIST?response=json&date=20180306 (Caused by NewConnectionError('<requests.packages.urllib3.connection.HTTPConnection object at 0x000001D991F36E10>: Failed to establish a new connection: [WinError 10061] 無法連線，因為目標電腦拒絕連線。',))\n"
     ]
    },
    {
     "name": "stderr",
     "output_type": "stream",
     "text": [
      "[INFO ] CRAWLER   : Stock is not open on 2018-03-07.\n",
      "[INFO ] CRAWLER   : Stock is not open on 2018-03-07.\n",
      "[INFO ] CRAWLER   : Stock is not open on 2018-03-07.\n",
      "[INFO ] CRAWLER   : Stock is not open on 2018-03-07.\n"
     ]
    },
    {
     "name": "stdout",
     "output_type": "stream",
     "text": [
      "HTTPConnectionPool(host='www.twse.com.tw', port=80): Max retries exceeded with url: /indicesReport/MI_5MINS_HIST?response=json&date=20180307 (Caused by NewConnectionError('<requests.packages.urllib3.connection.HTTPConnection object at 0x000001D9922DDC18>: Failed to establish a new connection: [WinError 10061] 無法連線，因為目標電腦拒絕連線。',))\n"
     ]
    },
    {
     "name": "stderr",
     "output_type": "stream",
     "text": [
      "[INFO ] CRAWLER   : Stock is not open on 2018-03-08.\n",
      "[INFO ] CRAWLER   : Stock is not open on 2018-03-08.\n",
      "[INFO ] CRAWLER   : Stock is not open on 2018-03-08.\n",
      "[INFO ] CRAWLER   : Stock is not open on 2018-03-08.\n"
     ]
    },
    {
     "name": "stdout",
     "output_type": "stream",
     "text": [
      "HTTPConnectionPool(host='www.twse.com.tw', port=80): Max retries exceeded with url: /indicesReport/MI_5MINS_HIST?response=json&date=20180308 (Caused by NewConnectionError('<requests.packages.urllib3.connection.HTTPConnection object at 0x000001D991528630>: Failed to establish a new connection: [WinError 10061] 無法連線，因為目標電腦拒絕連線。',))\n"
     ]
    },
    {
     "name": "stderr",
     "output_type": "stream",
     "text": [
      "[INFO ] CRAWLER   : Stock is not open on 2018-03-09.\n",
      "[INFO ] CRAWLER   : Stock is not open on 2018-03-09.\n",
      "[INFO ] CRAWLER   : Stock is not open on 2018-03-09.\n",
      "[INFO ] CRAWLER   : Stock is not open on 2018-03-09.\n"
     ]
    },
    {
     "name": "stdout",
     "output_type": "stream",
     "text": [
      "HTTPConnectionPool(host='www.twse.com.tw', port=80): Max retries exceeded with url: /indicesReport/MI_5MINS_HIST?response=json&date=20180309 (Caused by NewConnectionError('<requests.packages.urllib3.connection.HTTPConnection object at 0x000001D99197F048>: Failed to establish a new connection: [WinError 10061] 無法連線，因為目標電腦拒絕連線。',))\n"
     ]
    },
    {
     "name": "stderr",
     "output_type": "stream",
     "text": [
      "[INFO ] CRAWLER   : Stock is not open on 2018-03-10.\n",
      "[INFO ] CRAWLER   : Stock is not open on 2018-03-10.\n",
      "[INFO ] CRAWLER   : Stock is not open on 2018-03-10.\n",
      "[INFO ] CRAWLER   : Stock is not open on 2018-03-10.\n",
      "[INFO ] CRAWLER   : Stock is not open on 2018-03-11.\n",
      "[INFO ] CRAWLER   : Stock is not open on 2018-03-11.\n",
      "[INFO ] CRAWLER   : Stock is not open on 2018-03-11.\n",
      "[INFO ] CRAWLER   : Stock is not open on 2018-03-11.\n"
     ]
    },
    {
     "name": "stdout",
     "output_type": "stream",
     "text": [
      "list index out of range\n",
      "list index out of range\n"
     ]
    },
    {
     "name": "stderr",
     "output_type": "stream",
     "text": [
      "[INFO ] CRAWLER   : Stock is not open on 2018-03-12.\n",
      "[INFO ] CRAWLER   : Stock is not open on 2018-03-12.\n",
      "[INFO ] CRAWLER   : Stock is not open on 2018-03-12.\n",
      "[INFO ] CRAWLER   : Stock is not open on 2018-03-12.\n"
     ]
    },
    {
     "name": "stdout",
     "output_type": "stream",
     "text": [
      "HTTPConnectionPool(host='www.twse.com.tw', port=80): Max retries exceeded with url: /indicesReport/MI_5MINS_HIST?response=json&date=20180312 (Caused by NewConnectionError('<requests.packages.urllib3.connection.HTTPConnection object at 0x000001D992199B70>: Failed to establish a new connection: [WinError 10061] 無法連線，因為目標電腦拒絕連線。',))\n"
     ]
    },
    {
     "name": "stderr",
     "output_type": "stream",
     "text": [
      "[INFO ] CRAWLER   : Stock is not open on 2018-03-13.\n",
      "[INFO ] CRAWLER   : Stock is not open on 2018-03-13.\n",
      "[INFO ] CRAWLER   : Stock is not open on 2018-03-13.\n",
      "[INFO ] CRAWLER   : Stock is not open on 2018-03-13.\n"
     ]
    },
    {
     "name": "stdout",
     "output_type": "stream",
     "text": [
      "HTTPConnectionPool(host='www.twse.com.tw', port=80): Max retries exceeded with url: /indicesReport/MI_5MINS_HIST?response=json&date=20180313 (Caused by NewConnectionError('<requests.packages.urllib3.connection.HTTPConnection object at 0x000001D9918AA5F8>: Failed to establish a new connection: [WinError 10061] 無法連線，因為目標電腦拒絕連線。',))\n"
     ]
    },
    {
     "name": "stderr",
     "output_type": "stream",
     "text": [
      "[INFO ] CRAWLER   : Stock is not open on 2018-03-14.\n",
      "[INFO ] CRAWLER   : Stock is not open on 2018-03-14.\n",
      "[INFO ] CRAWLER   : Stock is not open on 2018-03-14.\n",
      "[INFO ] CRAWLER   : Stock is not open on 2018-03-14.\n"
     ]
    },
    {
     "name": "stdout",
     "output_type": "stream",
     "text": [
      "HTTPConnectionPool(host='www.twse.com.tw', port=80): Max retries exceeded with url: /indicesReport/MI_5MINS_HIST?response=json&date=20180314 (Caused by NewConnectionError('<requests.packages.urllib3.connection.HTTPConnection object at 0x000001D992485828>: Failed to establish a new connection: [WinError 10061] 無法連線，因為目標電腦拒絕連線。',))\n"
     ]
    },
    {
     "name": "stderr",
     "output_type": "stream",
     "text": [
      "[INFO ] CRAWLER   : Stock is not open on 2018-03-15.\n",
      "[INFO ] CRAWLER   : Stock is not open on 2018-03-15.\n",
      "[INFO ] CRAWLER   : Stock is not open on 2018-03-15.\n",
      "[INFO ] CRAWLER   : Stock is not open on 2018-03-15.\n"
     ]
    },
    {
     "name": "stdout",
     "output_type": "stream",
     "text": [
      "HTTPConnectionPool(host='www.twse.com.tw', port=80): Max retries exceeded with url: /indicesReport/MI_5MINS_HIST?response=json&date=20180315 (Caused by NewConnectionError('<requests.packages.urllib3.connection.HTTPConnection object at 0x000001D99189BCC0>: Failed to establish a new connection: [WinError 10061] 無法連線，因為目標電腦拒絕連線。',))\n"
     ]
    },
    {
     "name": "stderr",
     "output_type": "stream",
     "text": [
      "[INFO ] CRAWLER   : Stock is not open on 2018-03-16.\n",
      "[INFO ] CRAWLER   : Stock is not open on 2018-03-16.\n",
      "[INFO ] CRAWLER   : Stock is not open on 2018-03-16.\n",
      "[INFO ] CRAWLER   : Stock is not open on 2018-03-16.\n"
     ]
    },
    {
     "name": "stdout",
     "output_type": "stream",
     "text": [
      "HTTPConnectionPool(host='www.twse.com.tw', port=80): Max retries exceeded with url: /indicesReport/MI_5MINS_HIST?response=json&date=20180316 (Caused by NewConnectionError('<requests.packages.urllib3.connection.HTTPConnection object at 0x000001D9916E9748>: Failed to establish a new connection: [WinError 10061] 無法連線，因為目標電腦拒絕連線。',))\n"
     ]
    },
    {
     "name": "stderr",
     "output_type": "stream",
     "text": [
      "[INFO ] CRAWLER   : Stock is not open on 2018-03-17.\n",
      "[INFO ] CRAWLER   : Stock is not open on 2018-03-17.\n",
      "[INFO ] CRAWLER   : Stock is not open on 2018-03-17.\n",
      "[INFO ] CRAWLER   : Stock is not open on 2018-03-17.\n"
     ]
    },
    {
     "name": "stdout",
     "output_type": "stream",
     "text": [
      "list index out of range\n",
      "list index out of range"
     ]
    },
    {
     "name": "stderr",
     "output_type": "stream",
     "text": [
      "[INFO ] CRAWLER   : Stock is not open on 2018-03-18.\n",
      "[INFO ] CRAWLER   : Stock is not open on 2018-03-18.\n",
      "[INFO ] CRAWLER   : Stock is not open on 2018-03-18.\n",
      "[INFO ] CRAWLER   : Stock is not open on 2018-03-18.\n",
      "[INFO ] CRAWLER   : Stock is not open on 2018-03-19.\n",
      "[INFO ] CRAWLER   : Stock is not open on 2018-03-19.\n",
      "[INFO ] CRAWLER   : Stock is not open on 2018-03-19.\n",
      "[INFO ] CRAWLER   : Stock is not open on 2018-03-19.\n"
     ]
    },
    {
     "name": "stdout",
     "output_type": "stream",
     "text": [
      "\n",
      "HTTPConnectionPool(host='www.twse.com.tw', port=80): Max retries exceeded with url: /indicesReport/MI_5MINS_HIST?response=json&date=20180319 (Caused by NewConnectionError('<requests.packages.urllib3.connection.HTTPConnection object at 0x000001D99205C2B0>: Failed to establish a new connection: [WinError 10061] 無法連線，因為目標電腦拒絕連線。',))\n"
     ]
    },
    {
     "name": "stderr",
     "output_type": "stream",
     "text": [
      "[INFO ] CRAWLER   : Stock is not open on 2018-03-20.\n",
      "[INFO ] CRAWLER   : Stock is not open on 2018-03-20.\n",
      "[INFO ] CRAWLER   : Stock is not open on 2018-03-20.\n",
      "[INFO ] CRAWLER   : Stock is not open on 2018-03-20.\n"
     ]
    },
    {
     "name": "stdout",
     "output_type": "stream",
     "text": [
      "HTTPConnectionPool(host='www.twse.com.tw', port=80): Max retries exceeded with url: /indicesReport/MI_5MINS_HIST?response=json&date=20180320 (Caused by NewConnectionError('<requests.packages.urllib3.connection.HTTPConnection object at 0x000001D9917CCCF8>: Failed to establish a new connection: [WinError 10061] 無法連線，因為目標電腦拒絕連線。',))\n"
     ]
    },
    {
     "name": "stderr",
     "output_type": "stream",
     "text": [
      "[INFO ] CRAWLER   : Stock is not open on 2018-03-21.\n",
      "[INFO ] CRAWLER   : Stock is not open on 2018-03-21.\n",
      "[INFO ] CRAWLER   : Stock is not open on 2018-03-21.\n",
      "[INFO ] CRAWLER   : Stock is not open on 2018-03-21.\n"
     ]
    },
    {
     "name": "stdout",
     "output_type": "stream",
     "text": [
      "HTTPConnectionPool(host='www.twse.com.tw', port=80): Max retries exceeded with url: /indicesReport/MI_5MINS_HIST?response=json&date=20180321 (Caused by NewConnectionError('<requests.packages.urllib3.connection.HTTPConnection object at 0x000001D9926E5B00>: Failed to establish a new connection: [WinError 10061] 無法連線，因為目標電腦拒絕連線。',))\n"
     ]
    },
    {
     "name": "stderr",
     "output_type": "stream",
     "text": [
      "[INFO ] CRAWLER   : Stock is not open on 2018-03-22.\n",
      "[INFO ] CRAWLER   : Stock is not open on 2018-03-22.\n",
      "[INFO ] CRAWLER   : Stock is not open on 2018-03-22.\n",
      "[INFO ] CRAWLER   : Stock is not open on 2018-03-22.\n"
     ]
    },
    {
     "name": "stdout",
     "output_type": "stream",
     "text": [
      "HTTPConnectionPool(host='www.twse.com.tw', port=80): Max retries exceeded with url: /indicesReport/MI_5MINS_HIST?response=json&date=20180322 (Caused by NewConnectionError('<requests.packages.urllib3.connection.HTTPConnection object at 0x000001D991BAB588>: Failed to establish a new connection: [WinError 10061] 無法連線，因為目標電腦拒絕連線。',))\n"
     ]
    },
    {
     "name": "stderr",
     "output_type": "stream",
     "text": [
      "[INFO ] CRAWLER   : Stock is not open on 2018-03-23.\n",
      "[INFO ] CRAWLER   : Stock is not open on 2018-03-23.\n",
      "[INFO ] CRAWLER   : Stock is not open on 2018-03-23.\n",
      "[INFO ] CRAWLER   : Stock is not open on 2018-03-23.\n",
      "[INFO ] CRAWLER   : Stock is not open on 2018-03-24.\n",
      "[INFO ] CRAWLER   : Stock is not open on 2018-03-24.\n",
      "[INFO ] CRAWLER   : Stock is not open on 2018-03-24.\n",
      "[INFO ] CRAWLER   : Stock is not open on 2018-03-24.\n"
     ]
    },
    {
     "name": "stdout",
     "output_type": "stream",
     "text": [
      "HTTPConnectionPool(host='www.twse.com.tw', port=80): Max retries exceeded with url: /indicesReport/MI_5MINS_HIST?response=json&date=20180323 (Caused by NewConnectionError('<requests.packages.urllib3.connection.HTTPConnection object at 0x000001D9927006D8>: Failed to establish a new connection: [WinError 10061] 無法連線，因為目標電腦拒絕連線。',))\n",
      "list index out of range\n"
     ]
    },
    {
     "name": "stderr",
     "output_type": "stream",
     "text": [
      "[INFO ] CRAWLER   : Stock is not open on 2018-03-25.\n",
      "[INFO ] CRAWLER   : Stock is not open on 2018-03-25.\n",
      "[INFO ] CRAWLER   : Stock is not open on 2018-03-25.\n",
      "[INFO ] CRAWLER   : Stock is not open on 2018-03-25.\n"
     ]
    },
    {
     "name": "stdout",
     "output_type": "stream",
     "text": [
      "list index out of range\n"
     ]
    },
    {
     "name": "stderr",
     "output_type": "stream",
     "text": [
      "[INFO ] CRAWLER   : Stock is not open on 2018-03-26.\n",
      "[INFO ] CRAWLER   : Stock is not open on 2018-03-26.\n",
      "[INFO ] CRAWLER   : Stock is not open on 2018-03-26.\n",
      "[INFO ] CRAWLER   : Stock is not open on 2018-03-26.\n"
     ]
    },
    {
     "name": "stdout",
     "output_type": "stream",
     "text": [
      "HTTPConnectionPool(host='www.twse.com.tw', port=80): Max retries exceeded with url: /indicesReport/MI_5MINS_HIST?response=json&date=20180326 (Caused by NewConnectionError('<requests.packages.urllib3.connection.HTTPConnection object at 0x000001D99179C2E8>: Failed to establish a new connection: [WinError 10061] 無法連線，因為目標電腦拒絕連線。',))\n"
     ]
    },
    {
     "name": "stderr",
     "output_type": "stream",
     "text": [
      "[INFO ] CRAWLER   : Stock is not open on 2018-03-27.\n",
      "[INFO ] CRAWLER   : Stock is not open on 2018-03-27.\n",
      "[INFO ] CRAWLER   : Stock is not open on 2018-03-27.\n",
      "[INFO ] CRAWLER   : Stock is not open on 2018-03-27.\n"
     ]
    },
    {
     "name": "stdout",
     "output_type": "stream",
     "text": [
      "HTTPConnectionPool(host='www.twse.com.tw', port=80): Max retries exceeded with url: /indicesReport/MI_5MINS_HIST?response=json&date=20180327 (Caused by NewConnectionError('<requests.packages.urllib3.connection.HTTPConnection object at 0x000001D991D3AB70>: Failed to establish a new connection: [WinError 10061] 無法連線，因為目標電腦拒絕連線。',))\n"
     ]
    },
    {
     "name": "stderr",
     "output_type": "stream",
     "text": [
      "[INFO ] CRAWLER   : Stock is not open on 2018-03-28.\n",
      "[INFO ] CRAWLER   : Stock is not open on 2018-03-28.\n",
      "[INFO ] CRAWLER   : Stock is not open on 2018-03-28.\n",
      "[INFO ] CRAWLER   : Stock is not open on 2018-03-28.\n"
     ]
    },
    {
     "name": "stdout",
     "output_type": "stream",
     "text": [
      "HTTPConnectionPool(host='www.twse.com.tw', port=80): Max retries exceeded with url: /indicesReport/MI_5MINS_HIST?response=json&date=20180328 (Caused by NewConnectionError('<requests.packages.urllib3.connection.HTTPConnection object at 0x000001D9920B0390>: Failed to establish a new connection: [WinError 10061] 無法連線，因為目標電腦拒絕連線。',))\n"
     ]
    },
    {
     "name": "stderr",
     "output_type": "stream",
     "text": [
      "[INFO ] CRAWLER   : Stock is not open on 2018-03-29.\n",
      "[INFO ] CRAWLER   : Stock is not open on 2018-03-29.\n",
      "[INFO ] CRAWLER   : Stock is not open on 2018-03-29.\n",
      "[INFO ] CRAWLER   : Stock is not open on 2018-03-29.\n"
     ]
    },
    {
     "name": "stdout",
     "output_type": "stream",
     "text": [
      "HTTPConnectionPool(host='www.twse.com.tw', port=80): Max retries exceeded with url: /indicesReport/MI_5MINS_HIST?response=json&date=20180329 (Caused by NewConnectionError('<requests.packages.urllib3.connection.HTTPConnection object at 0x000001D99190EE80>: Failed to establish a new connection: [WinError 10061] 無法連線，因為目標電腦拒絕連線。',))\n"
     ]
    },
    {
     "name": "stderr",
     "output_type": "stream",
     "text": [
      "[INFO ] CRAWLER   : Stock is not open on 2018-03-30.\n",
      "[INFO ] CRAWLER   : Stock is not open on 2018-03-30.\n",
      "[INFO ] CRAWLER   : Stock is not open on 2018-03-30.\n",
      "[INFO ] CRAWLER   : Stock is not open on 2018-03-30.\n"
     ]
    },
    {
     "name": "stdout",
     "output_type": "stream",
     "text": [
      "HTTPConnectionPool(host='www.twse.com.tw', port=80): Max retries exceeded with url: /indicesReport/MI_5MINS_HIST?response=json&date=20180330 (Caused by NewConnectionError('<requests.packages.urllib3.connection.HTTPConnection object at 0x000001D991D8C748>: Failed to establish a new connection: [WinError 10061] 無法連線，因為目標電腦拒絕連線。',))\n"
     ]
    },
    {
     "name": "stderr",
     "output_type": "stream",
     "text": [
      "[INFO ] CRAWLER   : Stock is not open on 2018-03-31.\n",
      "[INFO ] CRAWLER   : Stock is not open on 2018-03-31.\n",
      "[INFO ] CRAWLER   : Stock is not open on 2018-03-31.\n",
      "[INFO ] CRAWLER   : Stock is not open on 2018-03-31.\n"
     ]
    },
    {
     "name": "stdout",
     "output_type": "stream",
     "text": [
      "HTTPConnectionPool(host='www.twse.com.tw', port=80): Max retries exceeded with url: /indicesReport/MI_5MINS_HIST?response=json&date=20180331 (Caused by NewConnectionError('<requests.packages.urllib3.connection.HTTPConnection object at 0x000001D991C04C50>: Failed to establish a new connection: [WinError 10061] 無法連線，因為目標電腦拒絕連線。',))\n"
     ]
    },
    {
     "name": "stderr",
     "output_type": "stream",
     "text": [
      "[INFO ] CRAWLER   : Stock is not open on 2018-04-01.\n",
      "[INFO ] CRAWLER   : Stock is not open on 2018-04-01.\n",
      "[INFO ] CRAWLER   : Stock is not open on 2018-04-01.\n",
      "[INFO ] CRAWLER   : Stock is not open on 2018-04-01.\n"
     ]
    },
    {
     "name": "stdout",
     "output_type": "stream",
     "text": [
      "list index out of range\n"
     ]
    },
    {
     "name": "stderr",
     "output_type": "stream",
     "text": [
      "[INFO ] CRAWLER   : Stock is not open on 2018-04-02.\n",
      "[INFO ] CRAWLER   : Stock is not open on 2018-04-02.\n",
      "[INFO ] CRAWLER   : Stock is not open on 2018-04-02.\n",
      "[INFO ] CRAWLER   : Stock is not open on 2018-04-02.\n"
     ]
    },
    {
     "name": "stdout",
     "output_type": "stream",
     "text": [
      "HTTPConnectionPool(host='www.twse.com.tw', port=80): Max retries exceeded with url: /indicesReport/MI_5MINS_HIST?response=json&date=20180402 (Caused by NewConnectionError('<requests.packages.urllib3.connection.HTTPConnection object at 0x000001D991761898>: Failed to establish a new connection: [WinError 10061] 無法連線，因為目標電腦拒絕連線。',))\n"
     ]
    },
    {
     "name": "stderr",
     "output_type": "stream",
     "text": [
      "[INFO ] CRAWLER   : Stock is not open on 2018-04-03.\n",
      "[INFO ] CRAWLER   : Stock is not open on 2018-04-03.\n",
      "[INFO ] CRAWLER   : Stock is not open on 2018-04-03.\n",
      "[INFO ] CRAWLER   : Stock is not open on 2018-04-03.\n"
     ]
    },
    {
     "name": "stdout",
     "output_type": "stream",
     "text": [
      "HTTPConnectionPool(host='www.twse.com.tw', port=80): Max retries exceeded with url: /indicesReport/MI_5MINS_HIST?response=json&date=20180403 (Caused by NewConnectionError('<requests.packages.urllib3.connection.HTTPConnection object at 0x000001D9915652B0>: Failed to establish a new connection: [WinError 10061] 無法連線，因為目標電腦拒絕連線。',))\n"
     ]
    },
    {
     "name": "stderr",
     "output_type": "stream",
     "text": [
      "[INFO ] CRAWLER   : Stock is not open on 2018-04-04.\n",
      "[INFO ] CRAWLER   : Stock is not open on 2018-04-04.\n",
      "[INFO ] CRAWLER   : Stock is not open on 2018-04-04.\n",
      "[INFO ] CRAWLER   : Stock is not open on 2018-04-04.\n",
      "[INFO ] CRAWLER   : Stock is not open on 2018-04-05.\n",
      "[INFO ] CRAWLER   : Stock is not open on 2018-04-05.\n"
     ]
    },
    {
     "name": "stdout",
     "output_type": "stream",
     "text": [
      "list index out of range\n",
      "list index out of range\n"
     ]
    },
    {
     "name": "stderr",
     "output_type": "stream",
     "text": [
      "[INFO ] CRAWLER   : Stock is not open on 2018-04-05.\n",
      "[INFO ] CRAWLER   : Stock is not open on 2018-04-05.\n",
      "[INFO ] CRAWLER   : Stock is not open on 2018-04-06.\n",
      "[INFO ] CRAWLER   : Stock is not open on 2018-04-06.\n",
      "[INFO ] CRAWLER   : Stock is not open on 2018-04-06.\n",
      "[INFO ] CRAWLER   : Stock is not open on 2018-04-06.\n",
      "[INFO ] CRAWLER   : Stock is not open on 2018-04-07.\n",
      "[INFO ] CRAWLER   : Stock is not open on 2018-04-07.\n",
      "[INFO ] CRAWLER   : Stock is not open on 2018-04-07.\n",
      "[INFO ] CRAWLER   : Stock is not open on 2018-04-07.\n"
     ]
    },
    {
     "name": "stdout",
     "output_type": "stream",
     "text": [
      "list index out of range\n",
      "list index out of range\n"
     ]
    },
    {
     "name": "stderr",
     "output_type": "stream",
     "text": [
      "[INFO ] CRAWLER   : Stock is not open on 2018-04-08.\n",
      "[INFO ] CRAWLER   : Stock is not open on 2018-04-08.\n",
      "[INFO ] CRAWLER   : Stock is not open on 2018-04-08.\n",
      "[INFO ] CRAWLER   : Stock is not open on 2018-04-08.\n"
     ]
    },
    {
     "name": "stdout",
     "output_type": "stream",
     "text": [
      "list index out of range\n"
     ]
    },
    {
     "name": "stderr",
     "output_type": "stream",
     "text": [
      "[INFO ] CRAWLER   : Stock is not open on 2018-04-09.\n",
      "[INFO ] CRAWLER   : Stock is not open on 2018-04-09.\n",
      "[INFO ] CRAWLER   : Stock is not open on 2018-04-09.\n",
      "[INFO ] CRAWLER   : Stock is not open on 2018-04-09.\n"
     ]
    },
    {
     "name": "stdout",
     "output_type": "stream",
     "text": [
      "HTTPConnectionPool(host='www.twse.com.tw', port=80): Max retries exceeded with url: /indicesReport/MI_5MINS_HIST?response=json&date=20180409 (Caused by NewConnectionError('<requests.packages.urllib3.connection.HTTPConnection object at 0x000001D9920FC908>: Failed to establish a new connection: [WinError 10061] 無法連線，因為目標電腦拒絕連線。',))\n"
     ]
    },
    {
     "name": "stderr",
     "output_type": "stream",
     "text": [
      "[INFO ] CRAWLER   : Stock is not open on 2018-04-10.\n",
      "[INFO ] CRAWLER   : Stock is not open on 2018-04-10.\n",
      "[INFO ] CRAWLER   : Stock is not open on 2018-04-10.\n",
      "[INFO ] CRAWLER   : Stock is not open on 2018-04-10.\n"
     ]
    },
    {
     "name": "stdout",
     "output_type": "stream",
     "text": [
      "HTTPConnectionPool(host='www.twse.com.tw', port=80): Max retries exceeded with url: /indicesReport/MI_5MINS_HIST?response=json&date=20180410 (Caused by NewConnectionError('<requests.packages.urllib3.connection.HTTPConnection object at 0x000001D9928C5FD0>: Failed to establish a new connection: [WinError 10061] 無法連線，因為目標電腦拒絕連線。',))\n"
     ]
    },
    {
     "name": "stderr",
     "output_type": "stream",
     "text": [
      "[INFO ] CRAWLER   : Stock is not open on 2018-04-11.\n",
      "[INFO ] CRAWLER   : Stock is not open on 2018-04-11.\n",
      "[INFO ] CRAWLER   : Stock is not open on 2018-04-11.\n",
      "[INFO ] CRAWLER   : Stock is not open on 2018-04-11.\n"
     ]
    },
    {
     "name": "stdout",
     "output_type": "stream",
     "text": [
      "HTTPConnectionPool(host='www.twse.com.tw', port=80): Max retries exceeded with url: /indicesReport/MI_5MINS_HIST?response=json&date=20180411 (Caused by NewConnectionError('<requests.packages.urllib3.connection.HTTPConnection object at 0x000001D991565DA0>: Failed to establish a new connection: [WinError 10061] 無法連線，因為目標電腦拒絕連線。',))\n"
     ]
    },
    {
     "name": "stderr",
     "output_type": "stream",
     "text": [
      "[INFO ] CRAWLER   : Stock is not open on 2018-04-12.\n",
      "[INFO ] CRAWLER   : Stock is not open on 2018-04-12.\n",
      "[INFO ] CRAWLER   : Stock is not open on 2018-04-12.\n",
      "[INFO ] CRAWLER   : Stock is not open on 2018-04-12.\n"
     ]
    },
    {
     "name": "stdout",
     "output_type": "stream",
     "text": [
      "HTTPConnectionPool(host='www.twse.com.tw', port=80): Max retries exceeded with url: /indicesReport/MI_5MINS_HIST?response=json&date=20180412 (Caused by NewConnectionError('<requests.packages.urllib3.connection.HTTPConnection object at 0x000001D991BAB470>: Failed to establish a new connection: [WinError 10061] 無法連線，因為目標電腦拒絕連線。',))\n"
     ]
    },
    {
     "name": "stderr",
     "output_type": "stream",
     "text": [
      "[INFO ] CRAWLER   : Stock is not open on 2018-04-13.\n",
      "[INFO ] CRAWLER   : Stock is not open on 2018-04-13.\n",
      "[INFO ] CRAWLER   : Stock is not open on 2018-04-13.\n",
      "[INFO ] CRAWLER   : Stock is not open on 2018-04-13.\n"
     ]
    },
    {
     "name": "stdout",
     "output_type": "stream",
     "text": [
      "HTTPConnectionPool(host='www.twse.com.tw', port=80): Max retries exceeded with url: /indicesReport/MI_5MINS_HIST?response=json&date=20180413 (Caused by NewConnectionError('<requests.packages.urllib3.connection.HTTPConnection object at 0x000001D9918FCA90>: Failed to establish a new connection: [WinError 10061] 無法連線，因為目標電腦拒絕連線。',))\n"
     ]
    },
    {
     "name": "stderr",
     "output_type": "stream",
     "text": [
      "[INFO ] CRAWLER   : Stock is not open on 2018-04-14.\n",
      "[INFO ] CRAWLER   : Stock is not open on 2018-04-14.\n",
      "[INFO ] CRAWLER   : Stock is not open on 2018-04-14.\n",
      "[INFO ] CRAWLER   : Stock is not open on 2018-04-14.\n"
     ]
    },
    {
     "name": "stdout",
     "output_type": "stream",
     "text": [
      "list index out of range\n",
      "list index out of range"
     ]
    },
    {
     "name": "stderr",
     "output_type": "stream",
     "text": [
      "[INFO ] CRAWLER   : Stock is not open on 2018-04-15.\n",
      "[INFO ] CRAWLER   : Stock is not open on 2018-04-15.\n",
      "[INFO ] CRAWLER   : Stock is not open on 2018-04-15.\n",
      "[INFO ] CRAWLER   : Stock is not open on 2018-04-15.\n",
      "[INFO ] CRAWLER   : Stock is not open on 2018-04-16.\n",
      "[INFO ] CRAWLER   : Stock is not open on 2018-04-16.\n",
      "[INFO ] CRAWLER   : Stock is not open on 2018-04-16.\n",
      "[INFO ] CRAWLER   : Stock is not open on 2018-04-16.\n"
     ]
    },
    {
     "name": "stdout",
     "output_type": "stream",
     "text": [
      "\n",
      "HTTPConnectionPool(host='www.twse.com.tw', port=80): Max retries exceeded with url: /indicesReport/MI_5MINS_HIST?response=json&date=20180416 (Caused by NewConnectionError('<requests.packages.urllib3.connection.HTTPConnection object at 0x000001D991AA47B8>: Failed to establish a new connection: [WinError 10061] 無法連線，因為目標電腦拒絕連線。',))\n"
     ]
    },
    {
     "name": "stderr",
     "output_type": "stream",
     "text": [
      "[INFO ] CRAWLER   : Stock is not open on 2018-04-17.\n",
      "[INFO ] CRAWLER   : Stock is not open on 2018-04-17.\n",
      "[INFO ] CRAWLER   : Stock is not open on 2018-04-17.\n",
      "[INFO ] CRAWLER   : Stock is not open on 2018-04-17.\n"
     ]
    },
    {
     "name": "stdout",
     "output_type": "stream",
     "text": [
      "HTTPConnectionPool(host='www.twse.com.tw', port=80): Max retries exceeded with url: /indicesReport/MI_5MINS_HIST?response=json&date=20180417 (Caused by NewConnectionError('<requests.packages.urllib3.connection.HTTPConnection object at 0x000001D9921725C0>: Failed to establish a new connection: [WinError 10061] 無法連線，因為目標電腦拒絕連線。',))\n"
     ]
    },
    {
     "name": "stderr",
     "output_type": "stream",
     "text": [
      "[INFO ] CRAWLER   : Stock is not open on 2018-04-18.\n",
      "[INFO ] CRAWLER   : Stock is not open on 2018-04-18.\n",
      "[INFO ] CRAWLER   : Stock is not open on 2018-04-18.\n",
      "[INFO ] CRAWLER   : Stock is not open on 2018-04-18.\n"
     ]
    },
    {
     "name": "stdout",
     "output_type": "stream",
     "text": [
      "HTTPConnectionPool(host='www.twse.com.tw', port=80): Max retries exceeded with url: /indicesReport/MI_5MINS_HIST?response=json&date=20180418 (Caused by NewConnectionError('<requests.packages.urllib3.connection.HTTPConnection object at 0x000001D992750588>: Failed to establish a new connection: [WinError 10061] 無法連線，因為目標電腦拒絕連線。',))\n"
     ]
    },
    {
     "name": "stderr",
     "output_type": "stream",
     "text": [
      "[INFO ] CRAWLER   : Stock is not open on 2018-04-19.\n",
      "[INFO ] CRAWLER   : Stock is not open on 2018-04-19.\n",
      "[INFO ] CRAWLER   : Stock is not open on 2018-04-19.\n",
      "[INFO ] CRAWLER   : Stock is not open on 2018-04-19.\n"
     ]
    },
    {
     "name": "stdout",
     "output_type": "stream",
     "text": [
      "HTTPConnectionPool(host='www.twse.com.tw', port=80): Max retries exceeded with url: /indicesReport/MI_5MINS_HIST?response=json&date=20180419 (Caused by NewConnectionError('<requests.packages.urllib3.connection.HTTPConnection object at 0x000001D991B7CFD0>: Failed to establish a new connection: [WinError 10061] 無法連線，因為目標電腦拒絕連線。',))\n"
     ]
    },
    {
     "name": "stderr",
     "output_type": "stream",
     "text": [
      "[INFO ] CRAWLER   : Stock is not open on 2018-04-20.\n",
      "[INFO ] CRAWLER   : Stock is not open on 2018-04-20.\n",
      "[INFO ] CRAWLER   : Stock is not open on 2018-04-20.\n",
      "[INFO ] CRAWLER   : Stock is not open on 2018-04-20.\n"
     ]
    },
    {
     "name": "stdout",
     "output_type": "stream",
     "text": [
      "HTTPConnectionPool(host='www.twse.com.tw', port=80): Max retries exceeded with url: /indicesReport/MI_5MINS_HIST?response=json&date=20180420 (Caused by NewConnectionError('<requests.packages.urllib3.connection.HTTPConnection object at 0x000001D9923C7A58>: Failed to establish a new connection: [WinError 10061] 無法連線，因為目標電腦拒絕連線。',))\n"
     ]
    },
    {
     "name": "stderr",
     "output_type": "stream",
     "text": [
      "[INFO ] CRAWLER   : Stock is not open on 2018-04-21.\n",
      "[INFO ] CRAWLER   : Stock is not open on 2018-04-21.\n",
      "[INFO ] CRAWLER   : Stock is not open on 2018-04-21.\n",
      "[INFO ] CRAWLER   : Stock is not open on 2018-04-21.\n",
      "[INFO ] CRAWLER   : Stock is not open on 2018-04-22.\n",
      "[INFO ] CRAWLER   : Stock is not open on 2018-04-22.\n",
      "[INFO ] CRAWLER   : Stock is not open on 2018-04-22.\n",
      "[INFO ] CRAWLER   : Stock is not open on 2018-04-22.\n"
     ]
    },
    {
     "name": "stdout",
     "output_type": "stream",
     "text": [
      "list index out of range\n",
      "list index out of range\n"
     ]
    },
    {
     "name": "stderr",
     "output_type": "stream",
     "text": [
      "[INFO ] CRAWLER   : Stock is not open on 2018-04-23.\n",
      "[INFO ] CRAWLER   : Stock is not open on 2018-04-23.\n",
      "[INFO ] CRAWLER   : Stock is not open on 2018-04-23.\n",
      "[INFO ] CRAWLER   : Stock is not open on 2018-04-23.\n"
     ]
    },
    {
     "name": "stdout",
     "output_type": "stream",
     "text": [
      "HTTPConnectionPool(host='www.twse.com.tw', port=80): Max retries exceeded with url: /indicesReport/MI_5MINS_HIST?response=json&date=20180423 (Caused by NewConnectionError('<requests.packages.urllib3.connection.HTTPConnection object at 0x000001D9928DF6A0>: Failed to establish a new connection: [WinError 10061] 無法連線，因為目標電腦拒絕連線。',))\n"
     ]
    },
    {
     "name": "stderr",
     "output_type": "stream",
     "text": [
      "[INFO ] CRAWLER   : Stock is not open on 2018-04-24.\n",
      "[INFO ] CRAWLER   : Stock is not open on 2018-04-24.\n",
      "[INFO ] CRAWLER   : Stock is not open on 2018-04-24.\n",
      "[INFO ] CRAWLER   : Stock is not open on 2018-04-24.\n"
     ]
    },
    {
     "name": "stdout",
     "output_type": "stream",
     "text": [
      "HTTPConnectionPool(host='www.twse.com.tw', port=80): Max retries exceeded with url: /indicesReport/MI_5MINS_HIST?response=json&date=20180424 (Caused by NewConnectionError('<requests.packages.urllib3.connection.HTTPConnection object at 0x000001D9920D7EB8>: Failed to establish a new connection: [WinError 10061] 無法連線，因為目標電腦拒絕連線。',))\n"
     ]
    },
    {
     "name": "stderr",
     "output_type": "stream",
     "text": [
      "[INFO ] CRAWLER   : Stock is not open on 2018-04-25.\n",
      "[INFO ] CRAWLER   : Stock is not open on 2018-04-25.\n",
      "[INFO ] CRAWLER   : Stock is not open on 2018-04-25.\n",
      "[INFO ] CRAWLER   : Stock is not open on 2018-04-25.\n"
     ]
    },
    {
     "name": "stdout",
     "output_type": "stream",
     "text": [
      "HTTPConnectionPool(host='www.twse.com.tw', port=80): Max retries exceeded with url: /indicesReport/MI_5MINS_HIST?response=json&date=20180425 (Caused by NewConnectionError('<requests.packages.urllib3.connection.HTTPConnection object at 0x000001D99222CB70>: Failed to establish a new connection: [WinError 10061] 無法連線，因為目標電腦拒絕連線。',))\n"
     ]
    },
    {
     "name": "stderr",
     "output_type": "stream",
     "text": [
      "[INFO ] CRAWLER   : Stock is not open on 2018-04-26.\n",
      "[INFO ] CRAWLER   : Stock is not open on 2018-04-26.\n",
      "[INFO ] CRAWLER   : Stock is not open on 2018-04-26.\n",
      "[INFO ] CRAWLER   : Stock is not open on 2018-04-26.\n"
     ]
    },
    {
     "name": "stdout",
     "output_type": "stream",
     "text": [
      "HTTPConnectionPool(host='www.twse.com.tw', port=80): Max retries exceeded with url: /indicesReport/MI_5MINS_HIST?response=json&date=20180426 (Caused by NewConnectionError('<requests.packages.urllib3.connection.HTTPConnection object at 0x000001D991544438>: Failed to establish a new connection: [WinError 10061] 無法連線，因為目標電腦拒絕連線。',))\n"
     ]
    },
    {
     "name": "stderr",
     "output_type": "stream",
     "text": [
      "[INFO ] CRAWLER   : Stock is not open on 2018-04-27.\n",
      "[INFO ] CRAWLER   : Stock is not open on 2018-04-27.\n",
      "[INFO ] CRAWLER   : Stock is not open on 2018-04-27.\n",
      "[INFO ] CRAWLER   : Stock is not open on 2018-04-27.\n"
     ]
    },
    {
     "name": "stdout",
     "output_type": "stream",
     "text": [
      "HTTPConnectionPool(host='www.twse.com.tw', port=80): Max retries exceeded with url: /indicesReport/MI_5MINS_HIST?response=json&date=20180427 (Caused by NewConnectionError('<requests.packages.urllib3.connection.HTTPConnection object at 0x000001D991E10E80>: Failed to establish a new connection: [WinError 10061] 無法連線，因為目標電腦拒絕連線。',))\n"
     ]
    },
    {
     "name": "stderr",
     "output_type": "stream",
     "text": [
      "[INFO ] CRAWLER   : Stock is not open on 2018-04-28.\n",
      "[INFO ] CRAWLER   : Stock is not open on 2018-04-28.\n",
      "[INFO ] CRAWLER   : Stock is not open on 2018-04-28.\n",
      "[INFO ] CRAWLER   : Stock is not open on 2018-04-28.\n",
      "[INFO ] CRAWLER   : Stock is not open on 2018-04-29.\n",
      "[INFO ] CRAWLER   : Stock is not open on 2018-04-29.\n",
      "[INFO ] CRAWLER   : Stock is not open on 2018-04-29.\n",
      "[INFO ] CRAWLER   : Stock is not open on 2018-04-29.\n"
     ]
    },
    {
     "name": "stdout",
     "output_type": "stream",
     "text": [
      "list index out of range\n",
      "list index out of range\n"
     ]
    },
    {
     "name": "stderr",
     "output_type": "stream",
     "text": [
      "[INFO ] CRAWLER   : Stock is not open on 2018-04-30.\n",
      "[INFO ] CRAWLER   : Stock is not open on 2018-04-30.\n",
      "[INFO ] CRAWLER   : Stock is not open on 2018-04-30.\n",
      "[INFO ] CRAWLER   : Stock is not open on 2018-04-30.\n"
     ]
    },
    {
     "name": "stdout",
     "output_type": "stream",
     "text": [
      "HTTPConnectionPool(host='www.twse.com.tw', port=80): Max retries exceeded with url: /indicesReport/MI_5MINS_HIST?response=json&date=20180430 (Caused by NewConnectionError('<requests.packages.urllib3.connection.HTTPConnection object at 0x000001D98E183828>: Failed to establish a new connection: [WinError 10061] 無法連線，因為目標電腦拒絕連線。',))\n",
      "list index out of range"
     ]
    },
    {
     "name": "stderr",
     "output_type": "stream",
     "text": [
      "[INFO ] CRAWLER   : Stock is not open on 2018-05-01.\n",
      "[INFO ] CRAWLER   : Stock is not open on 2018-05-01.\n",
      "[INFO ] CRAWLER   : Stock is not open on 2018-05-01.\n",
      "[INFO ] CRAWLER   : Stock is not open on 2018-05-01.\n"
     ]
    },
    {
     "name": "stdout",
     "output_type": "stream",
     "text": [
      "\n"
     ]
    },
    {
     "name": "stderr",
     "output_type": "stream",
     "text": [
      "[INFO ] CRAWLER   : Stock is not open on 2018-05-02.\n",
      "[INFO ] CRAWLER   : Stock is not open on 2018-05-02.\n",
      "[INFO ] CRAWLER   : Stock is not open on 2018-05-02.\n",
      "[INFO ] CRAWLER   : Stock is not open on 2018-05-02.\n"
     ]
    },
    {
     "name": "stdout",
     "output_type": "stream",
     "text": [
      "HTTPConnectionPool(host='www.twse.com.tw', port=80): Max retries exceeded with url: /indicesReport/MI_5MINS_HIST?response=json&date=20180502 (Caused by NewConnectionError('<requests.packages.urllib3.connection.HTTPConnection object at 0x000001D991AA0EF0>: Failed to establish a new connection: [WinError 10061] 無法連線，因為目標電腦拒絕連線。',))\n"
     ]
    },
    {
     "name": "stderr",
     "output_type": "stream",
     "text": [
      "[INFO ] CRAWLER   : Stock is not open on 2018-05-03.\n",
      "[INFO ] CRAWLER   : Stock is not open on 2018-05-03.\n",
      "[INFO ] CRAWLER   : Stock is not open on 2018-05-03.\n",
      "[INFO ] CRAWLER   : Stock is not open on 2018-05-03.\n"
     ]
    },
    {
     "name": "stdout",
     "output_type": "stream",
     "text": [
      "HTTPConnectionPool(host='www.twse.com.tw', port=80): Max retries exceeded with url: /indicesReport/MI_5MINS_HIST?response=json&date=20180503 (Caused by NewConnectionError('<requests.packages.urllib3.connection.HTTPConnection object at 0x000001D991EB2AC8>: Failed to establish a new connection: [WinError 10061] 無法連線，因為目標電腦拒絕連線。',))\n"
     ]
    },
    {
     "name": "stderr",
     "output_type": "stream",
     "text": [
      "[INFO ] CRAWLER   : Stock is not open on 2018-05-04.\n",
      "[INFO ] CRAWLER   : Stock is not open on 2018-05-04.\n",
      "[INFO ] CRAWLER   : Stock is not open on 2018-05-04.\n",
      "[INFO ] CRAWLER   : Stock is not open on 2018-05-04.\n"
     ]
    },
    {
     "name": "stdout",
     "output_type": "stream",
     "text": [
      "HTTPConnectionPool(host='www.twse.com.tw', port=80): Max retries exceeded with url: /indicesReport/MI_5MINS_HIST?response=json&date=20180504 (Caused by NewConnectionError('<requests.packages.urllib3.connection.HTTPConnection object at 0x000001D991B324E0>: Failed to establish a new connection: [WinError 10061] 無法連線，因為目標電腦拒絕連線。',))\n",
      "list index out of range"
     ]
    },
    {
     "name": "stderr",
     "output_type": "stream",
     "text": [
      "[INFO ] CRAWLER   : Stock is not open on 2018-05-05.\n",
      "[INFO ] CRAWLER   : Stock is not open on 2018-05-05.\n",
      "[INFO ] CRAWLER   : Stock is not open on 2018-05-05.\n",
      "[INFO ] CRAWLER   : Stock is not open on 2018-05-05.\n",
      "[INFO ] CRAWLER   : Stock is not open on 2018-05-06.\n",
      "[INFO ] CRAWLER   : Stock is not open on 2018-05-06.\n",
      "[INFO ] CRAWLER   : Stock is not open on 2018-05-06.\n",
      "[INFO ] CRAWLER   : Stock is not open on 2018-05-06.\n"
     ]
    },
    {
     "name": "stdout",
     "output_type": "stream",
     "text": [
      "\n",
      "list index out of range\n"
     ]
    },
    {
     "name": "stderr",
     "output_type": "stream",
     "text": [
      "[INFO ] CRAWLER   : Stock is not open on 2018-05-07.\n",
      "[INFO ] CRAWLER   : Stock is not open on 2018-05-07.\n",
      "[INFO ] CRAWLER   : Stock is not open on 2018-05-07.\n",
      "[INFO ] CRAWLER   : Stock is not open on 2018-05-07.\n"
     ]
    },
    {
     "name": "stdout",
     "output_type": "stream",
     "text": [
      "HTTPConnectionPool(host='www.twse.com.tw', port=80): Max retries exceeded with url: /indicesReport/MI_5MINS_HIST?response=json&date=20180507 (Caused by NewConnectionError('<requests.packages.urllib3.connection.HTTPConnection object at 0x000001D991C22588>: Failed to establish a new connection: [WinError 10061] 無法連線，因為目標電腦拒絕連線。',))\n"
     ]
    },
    {
     "name": "stderr",
     "output_type": "stream",
     "text": [
      "[INFO ] CRAWLER   : Stock is not open on 2018-05-08.\n",
      "[INFO ] CRAWLER   : Stock is not open on 2018-05-08.\n",
      "[INFO ] CRAWLER   : Stock is not open on 2018-05-08.\n",
      "[INFO ] CRAWLER   : Stock is not open on 2018-05-08.\n"
     ]
    },
    {
     "name": "stdout",
     "output_type": "stream",
     "text": [
      "HTTPConnectionPool(host='www.twse.com.tw', port=80): Max retries exceeded with url: /indicesReport/MI_5MINS_HIST?response=json&date=20180508 (Caused by NewConnectionError('<requests.packages.urllib3.connection.HTTPConnection object at 0x000001D991F94550>: Failed to establish a new connection: [WinError 10061] 無法連線，因為目標電腦拒絕連線。',))\n"
     ]
    },
    {
     "name": "stderr",
     "output_type": "stream",
     "text": [
      "[INFO ] CRAWLER   : Stock is not open on 2018-05-09.\n",
      "[INFO ] CRAWLER   : Stock is not open on 2018-05-09.\n",
      "[INFO ] CRAWLER   : Stock is not open on 2018-05-09.\n",
      "[INFO ] CRAWLER   : Stock is not open on 2018-05-09.\n"
     ]
    },
    {
     "name": "stdout",
     "output_type": "stream",
     "text": [
      "HTTPConnectionPool(host='www.twse.com.tw', port=80): Max retries exceeded with url: /indicesReport/MI_5MINS_HIST?response=json&date=20180509 (Caused by NewConnectionError('<requests.packages.urllib3.connection.HTTPConnection object at 0x000001D9918B2128>: Failed to establish a new connection: [WinError 10061] 無法連線，因為目標電腦拒絕連線。',))\n"
     ]
    },
    {
     "name": "stderr",
     "output_type": "stream",
     "text": [
      "[INFO ] CRAWLER   : Stock is not open on 2018-05-10.\n",
      "[INFO ] CRAWLER   : Stock is not open on 2018-05-10.\n",
      "[INFO ] CRAWLER   : Stock is not open on 2018-05-10.\n",
      "[INFO ] CRAWLER   : Stock is not open on 2018-05-10.\n"
     ]
    },
    {
     "name": "stdout",
     "output_type": "stream",
     "text": [
      "HTTPConnectionPool(host='www.twse.com.tw', port=80): Max retries exceeded with url: /indicesReport/MI_5MINS_HIST?response=json&date=20180510 (Caused by NewConnectionError('<requests.packages.urllib3.connection.HTTPConnection object at 0x000001D992750470>: Failed to establish a new connection: [WinError 10061] 無法連線，因為目標電腦拒絕連線。',))\n"
     ]
    },
    {
     "name": "stderr",
     "output_type": "stream",
     "text": [
      "[INFO ] CRAWLER   : Stock is not open on 2018-05-11.\n",
      "[INFO ] CRAWLER   : Stock is not open on 2018-05-11.\n",
      "[INFO ] CRAWLER   : Stock is not open on 2018-05-11.\n",
      "[INFO ] CRAWLER   : Stock is not open on 2018-05-11.\n"
     ]
    },
    {
     "name": "stdout",
     "output_type": "stream",
     "text": [
      "HTTPConnectionPool(host='www.twse.com.tw', port=80): Max retries exceeded with url: /indicesReport/MI_5MINS_HIST?response=json&date=20180511 (Caused by NewConnectionError('<requests.packages.urllib3.connection.HTTPConnection object at 0x000001D99178C080>: Failed to establish a new connection: [WinError 10061] 無法連線，因為目標電腦拒絕連線。',))\n"
     ]
    },
    {
     "name": "stderr",
     "output_type": "stream",
     "text": [
      "[INFO ] CRAWLER   : Stock is not open on 2018-05-12.\n",
      "[INFO ] CRAWLER   : Stock is not open on 2018-05-12.\n",
      "[INFO ] CRAWLER   : Stock is not open on 2018-05-12.\n",
      "[INFO ] CRAWLER   : Stock is not open on 2018-05-12.\n",
      "[INFO ] CRAWLER   : Stock is not open on 2018-05-13.\n",
      "[INFO ] CRAWLER   : Stock is not open on 2018-05-13.\n",
      "[INFO ] CRAWLER   : Stock is not open on 2018-05-13.\n",
      "[INFO ] CRAWLER   : Stock is not open on 2018-05-13.\n"
     ]
    },
    {
     "name": "stdout",
     "output_type": "stream",
     "text": [
      "list index out of range\n",
      "list index out of range\n"
     ]
    },
    {
     "name": "stderr",
     "output_type": "stream",
     "text": [
      "[INFO ] CRAWLER   : Stock is not open on 2018-05-14.\n",
      "[INFO ] CRAWLER   : Stock is not open on 2018-05-14.\n",
      "[INFO ] CRAWLER   : Stock is not open on 2018-05-14.\n",
      "[INFO ] CRAWLER   : Stock is not open on 2018-05-14.\n"
     ]
    },
    {
     "name": "stdout",
     "output_type": "stream",
     "text": [
      "HTTPConnectionPool(host='www.twse.com.tw', port=80): Max retries exceeded with url: /indicesReport/MI_5MINS_HIST?response=json&date=20180514 (Caused by NewConnectionError('<requests.packages.urllib3.connection.HTTPConnection object at 0x000001D9921BCF28>: Failed to establish a new connection: [WinError 10061] 無法連線，因為目標電腦拒絕連線。',))\n"
     ]
    },
    {
     "name": "stderr",
     "output_type": "stream",
     "text": [
      "[INFO ] CRAWLER   : Stock is not open on 2018-05-15.\n",
      "[INFO ] CRAWLER   : Stock is not open on 2018-05-15.\n",
      "[INFO ] CRAWLER   : Stock is not open on 2018-05-15.\n",
      "[INFO ] CRAWLER   : Stock is not open on 2018-05-15.\n"
     ]
    },
    {
     "name": "stdout",
     "output_type": "stream",
     "text": [
      "HTTPConnectionPool(host='www.twse.com.tw', port=80): Max retries exceeded with url: /indicesReport/MI_5MINS_HIST?response=json&date=20180515 (Caused by NewConnectionError('<requests.packages.urllib3.connection.HTTPConnection object at 0x000001D991E569B0>: Failed to establish a new connection: [WinError 10061] 無法連線，因為目標電腦拒絕連線。',))\n"
     ]
    },
    {
     "name": "stderr",
     "output_type": "stream",
     "text": [
      "[INFO ] CRAWLER   : Stock is not open on 2018-05-16.\n",
      "[INFO ] CRAWLER   : Stock is not open on 2018-05-16.\n",
      "[INFO ] CRAWLER   : Stock is not open on 2018-05-16.\n",
      "[INFO ] CRAWLER   : Stock is not open on 2018-05-16.\n"
     ]
    },
    {
     "name": "stdout",
     "output_type": "stream",
     "text": [
      "HTTPConnectionPool(host='www.twse.com.tw', port=80): Max retries exceeded with url: /indicesReport/MI_5MINS_HIST?response=json&date=20180516 (Caused by NewConnectionError('<requests.packages.urllib3.connection.HTTPConnection object at 0x000001D9920677B8>: Failed to establish a new connection: [WinError 10061] 無法連線，因為目標電腦拒絕連線。',))\n"
     ]
    },
    {
     "name": "stderr",
     "output_type": "stream",
     "text": [
      "[INFO ] CRAWLER   : Stock is not open on 2018-05-17.\n",
      "[INFO ] CRAWLER   : Stock is not open on 2018-05-17.\n",
      "[INFO ] CRAWLER   : Stock is not open on 2018-05-17.\n",
      "[INFO ] CRAWLER   : Stock is not open on 2018-05-17.\n"
     ]
    },
    {
     "name": "stdout",
     "output_type": "stream",
     "text": [
      "HTTPConnectionPool(host='www.twse.com.tw', port=80): Max retries exceeded with url: /indicesReport/MI_5MINS_HIST?response=json&date=20180517 (Caused by NewConnectionError('<requests.packages.urllib3.connection.HTTPConnection object at 0x000001D991965240>: Failed to establish a new connection: [WinError 10061] 無法連線，因為目標電腦拒絕連線。',))\n"
     ]
    },
    {
     "name": "stderr",
     "output_type": "stream",
     "text": [
      "[INFO ] CRAWLER   : Stock is not open on 2018-05-18.\n",
      "[INFO ] CRAWLER   : Stock is not open on 2018-05-18.\n",
      "[INFO ] CRAWLER   : Stock is not open on 2018-05-18.\n",
      "[INFO ] CRAWLER   : Stock is not open on 2018-05-18.\n"
     ]
    },
    {
     "name": "stdout",
     "output_type": "stream",
     "text": [
      "HTTPConnectionPool(host='www.twse.com.tw', port=80): Max retries exceeded with url: /indicesReport/MI_5MINS_HIST?response=json&date=20180518 (Caused by NewConnectionError('<requests.packages.urllib3.connection.HTTPConnection object at 0x000001D991872C88>: Failed to establish a new connection: [WinError 10061] 無法連線，因為目標電腦拒絕連線。',))\n"
     ]
    },
    {
     "name": "stderr",
     "output_type": "stream",
     "text": [
      "[INFO ] CRAWLER   : Stock is not open on 2018-05-19.\n",
      "[INFO ] CRAWLER   : Stock is not open on 2018-05-19.\n",
      "[INFO ] CRAWLER   : Stock is not open on 2018-05-19.\n",
      "[INFO ] CRAWLER   : Stock is not open on 2018-05-19.\n",
      "[INFO ] CRAWLER   : Stock is not open on 2018-05-20.\n",
      "[INFO ] CRAWLER   : Stock is not open on 2018-05-20.\n",
      "[INFO ] CRAWLER   : Stock is not open on 2018-05-20.\n",
      "[INFO ] CRAWLER   : Stock is not open on 2018-05-20.\n"
     ]
    },
    {
     "name": "stdout",
     "output_type": "stream",
     "text": [
      "list index out of range\n",
      "list index out of range\n"
     ]
    },
    {
     "name": "stderr",
     "output_type": "stream",
     "text": [
      "[INFO ] CRAWLER   : Stock is not open on 2018-05-21.\n",
      "[INFO ] CRAWLER   : Stock is not open on 2018-05-21.\n",
      "[INFO ] CRAWLER   : Stock is not open on 2018-05-21.\n",
      "[INFO ] CRAWLER   : Stock is not open on 2018-05-21.\n"
     ]
    },
    {
     "name": "stdout",
     "output_type": "stream",
     "text": [
      "HTTPConnectionPool(host='www.twse.com.tw', port=80): Max retries exceeded with url: /indicesReport/MI_5MINS_HIST?response=json&date=20180521 (Caused by NewConnectionError('<requests.packages.urllib3.connection.HTTPConnection object at 0x000001D99165F6A0>: Failed to establish a new connection: [WinError 10061] 無法連線，因為目標電腦拒絕連線。',))\n"
     ]
    },
    {
     "name": "stderr",
     "output_type": "stream",
     "text": [
      "[INFO ] CRAWLER   : Stock is not open on 2018-05-22.\n",
      "[INFO ] CRAWLER   : Stock is not open on 2018-05-22.\n",
      "[INFO ] CRAWLER   : Stock is not open on 2018-05-22.\n",
      "[INFO ] CRAWLER   : Stock is not open on 2018-05-22.\n"
     ]
    },
    {
     "name": "stdout",
     "output_type": "stream",
     "text": [
      "HTTPConnectionPool(host='www.twse.com.tw', port=80): Max retries exceeded with url: /indicesReport/MI_5MINS_HIST?response=json&date=20180522 (Caused by NewConnectionError('<requests.packages.urllib3.connection.HTTPConnection object at 0x000001D9919EB128>: Failed to establish a new connection: [WinError 10061] 無法連線，因為目標電腦拒絕連線。',))\n"
     ]
    },
    {
     "name": "stderr",
     "output_type": "stream",
     "text": [
      "[INFO ] CRAWLER   : Stock is not open on 2018-05-23.\n",
      "[INFO ] CRAWLER   : Stock is not open on 2018-05-23.\n",
      "[INFO ] CRAWLER   : Stock is not open on 2018-05-23.\n",
      "[INFO ] CRAWLER   : Stock is not open on 2018-05-23.\n"
     ]
    },
    {
     "name": "stdout",
     "output_type": "stream",
     "text": [
      "HTTPConnectionPool(host='www.twse.com.tw', port=80): Max retries exceeded with url: /indicesReport/MI_5MINS_HIST?response=json&date=20180523 (Caused by NewConnectionError('<requests.packages.urllib3.connection.HTTPConnection object at 0x000001D99192CB70>: Failed to establish a new connection: [WinError 10061] 無法連線，因為目標電腦拒絕連線。',))\n"
     ]
    },
    {
     "name": "stderr",
     "output_type": "stream",
     "text": [
      "[INFO ] CRAWLER   : Stock is not open on 2018-05-24.\n",
      "[INFO ] CRAWLER   : Stock is not open on 2018-05-24.\n",
      "[INFO ] CRAWLER   : Stock is not open on 2018-05-24.\n",
      "[INFO ] CRAWLER   : Stock is not open on 2018-05-24.\n"
     ]
    },
    {
     "name": "stdout",
     "output_type": "stream",
     "text": [
      "HTTPConnectionPool(host='www.twse.com.tw', port=80): Max retries exceeded with url: /indicesReport/MI_5MINS_HIST?response=json&date=20180524 (Caused by NewConnectionError('<requests.packages.urllib3.connection.HTTPConnection object at 0x000001D9917CC5F8>: Failed to establish a new connection: [WinError 10061] 無法連線，因為目標電腦拒絕連線。',))\n"
     ]
    },
    {
     "name": "stderr",
     "output_type": "stream",
     "text": [
      "[INFO ] CRAWLER   : Stock is not open on 2018-05-25.\n",
      "[INFO ] CRAWLER   : Stock is not open on 2018-05-25.\n",
      "[INFO ] CRAWLER   : Stock is not open on 2018-05-25.\n",
      "[INFO ] CRAWLER   : Stock is not open on 2018-05-25.\n"
     ]
    },
    {
     "name": "stdout",
     "output_type": "stream",
     "text": [
      "HTTPConnectionPool(host='www.twse.com.tw', port=80): Max retries exceeded with url: /indicesReport/MI_5MINS_HIST?response=json&date=20180525 (Caused by NewConnectionError('<requests.packages.urllib3.connection.HTTPConnection object at 0x000001D9919C9CC0>: Failed to establish a new connection: [WinError 10061] 無法連線，因為目標電腦拒絕連線。',))\n"
     ]
    },
    {
     "name": "stderr",
     "output_type": "stream",
     "text": [
      "[INFO ] CRAWLER   : Stock is not open on 2018-05-26.\n",
      "[INFO ] CRAWLER   : Stock is not open on 2018-05-26.\n",
      "[INFO ] CRAWLER   : Stock is not open on 2018-05-26.\n",
      "[INFO ] CRAWLER   : Stock is not open on 2018-05-26.\n",
      "[INFO ] CRAWLER   : Stock is not open on 2018-05-27.\n",
      "[INFO ] CRAWLER   : Stock is not open on 2018-05-27.\n",
      "[INFO ] CRAWLER   : Stock is not open on 2018-05-27.\n",
      "[INFO ] CRAWLER   : Stock is not open on 2018-05-27.\n"
     ]
    },
    {
     "name": "stdout",
     "output_type": "stream",
     "text": [
      "list index out of range\n",
      "list index out of range\n"
     ]
    },
    {
     "name": "stderr",
     "output_type": "stream",
     "text": [
      "[INFO ] CRAWLER   : Stock is not open on 2018-05-28.\n",
      "[INFO ] CRAWLER   : Stock is not open on 2018-05-28.\n",
      "[INFO ] CRAWLER   : Stock is not open on 2018-05-28.\n",
      "[INFO ] CRAWLER   : Stock is not open on 2018-05-28.\n"
     ]
    },
    {
     "name": "stdout",
     "output_type": "stream",
     "text": [
      "HTTPConnectionPool(host='www.twse.com.tw', port=80): Max retries exceeded with url: /indicesReport/MI_5MINS_HIST?response=json&date=20180528 (Caused by NewConnectionError('<requests.packages.urllib3.connection.HTTPConnection object at 0x000001D991FC4668>: Failed to establish a new connection: [WinError 10061] 無法連線，因為目標電腦拒絕連線。',))\n"
     ]
    },
    {
     "name": "stderr",
     "output_type": "stream",
     "text": [
      "[INFO ] CRAWLER   : Stock is not open on 2018-05-29.\n",
      "[INFO ] CRAWLER   : Stock is not open on 2018-05-29.\n",
      "[INFO ] CRAWLER   : Stock is not open on 2018-05-29.\n",
      "[INFO ] CRAWLER   : Stock is not open on 2018-05-29.\n"
     ]
    },
    {
     "name": "stdout",
     "output_type": "stream",
     "text": [
      "HTTPConnectionPool(host='www.twse.com.tw', port=80): Max retries exceeded with url: /indicesReport/MI_5MINS_HIST?response=json&date=20180529 (Caused by NewConnectionError('<requests.packages.urllib3.connection.HTTPConnection object at 0x000001D991742668>: Failed to establish a new connection: [WinError 10061] 無法連線，因為目標電腦拒絕連線。',))\n"
     ]
    },
    {
     "name": "stderr",
     "output_type": "stream",
     "text": [
      "[INFO ] CRAWLER   : Stock is not open on 2018-05-30.\n",
      "[INFO ] CRAWLER   : Stock is not open on 2018-05-30.\n",
      "[INFO ] CRAWLER   : Stock is not open on 2018-05-30.\n",
      "[INFO ] CRAWLER   : Stock is not open on 2018-05-30.\n"
     ]
    },
    {
     "name": "stdout",
     "output_type": "stream",
     "text": [
      "HTTPConnectionPool(host='www.twse.com.tw', port=80): Max retries exceeded with url: /indicesReport/MI_5MINS_HIST?response=json&date=20180530 (Caused by NewConnectionError('<requests.packages.urllib3.connection.HTTPConnection object at 0x000001D991E5FE48>: Failed to establish a new connection: [WinError 10061] 無法連線，因為目標電腦拒絕連線。',))\n"
     ]
    },
    {
     "name": "stderr",
     "output_type": "stream",
     "text": [
      "[INFO ] CRAWLER   : Stock is not open on 2018-05-31.\n",
      "[INFO ] CRAWLER   : Stock is not open on 2018-05-31.\n",
      "[INFO ] CRAWLER   : Stock is not open on 2018-05-31.\n",
      "[INFO ] CRAWLER   : Stock is not open on 2018-05-31.\n"
     ]
    },
    {
     "name": "stdout",
     "output_type": "stream",
     "text": [
      "HTTPConnectionPool(host='www.twse.com.tw', port=80): Max retries exceeded with url: /indicesReport/MI_5MINS_HIST?response=json&date=20180531 (Caused by NewConnectionError('<requests.packages.urllib3.connection.HTTPConnection object at 0x000001D9921A8A20>: Failed to establish a new connection: [WinError 10061] 無法連線，因為目標電腦拒絕連線。',))\n"
     ]
    },
    {
     "name": "stderr",
     "output_type": "stream",
     "text": [
      "[INFO ] CRAWLER   : Stock is not open on 2018-06-01.\n",
      "[INFO ] CRAWLER   : Stock is not open on 2018-06-01.\n",
      "[INFO ] CRAWLER   : Stock is not open on 2018-06-01.\n",
      "[INFO ] CRAWLER   : Stock is not open on 2018-06-01.\n"
     ]
    },
    {
     "name": "stdout",
     "output_type": "stream",
     "text": [
      "HTTPConnectionPool(host='www.twse.com.tw', port=80): Max retries exceeded with url: /indicesReport/MI_5MINS_HIST?response=json&date=20180601 (Caused by NewConnectionError('<requests.packages.urllib3.connection.HTTPConnection object at 0x000001D991E610B8>: Failed to establish a new connection: [WinError 10061] 無法連線，因為目標電腦拒絕連線。',))\n"
     ]
    },
    {
     "name": "stderr",
     "output_type": "stream",
     "text": [
      "[INFO ] CRAWLER   : Stock is not open on 2018-06-02.\n",
      "[INFO ] CRAWLER   : Stock is not open on 2018-06-02.\n",
      "[INFO ] CRAWLER   : Stock is not open on 2018-06-02.\n",
      "[INFO ] CRAWLER   : Stock is not open on 2018-06-02.\n"
     ]
    },
    {
     "name": "stdout",
     "output_type": "stream",
     "text": [
      "list index out of range\n"
     ]
    },
    {
     "name": "stderr",
     "output_type": "stream",
     "text": [
      "[INFO ] CRAWLER   : Stock is not open on 2018-06-03.\n",
      "[INFO ] CRAWLER   : Stock is not open on 2018-06-03.\n",
      "[INFO ] CRAWLER   : Stock is not open on 2018-06-03.\n",
      "[INFO ] CRAWLER   : Stock is not open on 2018-06-03.\n"
     ]
    },
    {
     "name": "stdout",
     "output_type": "stream",
     "text": [
      "list index out of range\n"
     ]
    },
    {
     "name": "stderr",
     "output_type": "stream",
     "text": [
      "[INFO ] CRAWLER   : Stock is not open on 2018-06-04.\n",
      "[INFO ] CRAWLER   : Stock is not open on 2018-06-04.\n",
      "[INFO ] CRAWLER   : Stock is not open on 2018-06-04.\n",
      "[INFO ] CRAWLER   : Stock is not open on 2018-06-04.\n"
     ]
    },
    {
     "name": "stdout",
     "output_type": "stream",
     "text": [
      "HTTPConnectionPool(host='www.twse.com.tw', port=80): Max retries exceeded with url: /indicesReport/MI_5MINS_HIST?response=json&date=20180604 (Caused by NewConnectionError('<requests.packages.urllib3.connection.HTTPConnection object at 0x000001D991AFDAC8>: Failed to establish a new connection: [WinError 10061] 無法連線，因為目標電腦拒絕連線。',))\n"
     ]
    },
    {
     "name": "stderr",
     "output_type": "stream",
     "text": [
      "[INFO ] CRAWLER   : Stock is not open on 2018-06-05.\n",
      "[INFO ] CRAWLER   : Stock is not open on 2018-06-05.\n",
      "[INFO ] CRAWLER   : Stock is not open on 2018-06-05.\n",
      "[INFO ] CRAWLER   : Stock is not open on 2018-06-05.\n"
     ]
    },
    {
     "name": "stdout",
     "output_type": "stream",
     "text": [
      "HTTPConnectionPool(host='www.twse.com.tw', port=80): Max retries exceeded with url: /indicesReport/MI_5MINS_HIST?response=json&date=20180605 (Caused by NewConnectionError('<requests.packages.urllib3.connection.HTTPConnection object at 0x000001D99222B320>: Failed to establish a new connection: [WinError 10061] 無法連線，因為目標電腦拒絕連線。',))\n"
     ]
    },
    {
     "name": "stderr",
     "output_type": "stream",
     "text": [
      "[INFO ] CRAWLER   : Stock is not open on 2018-06-06.\n",
      "[INFO ] CRAWLER   : Stock is not open on 2018-06-06.\n",
      "[INFO ] CRAWLER   : Stock is not open on 2018-06-06.\n",
      "[INFO ] CRAWLER   : Stock is not open on 2018-06-06.\n"
     ]
    },
    {
     "name": "stdout",
     "output_type": "stream",
     "text": [
      "HTTPConnectionPool(host='www.twse.com.tw', port=80): Max retries exceeded with url: /indicesReport/MI_5MINS_HIST?response=json&date=20180606 (Caused by NewConnectionError('<requests.packages.urllib3.connection.HTTPConnection object at 0x000001D991872B70>: Failed to establish a new connection: [WinError 10061] 無法連線，因為目標電腦拒絕連線。',))\n"
     ]
    },
    {
     "name": "stderr",
     "output_type": "stream",
     "text": [
      "[INFO ] CRAWLER   : Stock is not open on 2018-06-07.\n",
      "[INFO ] CRAWLER   : Stock is not open on 2018-06-07.\n",
      "[INFO ] CRAWLER   : Stock is not open on 2018-06-07.\n",
      "[INFO ] CRAWLER   : Stock is not open on 2018-06-07.\n"
     ]
    },
    {
     "name": "stdout",
     "output_type": "stream",
     "text": [
      "HTTPConnectionPool(host='www.twse.com.tw', port=80): Max retries exceeded with url: /indicesReport/MI_5MINS_HIST?response=json&date=20180607 (Caused by NewConnectionError('<requests.packages.urllib3.connection.HTTPConnection object at 0x000001D992250358>: Failed to establish a new connection: [WinError 10061] 無法連線，因為目標電腦拒絕連線。',))\n"
     ]
    },
    {
     "name": "stderr",
     "output_type": "stream",
     "text": [
      "[INFO ] CRAWLER   : Stock is not open on 2018-06-08.\n",
      "[INFO ] CRAWLER   : Stock is not open on 2018-06-08.\n",
      "[INFO ] CRAWLER   : Stock is not open on 2018-06-08.\n",
      "[INFO ] CRAWLER   : Stock is not open on 2018-06-08.\n"
     ]
    },
    {
     "name": "stdout",
     "output_type": "stream",
     "text": [
      "HTTPConnectionPool(host='www.twse.com.tw', port=80): Max retries exceeded with url: /indicesReport/MI_5MINS_HIST?response=json&date=20180608 (Caused by NewConnectionError('<requests.packages.urllib3.connection.HTTPConnection object at 0x000001D9915643C8>: Failed to establish a new connection: [WinError 10061] 無法連線，因為目標電腦拒絕連線。',))\n"
     ]
    },
    {
     "name": "stderr",
     "output_type": "stream",
     "text": [
      "[INFO ] CRAWLER   : Stock is not open on 2018-06-09.\n",
      "[INFO ] CRAWLER   : Stock is not open on 2018-06-09.\n",
      "[INFO ] CRAWLER   : Stock is not open on 2018-06-09.\n",
      "[INFO ] CRAWLER   : Stock is not open on 2018-06-09.\n",
      "[INFO ] CRAWLER   : Stock is not open on 2018-06-10.\n",
      "[INFO ] CRAWLER   : Stock is not open on 2018-06-10.\n",
      "[INFO ] CRAWLER   : Stock is not open on 2018-06-10.\n",
      "[INFO ] CRAWLER   : Stock is not open on 2018-06-10.\n"
     ]
    },
    {
     "name": "stdout",
     "output_type": "stream",
     "text": [
      "list index out of range\n",
      "list index out of range\n"
     ]
    },
    {
     "name": "stderr",
     "output_type": "stream",
     "text": [
      "[INFO ] CRAWLER   : Stock is not open on 2018-06-11.\n",
      "[INFO ] CRAWLER   : Stock is not open on 2018-06-11.\n",
      "[INFO ] CRAWLER   : Stock is not open on 2018-06-11.\n",
      "[INFO ] CRAWLER   : Stock is not open on 2018-06-11.\n"
     ]
    },
    {
     "name": "stdout",
     "output_type": "stream",
     "text": [
      "HTTPConnectionPool(host='www.twse.com.tw', port=80): Max retries exceeded with url: /indicesReport/MI_5MINS_HIST?response=json&date=20180611 (Caused by NewConnectionError('<requests.packages.urllib3.connection.HTTPConnection object at 0x000001D99267E1D0>: Failed to establish a new connection: [WinError 10061] 無法連線，因為目標電腦拒絕連線。',))\n"
     ]
    },
    {
     "name": "stderr",
     "output_type": "stream",
     "text": [
      "[INFO ] CRAWLER   : Stock is not open on 2018-06-12.\n",
      "[INFO ] CRAWLER   : Stock is not open on 2018-06-12.\n",
      "[INFO ] CRAWLER   : Stock is not open on 2018-06-12.\n",
      "[INFO ] CRAWLER   : Stock is not open on 2018-06-12.\n"
     ]
    },
    {
     "name": "stdout",
     "output_type": "stream",
     "text": [
      "HTTPConnectionPool(host='www.twse.com.tw', port=80): Max retries exceeded with url: /indicesReport/MI_5MINS_HIST?response=json&date=20180612 (Caused by NewConnectionError('<requests.packages.urllib3.connection.HTTPConnection object at 0x000001D99229D6D8>: Failed to establish a new connection: [WinError 10061] 無法連線，因為目標電腦拒絕連線。',))\n"
     ]
    },
    {
     "name": "stderr",
     "output_type": "stream",
     "text": [
      "[INFO ] CRAWLER   : Stock is not open on 2018-06-13.\n",
      "[INFO ] CRAWLER   : Stock is not open on 2018-06-13.\n",
      "[INFO ] CRAWLER   : Stock is not open on 2018-06-13.\n",
      "[INFO ] CRAWLER   : Stock is not open on 2018-06-13.\n"
     ]
    },
    {
     "name": "stdout",
     "output_type": "stream",
     "text": [
      "HTTPConnectionPool(host='www.twse.com.tw', port=80): Max retries exceeded with url: /indicesReport/MI_5MINS_HIST?response=json&date=20180613 (Caused by NewConnectionError('<requests.packages.urllib3.connection.HTTPConnection object at 0x000001D9923A9DA0>: Failed to establish a new connection: [WinError 10061] 無法連線，因為目標電腦拒絕連線。',))\n"
     ]
    },
    {
     "name": "stderr",
     "output_type": "stream",
     "text": [
      "[INFO ] CRAWLER   : Stock is not open on 2018-06-14.\n",
      "[INFO ] CRAWLER   : Stock is not open on 2018-06-14.\n",
      "[INFO ] CRAWLER   : Stock is not open on 2018-06-14.\n",
      "[INFO ] CRAWLER   : Stock is not open on 2018-06-14.\n"
     ]
    },
    {
     "name": "stdout",
     "output_type": "stream",
     "text": [
      "HTTPConnectionPool(host='www.twse.com.tw', port=80): Max retries exceeded with url: /indicesReport/MI_5MINS_HIST?response=json&date=20180614 (Caused by NewConnectionError('<requests.packages.urllib3.connection.HTTPConnection object at 0x000001D9918DF9E8>: Failed to establish a new connection: [WinError 10061] 無法連線，因為目標電腦拒絕連線。',))\n"
     ]
    },
    {
     "name": "stderr",
     "output_type": "stream",
     "text": [
      "[INFO ] CRAWLER   : Stock is not open on 2018-06-15.\n",
      "[INFO ] CRAWLER   : Stock is not open on 2018-06-15.\n",
      "[INFO ] CRAWLER   : Stock is not open on 2018-06-15.\n",
      "[INFO ] CRAWLER   : Stock is not open on 2018-06-15.\n"
     ]
    },
    {
     "name": "stdout",
     "output_type": "stream",
     "text": [
      "HTTPConnectionPool(host='www.twse.com.tw', port=80): Max retries exceeded with url: /indicesReport/MI_5MINS_HIST?response=json&date=20180615 (Caused by NewConnectionError('<requests.packages.urllib3.connection.HTTPConnection object at 0x000001D991A38630>: Failed to establish a new connection: [WinError 10061] 無法連線，因為目標電腦拒絕連線。',))\n"
     ]
    },
    {
     "name": "stderr",
     "output_type": "stream",
     "text": [
      "[INFO ] CRAWLER   : Stock is not open on 2018-06-16.\n",
      "[INFO ] CRAWLER   : Stock is not open on 2018-06-16.\n",
      "[INFO ] CRAWLER   : Stock is not open on 2018-06-16.\n",
      "[INFO ] CRAWLER   : Stock is not open on 2018-06-16.\n"
     ]
    },
    {
     "name": "stdout",
     "output_type": "stream",
     "text": [
      "list index out of range\n"
     ]
    },
    {
     "name": "stderr",
     "output_type": "stream",
     "text": [
      "[INFO ] CRAWLER   : Stock is not open on 2018-06-17.\n",
      "[INFO ] CRAWLER   : Stock is not open on 2018-06-17.\n",
      "[INFO ] CRAWLER   : Stock is not open on 2018-06-17.\n",
      "[INFO ] CRAWLER   : Stock is not open on 2018-06-17.\n"
     ]
    },
    {
     "name": "stdout",
     "output_type": "stream",
     "text": [
      "list index out of range\n"
     ]
    },
    {
     "name": "stderr",
     "output_type": "stream",
     "text": [
      "[INFO ] CRAWLER   : Stock is not open on 2018-06-18.\n",
      "[INFO ] CRAWLER   : Stock is not open on 2018-06-18.\n",
      "[INFO ] CRAWLER   : Stock is not open on 2018-06-18.\n",
      "[INFO ] CRAWLER   : Stock is not open on 2018-06-18.\n"
     ]
    },
    {
     "name": "stdout",
     "output_type": "stream",
     "text": [
      "list index out of range\n"
     ]
    },
    {
     "name": "stderr",
     "output_type": "stream",
     "text": [
      "[INFO ] CRAWLER   : Stock is not open on 2018-06-19.\n",
      "[INFO ] CRAWLER   : Stock is not open on 2018-06-19.\n",
      "[INFO ] CRAWLER   : Stock is not open on 2018-06-19.\n",
      "[INFO ] CRAWLER   : Stock is not open on 2018-06-19.\n"
     ]
    },
    {
     "name": "stdout",
     "output_type": "stream",
     "text": [
      "HTTPConnectionPool(host='www.twse.com.tw', port=80): Max retries exceeded with url: /indicesReport/MI_5MINS_HIST?response=json&date=20180619 (Caused by NewConnectionError('<requests.packages.urllib3.connection.HTTPConnection object at 0x000001D991EDFC18>: Failed to establish a new connection: [WinError 10061] 無法連線，因為目標電腦拒絕連線。',))\n"
     ]
    },
    {
     "name": "stderr",
     "output_type": "stream",
     "text": [
      "[INFO ] CRAWLER   : Stock is not open on 2018-06-20.\n",
      "[INFO ] CRAWLER   : Stock is not open on 2018-06-20.\n",
      "[INFO ] CRAWLER   : Stock is not open on 2018-06-20.\n",
      "[INFO ] CRAWLER   : Stock is not open on 2018-06-20.\n"
     ]
    },
    {
     "name": "stdout",
     "output_type": "stream",
     "text": [
      "HTTPConnectionPool(host='www.twse.com.tw', port=80): Max retries exceeded with url: /indicesReport/MI_5MINS_HIST?response=json&date=20180620 (Caused by NewConnectionError('<requests.packages.urllib3.connection.HTTPConnection object at 0x000001D9928CFBE0>: Failed to establish a new connection: [WinError 10061] 無法連線，因為目標電腦拒絕連線。',))\n"
     ]
    },
    {
     "name": "stderr",
     "output_type": "stream",
     "text": [
      "[INFO ] CRAWLER   : Stock is not open on 2018-06-21.\n",
      "[INFO ] CRAWLER   : Stock is not open on 2018-06-21.\n",
      "[INFO ] CRAWLER   : Stock is not open on 2018-06-21.\n",
      "[INFO ] CRAWLER   : Stock is not open on 2018-06-21.\n"
     ]
    },
    {
     "name": "stdout",
     "output_type": "stream",
     "text": [
      "HTTPConnectionPool(host='www.twse.com.tw', port=80): Max retries exceeded with url: /indicesReport/MI_5MINS_HIST?response=json&date=20180621 (Caused by NewConnectionError('<requests.packages.urllib3.connection.HTTPConnection object at 0x000001D991DEF668>: Failed to establish a new connection: [WinError 10061] 無法連線，因為目標電腦拒絕連線。',))\n"
     ]
    },
    {
     "name": "stderr",
     "output_type": "stream",
     "text": [
      "[INFO ] CRAWLER   : Stock is not open on 2018-06-22.\n",
      "[INFO ] CRAWLER   : Stock is not open on 2018-06-22.\n",
      "[INFO ] CRAWLER   : Stock is not open on 2018-06-22.\n",
      "[INFO ] CRAWLER   : Stock is not open on 2018-06-22.\n"
     ]
    },
    {
     "name": "stdout",
     "output_type": "stream",
     "text": [
      "HTTPConnectionPool(host='www.twse.com.tw', port=80): Max retries exceeded with url: /indicesReport/MI_5MINS_HIST?response=json&date=20180622 (Caused by NewConnectionError('<requests.packages.urllib3.connection.HTTPConnection object at 0x000001D9926E30F0>: Failed to establish a new connection: [WinError 10061] 無法連線，因為目標電腦拒絕連線。',))\n"
     ]
    },
    {
     "name": "stderr",
     "output_type": "stream",
     "text": [
      "[INFO ] CRAWLER   : Stock is not open on 2018-06-23.\n",
      "[INFO ] CRAWLER   : Stock is not open on 2018-06-23.\n",
      "[INFO ] CRAWLER   : Stock is not open on 2018-06-23.\n",
      "[INFO ] CRAWLER   : Stock is not open on 2018-06-23.\n",
      "[INFO ] CRAWLER   : Stock is not open on 2018-06-24.\n",
      "[INFO ] CRAWLER   : Stock is not open on 2018-06-24.\n",
      "[INFO ] CRAWLER   : Stock is not open on 2018-06-24.\n",
      "[INFO ] CRAWLER   : Stock is not open on 2018-06-24.\n"
     ]
    },
    {
     "name": "stdout",
     "output_type": "stream",
     "text": [
      "list index out of range\n",
      "list index out of range\n"
     ]
    },
    {
     "name": "stderr",
     "output_type": "stream",
     "text": [
      "[INFO ] CRAWLER   : Stock is not open on 2018-06-25.\n",
      "[INFO ] CRAWLER   : Stock is not open on 2018-06-25.\n",
      "[INFO ] CRAWLER   : Stock is not open on 2018-06-25.\n",
      "[INFO ] CRAWLER   : Stock is not open on 2018-06-25.\n"
     ]
    },
    {
     "name": "stdout",
     "output_type": "stream",
     "text": [
      "HTTPConnectionPool(host='www.twse.com.tw', port=80): Max retries exceeded with url: /indicesReport/MI_5MINS_HIST?response=json&date=20180625 (Caused by NewConnectionError('<requests.packages.urllib3.connection.HTTPConnection object at 0x000001D9923109E8>: Failed to establish a new connection: [WinError 10061] 無法連線，因為目標電腦拒絕連線。',))\n"
     ]
    },
    {
     "name": "stderr",
     "output_type": "stream",
     "text": [
      "[INFO ] CRAWLER   : Stock is not open on 2018-06-26.\n",
      "[INFO ] CRAWLER   : Stock is not open on 2018-06-26.\n",
      "[INFO ] CRAWLER   : Stock is not open on 2018-06-26.\n",
      "[INFO ] CRAWLER   : Stock is not open on 2018-06-26.\n"
     ]
    },
    {
     "name": "stdout",
     "output_type": "stream",
     "text": [
      "HTTPConnectionPool(host='www.twse.com.tw', port=80): Max retries exceeded with url: /indicesReport/MI_5MINS_HIST?response=json&date=20180626 (Caused by NewConnectionError('<requests.packages.urllib3.connection.HTTPConnection object at 0x000001D991A38128>: Failed to establish a new connection: [WinError 10061] 無法連線，因為目標電腦拒絕連線。',))\n"
     ]
    },
    {
     "name": "stderr",
     "output_type": "stream",
     "text": [
      "[INFO ] CRAWLER   : Stock is not open on 2018-06-27.\n",
      "[INFO ] CRAWLER   : Stock is not open on 2018-06-27.\n",
      "[INFO ] CRAWLER   : Stock is not open on 2018-06-27.\n",
      "[INFO ] CRAWLER   : Stock is not open on 2018-06-27.\n"
     ]
    },
    {
     "name": "stdout",
     "output_type": "stream",
     "text": [
      "HTTPConnectionPool(host='www.twse.com.tw', port=80): Max retries exceeded with url: /indicesReport/MI_5MINS_HIST?response=json&date=20180627 (Caused by NewConnectionError('<requests.packages.urllib3.connection.HTTPConnection object at 0x000001D991EBADD8>: Failed to establish a new connection: [WinError 10061] 無法連線，因為目標電腦拒絕連線。',))\n"
     ]
    },
    {
     "name": "stderr",
     "output_type": "stream",
     "text": [
      "[INFO ] CRAWLER   : Stock is not open on 2018-06-28.\n",
      "[INFO ] CRAWLER   : Stock is not open on 2018-06-28.\n",
      "[INFO ] CRAWLER   : Stock is not open on 2018-06-28.\n",
      "[INFO ] CRAWLER   : Stock is not open on 2018-06-28.\n"
     ]
    },
    {
     "name": "stdout",
     "output_type": "stream",
     "text": [
      "HTTPConnectionPool(host='www.twse.com.tw', port=80): Max retries exceeded with url: /indicesReport/MI_5MINS_HIST?response=json&date=20180628 (Caused by NewConnectionError('<requests.packages.urllib3.connection.HTTPConnection object at 0x000001D9922886A0>: Failed to establish a new connection: [WinError 10061] 無法連線，因為目標電腦拒絕連線。',))\n"
     ]
    },
    {
     "name": "stderr",
     "output_type": "stream",
     "text": [
      "[INFO ] CRAWLER   : Stock is not open on 2018-06-29.\n",
      "[INFO ] CRAWLER   : Stock is not open on 2018-06-29.\n",
      "[INFO ] CRAWLER   : Stock is not open on 2018-06-29.\n",
      "[INFO ] CRAWLER   : Stock is not open on 2018-06-29.\n"
     ]
    },
    {
     "name": "stdout",
     "output_type": "stream",
     "text": [
      "HTTPConnectionPool(host='www.twse.com.tw', port=80): Max retries exceeded with url: /indicesReport/MI_5MINS_HIST?response=json&date=20180629 (Caused by NewConnectionError('<requests.packages.urllib3.connection.HTTPConnection object at 0x000001D9915232E8>: Failed to establish a new connection: [WinError 10061] 無法連線，因為目標電腦拒絕連線。',))\n"
     ]
    },
    {
     "name": "stderr",
     "output_type": "stream",
     "text": [
      "[INFO ] CRAWLER   : Stock is not open on 2018-06-30.\n",
      "[INFO ] CRAWLER   : Stock is not open on 2018-06-30.\n",
      "[INFO ] CRAWLER   : Stock is not open on 2018-06-30.\n",
      "[INFO ] CRAWLER   : Stock is not open on 2018-06-30.\n",
      "[INFO ] CRAWLER   : Stock is not open on 2018-07-01.\n",
      "[INFO ] CRAWLER   : Stock is not open on 2018-07-01.\n",
      "[INFO ] CRAWLER   : Stock is not open on 2018-07-01.\n",
      "[INFO ] CRAWLER   : Stock is not open on 2018-07-01.\n"
     ]
    },
    {
     "name": "stdout",
     "output_type": "stream",
     "text": [
      "list index out of range\n",
      "list index out of range\n"
     ]
    },
    {
     "name": "stderr",
     "output_type": "stream",
     "text": [
      "[INFO ] CRAWLER   : Stock is not open on 2018-07-02.\n",
      "[INFO ] CRAWLER   : Stock is not open on 2018-07-02.\n",
      "[INFO ] CRAWLER   : Stock is not open on 2018-07-02.\n",
      "[INFO ] CRAWLER   : Stock is not open on 2018-07-02.\n"
     ]
    },
    {
     "name": "stdout",
     "output_type": "stream",
     "text": [
      "HTTPConnectionPool(host='www.twse.com.tw', port=80): Max retries exceeded with url: /indicesReport/MI_5MINS_HIST?response=json&date=20180702 (Caused by NewConnectionError('<requests.packages.urllib3.connection.HTTPConnection object at 0x000001D99181E470>: Failed to establish a new connection: [WinError 10061] 無法連線，因為目標電腦拒絕連線。',))\n"
     ]
    },
    {
     "name": "stderr",
     "output_type": "stream",
     "text": [
      "[INFO ] CRAWLER   : Stock is not open on 2018-07-03.\n",
      "[INFO ] CRAWLER   : Stock is not open on 2018-07-03.\n",
      "[INFO ] CRAWLER   : Stock is not open on 2018-07-03.\n",
      "[INFO ] CRAWLER   : Stock is not open on 2018-07-03.\n"
     ]
    },
    {
     "name": "stdout",
     "output_type": "stream",
     "text": [
      "HTTPConnectionPool(host='www.twse.com.tw', port=80): Max retries exceeded with url: /indicesReport/MI_5MINS_HIST?response=json&date=20180703 (Caused by NewConnectionError('<requests.packages.urllib3.connection.HTTPConnection object at 0x000001D992189DD8>: Failed to establish a new connection: [WinError 10061] 無法連線，因為目標電腦拒絕連線。',))\n"
     ]
    },
    {
     "name": "stderr",
     "output_type": "stream",
     "text": [
      "[INFO ] CRAWLER   : Stock is not open on 2018-07-04.\n",
      "[INFO ] CRAWLER   : Stock is not open on 2018-07-04.\n",
      "[INFO ] CRAWLER   : Stock is not open on 2018-07-04.\n",
      "[INFO ] CRAWLER   : Stock is not open on 2018-07-04.\n"
     ]
    },
    {
     "name": "stdout",
     "output_type": "stream",
     "text": [
      "HTTPConnectionPool(host='www.twse.com.tw', port=80): Max retries exceeded with url: /indicesReport/MI_5MINS_HIST?response=json&date=20180704 (Caused by NewConnectionError('<requests.packages.urllib3.connection.HTTPConnection object at 0x000001D991A38518>: Failed to establish a new connection: [WinError 10061] 無法連線，因為目標電腦拒絕連線。',))\n"
     ]
    },
    {
     "name": "stderr",
     "output_type": "stream",
     "text": [
      "[INFO ] CRAWLER   : Stock is not open on 2018-07-05.\n",
      "[INFO ] CRAWLER   : Stock is not open on 2018-07-05.\n",
      "[INFO ] CRAWLER   : Stock is not open on 2018-07-05.\n",
      "[INFO ] CRAWLER   : Stock is not open on 2018-07-05.\n"
     ]
    },
    {
     "name": "stdout",
     "output_type": "stream",
     "text": [
      "HTTPConnectionPool(host='www.twse.com.tw', port=80): Max retries exceeded with url: /indicesReport/MI_5MINS_HIST?response=json&date=20180705 (Caused by NewConnectionError('<requests.packages.urllib3.connection.HTTPConnection object at 0x000001D99139AD30>: Failed to establish a new connection: [WinError 10061] 無法連線，因為目標電腦拒絕連線。',))\n"
     ]
    },
    {
     "name": "stderr",
     "output_type": "stream",
     "text": [
      "[INFO ] CRAWLER   : Stock is not open on 2018-07-06.\n",
      "[INFO ] CRAWLER   : Stock is not open on 2018-07-06.\n",
      "[INFO ] CRAWLER   : Stock is not open on 2018-07-06.\n",
      "[INFO ] CRAWLER   : Stock is not open on 2018-07-06.\n"
     ]
    },
    {
     "name": "stdout",
     "output_type": "stream",
     "text": [
      "HTTPConnectionPool(host='www.twse.com.tw', port=80): Max retries exceeded with url: /indicesReport/MI_5MINS_HIST?response=json&date=20180706 (Caused by NewConnectionError('<requests.packages.urllib3.connection.HTTPConnection object at 0x000001D9922BE0B8>: Failed to establish a new connection: [WinError 10061] 無法連線，因為目標電腦拒絕連線。',))\n"
     ]
    },
    {
     "name": "stderr",
     "output_type": "stream",
     "text": [
      "[INFO ] CRAWLER   : Stock is not open on 2018-07-07.\n",
      "[INFO ] CRAWLER   : Stock is not open on 2018-07-07.\n",
      "[INFO ] CRAWLER   : Stock is not open on 2018-07-07.\n",
      "[INFO ] CRAWLER   : Stock is not open on 2018-07-07.\n"
     ]
    },
    {
     "name": "stdout",
     "output_type": "stream",
     "text": [
      "list index out of range\n"
     ]
    },
    {
     "name": "stderr",
     "output_type": "stream",
     "text": [
      "[INFO ] CRAWLER   : Stock is not open on 2018-07-08.\n",
      "[INFO ] CRAWLER   : Stock is not open on 2018-07-08.\n",
      "[INFO ] CRAWLER   : Stock is not open on 2018-07-08.\n",
      "[INFO ] CRAWLER   : Stock is not open on 2018-07-08.\n"
     ]
    },
    {
     "name": "stdout",
     "output_type": "stream",
     "text": [
      "list index out of range\n"
     ]
    },
    {
     "name": "stderr",
     "output_type": "stream",
     "text": [
      "[INFO ] CRAWLER   : Stock is not open on 2018-07-09.\n",
      "[INFO ] CRAWLER   : Stock is not open on 2018-07-09.\n",
      "[INFO ] CRAWLER   : Stock is not open on 2018-07-09.\n",
      "[INFO ] CRAWLER   : Stock is not open on 2018-07-09.\n"
     ]
    },
    {
     "name": "stdout",
     "output_type": "stream",
     "text": [
      "HTTPConnectionPool(host='www.twse.com.tw', port=80): Max retries exceeded with url: /indicesReport/MI_5MINS_HIST?response=json&date=20180709 (Caused by NewConnectionError('<requests.packages.urllib3.connection.HTTPConnection object at 0x000001D99168ABE0>: Failed to establish a new connection: [WinError 10061] 無法連線，因為目標電腦拒絕連線。',))\n"
     ]
    },
    {
     "name": "stderr",
     "output_type": "stream",
     "text": [
      "[INFO ] CRAWLER   : Stock is not open on 2018-07-10.\n",
      "[INFO ] CRAWLER   : Stock is not open on 2018-07-10.\n",
      "[INFO ] CRAWLER   : Stock is not open on 2018-07-10.\n",
      "[INFO ] CRAWLER   : Stock is not open on 2018-07-10.\n"
     ]
    },
    {
     "name": "stdout",
     "output_type": "stream",
     "text": [
      "HTTPConnectionPool(host='www.twse.com.tw', port=80): Max retries exceeded with url: /indicesReport/MI_5MINS_HIST?response=json&date=20180710 (Caused by NewConnectionError('<requests.packages.urllib3.connection.HTTPConnection object at 0x000001D991E527B8>: Failed to establish a new connection: [WinError 10061] 無法連線，因為目標電腦拒絕連線。',))\n"
     ]
    },
    {
     "name": "stderr",
     "output_type": "stream",
     "text": [
      "[INFO ] CRAWLER   : Stock is not open on 2018-07-11.\n",
      "[INFO ] CRAWLER   : Stock is not open on 2018-07-11.\n",
      "[INFO ] CRAWLER   : Stock is not open on 2018-07-11.\n",
      "[INFO ] CRAWLER   : Stock is not open on 2018-07-11.\n"
     ]
    },
    {
     "name": "stdout",
     "output_type": "stream",
     "text": [
      "HTTPConnectionPool(host='www.twse.com.tw', port=80): Max retries exceeded with url: /indicesReport/MI_5MINS_HIST?response=json&date=20180711 (Caused by NewConnectionError('<requests.packages.urllib3.connection.HTTPConnection object at 0x000001D991F35390>: Failed to establish a new connection: [WinError 10061] 無法連線，因為目標電腦拒絕連線。',))\n"
     ]
    },
    {
     "name": "stderr",
     "output_type": "stream",
     "text": [
      "[INFO ] CRAWLER   : Stock is not open on 2018-07-12.\n",
      "[INFO ] CRAWLER   : Stock is not open on 2018-07-12.\n",
      "[INFO ] CRAWLER   : Stock is not open on 2018-07-12.\n",
      "[INFO ] CRAWLER   : Stock is not open on 2018-07-12.\n"
     ]
    },
    {
     "name": "stdout",
     "output_type": "stream",
     "text": [
      "HTTPConnectionPool(host='www.twse.com.tw', port=80): Max retries exceeded with url: /indicesReport/MI_5MINS_HIST?response=json&date=20180712 (Caused by NewConnectionError('<requests.packages.urllib3.connection.HTTPConnection object at 0x000001D9919BBF28>: Failed to establish a new connection: [WinError 10061] 無法連線，因為目標電腦拒絕連線。',))\n"
     ]
    },
    {
     "name": "stderr",
     "output_type": "stream",
     "text": [
      "[INFO ] CRAWLER   : Stock is not open on 2018-07-13.\n",
      "[INFO ] CRAWLER   : Stock is not open on 2018-07-13.\n",
      "[INFO ] CRAWLER   : Stock is not open on 2018-07-13.\n",
      "[INFO ] CRAWLER   : Stock is not open on 2018-07-13.\n"
     ]
    },
    {
     "name": "stdout",
     "output_type": "stream",
     "text": [
      "HTTPConnectionPool(host='www.twse.com.tw', port=80): Max retries exceeded with url: /indicesReport/MI_5MINS_HIST?response=json&date=20180713 (Caused by NewConnectionError('<requests.packages.urllib3.connection.HTTPConnection object at 0x000001D991889780>: Failed to establish a new connection: [WinError 10061] 無法連線，因為目標電腦拒絕連線。',))\n"
     ]
    },
    {
     "name": "stderr",
     "output_type": "stream",
     "text": [
      "[INFO ] CRAWLER   : Stock is not open on 2018-07-14.\n",
      "[INFO ] CRAWLER   : Stock is not open on 2018-07-14.\n",
      "[INFO ] CRAWLER   : Stock is not open on 2018-07-14.\n",
      "[INFO ] CRAWLER   : Stock is not open on 2018-07-14.\n",
      "[INFO ] CRAWLER   : Stock is not open on 2018-07-15.\n",
      "[INFO ] CRAWLER   : Stock is not open on 2018-07-15.\n",
      "[INFO ] CRAWLER   : Stock is not open on 2018-07-15.\n",
      "[INFO ] CRAWLER   : Stock is not open on 2018-07-15.\n"
     ]
    },
    {
     "name": "stdout",
     "output_type": "stream",
     "text": [
      "list index out of range\n",
      "list index out of range\n"
     ]
    },
    {
     "name": "stderr",
     "output_type": "stream",
     "text": [
      "[INFO ] CRAWLER   : Stock is not open on 2018-07-16.\n",
      "[INFO ] CRAWLER   : Stock is not open on 2018-07-16.\n",
      "[INFO ] CRAWLER   : Stock is not open on 2018-07-16.\n",
      "[INFO ] CRAWLER   : Stock is not open on 2018-07-16.\n"
     ]
    },
    {
     "name": "stdout",
     "output_type": "stream",
     "text": [
      "HTTPConnectionPool(host='www.twse.com.tw', port=80): Max retries exceeded with url: /indicesReport/MI_5MINS_HIST?response=json&date=20180716 (Caused by NewConnectionError('<requests.packages.urllib3.connection.HTTPConnection object at 0x000001D991C3E668>: Failed to establish a new connection: [WinError 10061] 無法連線，因為目標電腦拒絕連線。',))\n"
     ]
    },
    {
     "name": "stderr",
     "output_type": "stream",
     "text": [
      "[INFO ] CRAWLER   : Stock is not open on 2018-07-17.\n",
      "[INFO ] CRAWLER   : Stock is not open on 2018-07-17.\n",
      "[INFO ] CRAWLER   : Stock is not open on 2018-07-17.\n",
      "[INFO ] CRAWLER   : Stock is not open on 2018-07-17.\n"
     ]
    },
    {
     "name": "stdout",
     "output_type": "stream",
     "text": [
      "HTTPConnectionPool(host='www.twse.com.tw', port=80): Max retries exceeded with url: /indicesReport/MI_5MINS_HIST?response=json&date=20180717 (Caused by NewConnectionError('<requests.packages.urllib3.connection.HTTPConnection object at 0x000001D99266EF28>: Failed to establish a new connection: [WinError 10061] 無法連線，因為目標電腦拒絕連線。',))\n"
     ]
    },
    {
     "name": "stderr",
     "output_type": "stream",
     "text": [
      "[INFO ] CRAWLER   : Stock is not open on 2018-07-18.\n",
      "[INFO ] CRAWLER   : Stock is not open on 2018-07-18.\n",
      "[INFO ] CRAWLER   : Stock is not open on 2018-07-18.\n",
      "[INFO ] CRAWLER   : Stock is not open on 2018-07-18.\n"
     ]
    },
    {
     "name": "stdout",
     "output_type": "stream",
     "text": [
      "HTTPConnectionPool(host='www.twse.com.tw', port=80): Max retries exceeded with url: /indicesReport/MI_5MINS_HIST?response=json&date=20180718 (Caused by NewConnectionError('<requests.packages.urllib3.connection.HTTPConnection object at 0x000001D991AE7C18>: Failed to establish a new connection: [WinError 10061] 無法連線，因為目標電腦拒絕連線。',))\n"
     ]
    },
    {
     "name": "stderr",
     "output_type": "stream",
     "text": [
      "[INFO ] CRAWLER   : Stock is not open on 2018-07-19.\n",
      "[INFO ] CRAWLER   : Stock is not open on 2018-07-19.\n",
      "[INFO ] CRAWLER   : Stock is not open on 2018-07-19.\n",
      "[INFO ] CRAWLER   : Stock is not open on 2018-07-19.\n"
     ]
    },
    {
     "name": "stdout",
     "output_type": "stream",
     "text": [
      "HTTPConnectionPool(host='www.twse.com.tw', port=80): Max retries exceeded with url: /indicesReport/MI_5MINS_HIST?response=json&date=20180719 (Caused by NewConnectionError('<requests.packages.urllib3.connection.HTTPConnection object at 0x000001D99214D8D0>: Failed to establish a new connection: [WinError 10061] 無法連線，因為目標電腦拒絕連線。',))\n"
     ]
    },
    {
     "name": "stderr",
     "output_type": "stream",
     "text": [
      "[INFO ] CRAWLER   : Stock is not open on 2018-07-20.\n",
      "[INFO ] CRAWLER   : Stock is not open on 2018-07-20.\n",
      "[INFO ] CRAWLER   : Stock is not open on 2018-07-20.\n",
      "[INFO ] CRAWLER   : Stock is not open on 2018-07-20.\n"
     ]
    },
    {
     "name": "stdout",
     "output_type": "stream",
     "text": [
      "HTTPConnectionPool(host='www.twse.com.tw', port=80): Max retries exceeded with url: /indicesReport/MI_5MINS_HIST?response=json&date=20180720 (Caused by NewConnectionError('<requests.packages.urllib3.connection.HTTPConnection object at 0x000001D991C8B3C8>: Failed to establish a new connection: [WinError 10061] 無法連線，因為目標電腦拒絕連線。',))\n"
     ]
    },
    {
     "name": "stderr",
     "output_type": "stream",
     "text": [
      "[INFO ] CRAWLER   : Stock is not open on 2018-07-21.\n",
      "[INFO ] CRAWLER   : Stock is not open on 2018-07-21.\n",
      "[INFO ] CRAWLER   : Stock is not open on 2018-07-21.\n",
      "[INFO ] CRAWLER   : Stock is not open on 2018-07-21.\n"
     ]
    },
    {
     "name": "stdout",
     "output_type": "stream",
     "text": [
      "list index out of range\n"
     ]
    },
    {
     "name": "stderr",
     "output_type": "stream",
     "text": [
      "[INFO ] CRAWLER   : Stock is not open on 2018-07-22.\n",
      "[INFO ] CRAWLER   : Stock is not open on 2018-07-22.\n",
      "[INFO ] CRAWLER   : Stock is not open on 2018-07-22.\n",
      "[INFO ] CRAWLER   : Stock is not open on 2018-07-22.\n"
     ]
    },
    {
     "name": "stdout",
     "output_type": "stream",
     "text": [
      "list index out of range\n"
     ]
    },
    {
     "name": "stderr",
     "output_type": "stream",
     "text": [
      "[INFO ] CRAWLER   : Stock is not open on 2018-07-23.\n",
      "[INFO ] CRAWLER   : Stock is not open on 2018-07-23.\n",
      "[INFO ] CRAWLER   : Stock is not open on 2018-07-23.\n",
      "[INFO ] CRAWLER   : Stock is not open on 2018-07-23.\n"
     ]
    },
    {
     "name": "stdout",
     "output_type": "stream",
     "text": [
      "HTTPConnectionPool(host='www.twse.com.tw', port=80): Max retries exceeded with url: /indicesReport/MI_5MINS_HIST?response=json&date=20180723 (Caused by NewConnectionError('<requests.packages.urllib3.connection.HTTPConnection object at 0x000001D992392B00>: Failed to establish a new connection: [WinError 10061] 無法連線，因為目標電腦拒絕連線。',))\n"
     ]
    },
    {
     "name": "stderr",
     "output_type": "stream",
     "text": [
      "[INFO ] CRAWLER   : Stock is not open on 2018-07-24.\n",
      "[INFO ] CRAWLER   : Stock is not open on 2018-07-24.\n",
      "[INFO ] CRAWLER   : Stock is not open on 2018-07-24.\n",
      "[INFO ] CRAWLER   : Stock is not open on 2018-07-24.\n"
     ]
    },
    {
     "name": "stdout",
     "output_type": "stream",
     "text": [
      "HTTPConnectionPool(host='www.twse.com.tw', port=80): Max retries exceeded with url: /indicesReport/MI_5MINS_HIST?response=json&date=20180724 (Caused by NewConnectionError('<requests.packages.urllib3.connection.HTTPConnection object at 0x000001D99151B9B0>: Failed to establish a new connection: [WinError 10061] 無法連線，因為目標電腦拒絕連線。',))\n"
     ]
    },
    {
     "name": "stderr",
     "output_type": "stream",
     "text": [
      "[INFO ] CRAWLER   : Stock is not open on 2018-07-25.\n",
      "[INFO ] CRAWLER   : Stock is not open on 2018-07-25.\n",
      "[INFO ] CRAWLER   : Stock is not open on 2018-07-25.\n",
      "[INFO ] CRAWLER   : Stock is not open on 2018-07-25.\n"
     ]
    },
    {
     "name": "stdout",
     "output_type": "stream",
     "text": [
      "HTTPConnectionPool(host='www.twse.com.tw', port=80): Max retries exceeded with url: /indicesReport/MI_5MINS_HIST?response=json&date=20180725 (Caused by NewConnectionError('<requests.packages.urllib3.connection.HTTPConnection object at 0x000001D991C47630>: Failed to establish a new connection: [WinError 10061] 無法連線，因為目標電腦拒絕連線。',))\n"
     ]
    },
    {
     "name": "stderr",
     "output_type": "stream",
     "text": [
      "[INFO ] CRAWLER   : Stock is not open on 2018-07-26.\n",
      "[INFO ] CRAWLER   : Stock is not open on 2018-07-26.\n",
      "[INFO ] CRAWLER   : Stock is not open on 2018-07-26.\n",
      "[INFO ] CRAWLER   : Stock is not open on 2018-07-26.\n"
     ]
    },
    {
     "name": "stdout",
     "output_type": "stream",
     "text": [
      "HTTPConnectionPool(host='www.twse.com.tw', port=80): Max retries exceeded with url: /indicesReport/MI_5MINS_HIST?response=json&date=20180726 (Caused by NewConnectionError('<requests.packages.urllib3.connection.HTTPConnection object at 0x000001D99171F048>: Failed to establish a new connection: [WinError 10061] 無法連線，因為目標電腦拒絕連線。',))\n"
     ]
    },
    {
     "name": "stderr",
     "output_type": "stream",
     "text": [
      "[INFO ] CRAWLER   : Stock is not open on 2018-07-27.\n",
      "[INFO ] CRAWLER   : Stock is not open on 2018-07-27.\n",
      "[INFO ] CRAWLER   : Stock is not open on 2018-07-27.\n",
      "[INFO ] CRAWLER   : Stock is not open on 2018-07-27.\n"
     ]
    },
    {
     "name": "stdout",
     "output_type": "stream",
     "text": [
      "HTTPConnectionPool(host='www.twse.com.tw', port=80): Max retries exceeded with url: /indicesReport/MI_5MINS_HIST?response=json&date=20180727 (Caused by NewConnectionError('<requests.packages.urllib3.connection.HTTPConnection object at 0x000001D991D2EDA0>: Failed to establish a new connection: [WinError 10061] 無法連線，因為目標電腦拒絕連線。',))\n",
      "list index out of range"
     ]
    },
    {
     "name": "stderr",
     "output_type": "stream",
     "text": [
      "[INFO ] CRAWLER   : Stock is not open on 2018-07-28.\n",
      "[INFO ] CRAWLER   : Stock is not open on 2018-07-28.\n",
      "[INFO ] CRAWLER   : Stock is not open on 2018-07-28.\n",
      "[INFO ] CRAWLER   : Stock is not open on 2018-07-28.\n",
      "[INFO ] CRAWLER   : Stock is not open on 2018-07-29.\n",
      "[INFO ] CRAWLER   : Stock is not open on 2018-07-29.\n",
      "[INFO ] CRAWLER   : Stock is not open on 2018-07-29.\n",
      "[INFO ] CRAWLER   : Stock is not open on 2018-07-29.\n"
     ]
    },
    {
     "name": "stdout",
     "output_type": "stream",
     "text": [
      "\n",
      "list index out of range\n"
     ]
    },
    {
     "name": "stderr",
     "output_type": "stream",
     "text": [
      "[INFO ] CRAWLER   : Stock is not open on 2018-07-30.\n",
      "[INFO ] CRAWLER   : Stock is not open on 2018-07-30.\n",
      "[INFO ] CRAWLER   : Stock is not open on 2018-07-30.\n",
      "[INFO ] CRAWLER   : Stock is not open on 2018-07-30.\n"
     ]
    },
    {
     "name": "stdout",
     "output_type": "stream",
     "text": [
      "HTTPConnectionPool(host='www.twse.com.tw', port=80): Max retries exceeded with url: /indicesReport/MI_5MINS_HIST?response=json&date=20180730 (Caused by NewConnectionError('<requests.packages.urllib3.connection.HTTPConnection object at 0x000001D9923A0710>: Failed to establish a new connection: [WinError 10061] 無法連線，因為目標電腦拒絕連線。',))\n"
     ]
    },
    {
     "name": "stderr",
     "output_type": "stream",
     "text": [
      "[INFO ] CRAWLER   : Stock is not open on 2018-07-31.\n",
      "[INFO ] CRAWLER   : Stock is not open on 2018-07-31.\n",
      "[INFO ] CRAWLER   : Stock is not open on 2018-07-31.\n",
      "[INFO ] CRAWLER   : Stock is not open on 2018-07-31.\n"
     ]
    },
    {
     "name": "stdout",
     "output_type": "stream",
     "text": [
      "HTTPConnectionPool(host='www.twse.com.tw', port=80): Max retries exceeded with url: /indicesReport/MI_5MINS_HIST?response=json&date=20180731 (Caused by NewConnectionError('<requests.packages.urllib3.connection.HTTPConnection object at 0x000001D9919BBE10>: Failed to establish a new connection: [WinError 10061] 無法連線，因為目標電腦拒絕連線。',))\n"
     ]
    },
    {
     "name": "stderr",
     "output_type": "stream",
     "text": [
      "[INFO ] CRAWLER   : Stock is not open on 2018-08-01.\n",
      "[INFO ] CRAWLER   : Stock is not open on 2018-08-01.\n",
      "[INFO ] CRAWLER   : Stock is not open on 2018-08-01.\n",
      "[INFO ] CRAWLER   : Stock is not open on 2018-08-01.\n"
     ]
    },
    {
     "name": "stdout",
     "output_type": "stream",
     "text": [
      "HTTPConnectionPool(host='www.twse.com.tw', port=80): Max retries exceeded with url: /indicesReport/MI_5MINS_HIST?response=json&date=20180801 (Caused by NewConnectionError('<requests.packages.urllib3.connection.HTTPConnection object at 0x000001D991C47CF8>: Failed to establish a new connection: [WinError 10061] 無法連線，因為目標電腦拒絕連線。',))\n"
     ]
    },
    {
     "name": "stderr",
     "output_type": "stream",
     "text": [
      "[INFO ] CRAWLER   : Stock is not open on 2018-08-02.\n",
      "[INFO ] CRAWLER   : Stock is not open on 2018-08-02.\n",
      "[INFO ] CRAWLER   : Stock is not open on 2018-08-02.\n",
      "[INFO ] CRAWLER   : Stock is not open on 2018-08-02.\n"
     ]
    },
    {
     "name": "stdout",
     "output_type": "stream",
     "text": [
      "HTTPConnectionPool(host='www.twse.com.tw', port=80): Max retries exceeded with url: /indicesReport/MI_5MINS_HIST?response=json&date=20180802 (Caused by NewConnectionError('<requests.packages.urllib3.connection.HTTPConnection object at 0x000001D9920AA748>: Failed to establish a new connection: [WinError 10061] 無法連線，因為目標電腦拒絕連線。',))\n"
     ]
    },
    {
     "name": "stderr",
     "output_type": "stream",
     "text": [
      "[INFO ] CRAWLER   : Stock is not open on 2018-08-03.\n",
      "[INFO ] CRAWLER   : Stock is not open on 2018-08-03.\n",
      "[INFO ] CRAWLER   : Stock is not open on 2018-08-03.\n",
      "[INFO ] CRAWLER   : Stock is not open on 2018-08-03.\n",
      "[INFO ] CRAWLER   : Stock is not open on 2018-08-04.\n",
      "[INFO ] CRAWLER   : Stock is not open on 2018-08-04.\n",
      "[INFO ] CRAWLER   : Stock is not open on 2018-08-04.\n",
      "[INFO ] CRAWLER   : Stock is not open on 2018-08-04.\n"
     ]
    },
    {
     "name": "stdout",
     "output_type": "stream",
     "text": [
      "HTTPConnectionPool(host='www.twse.com.tw', port=80): Max retries exceeded with url: /indicesReport/MI_5MINS_HIST?response=json&date=20180803 (Caused by NewConnectionError('<requests.packages.urllib3.connection.HTTPConnection object at 0x000001D992667080>: Failed to establish a new connection: [WinError 10061] 無法連線，因為目標電腦拒絕連線。',))\n",
      "list index out of range\n"
     ]
    },
    {
     "name": "stderr",
     "output_type": "stream",
     "text": [
      "[INFO ] CRAWLER   : Stock is not open on 2018-08-05.\n",
      "[INFO ] CRAWLER   : Stock is not open on 2018-08-05.\n",
      "[INFO ] CRAWLER   : Stock is not open on 2018-08-05.\n",
      "[INFO ] CRAWLER   : Stock is not open on 2018-08-05.\n"
     ]
    },
    {
     "name": "stdout",
     "output_type": "stream",
     "text": [
      "list index out of range\n"
     ]
    },
    {
     "name": "stderr",
     "output_type": "stream",
     "text": [
      "[INFO ] CRAWLER   : Stock is not open on 2018-08-06.\n",
      "[INFO ] CRAWLER   : Stock is not open on 2018-08-06.\n",
      "[INFO ] CRAWLER   : Stock is not open on 2018-08-06.\n",
      "[INFO ] CRAWLER   : Stock is not open on 2018-08-06.\n"
     ]
    },
    {
     "name": "stdout",
     "output_type": "stream",
     "text": [
      "HTTPConnectionPool(host='www.twse.com.tw', port=80): Max retries exceeded with url: /indicesReport/MI_5MINS_HIST?response=json&date=20180806 (Caused by NewConnectionError('<requests.packages.urllib3.connection.HTTPConnection object at 0x000001D9922E5470>: Failed to establish a new connection: [WinError 10061] 無法連線，因為目標電腦拒絕連線。',))\n"
     ]
    },
    {
     "name": "stderr",
     "output_type": "stream",
     "text": [
      "[INFO ] CRAWLER   : Stock is not open on 2018-08-07.\n",
      "[INFO ] CRAWLER   : Stock is not open on 2018-08-07.\n",
      "[INFO ] CRAWLER   : Stock is not open on 2018-08-07.\n",
      "[INFO ] CRAWLER   : Stock is not open on 2018-08-07.\n"
     ]
    },
    {
     "name": "stdout",
     "output_type": "stream",
     "text": [
      "HTTPConnectionPool(host='www.twse.com.tw', port=80): Max retries exceeded with url: /indicesReport/MI_5MINS_HIST?response=json&date=20180807 (Caused by NewConnectionError('<requests.packages.urllib3.connection.HTTPConnection object at 0x000001D991F940F0>: Failed to establish a new connection: [WinError 10061] 無法連線，因為目標電腦拒絕連線。',))\n"
     ]
    },
    {
     "name": "stderr",
     "output_type": "stream",
     "text": [
      "[INFO ] CRAWLER   : Stock is not open on 2018-08-08.\n",
      "[INFO ] CRAWLER   : Stock is not open on 2018-08-08.\n",
      "[INFO ] CRAWLER   : Stock is not open on 2018-08-08.\n",
      "[INFO ] CRAWLER   : Stock is not open on 2018-08-08.\n"
     ]
    },
    {
     "name": "stdout",
     "output_type": "stream",
     "text": [
      "HTTPConnectionPool(host='www.twse.com.tw', port=80): Max retries exceeded with url: /indicesReport/MI_5MINS_HIST?response=json&date=20180808 (Caused by NewConnectionError('<requests.packages.urllib3.connection.HTTPConnection object at 0x000001D99270F6D8>: Failed to establish a new connection: [WinError 10061] 無法連線，因為目標電腦拒絕連線。',))\n"
     ]
    },
    {
     "name": "stderr",
     "output_type": "stream",
     "text": [
      "[INFO ] CRAWLER   : Stock is not open on 2018-08-09.\n",
      "[INFO ] CRAWLER   : Stock is not open on 2018-08-09.\n",
      "[INFO ] CRAWLER   : Stock is not open on 2018-08-09.\n",
      "[INFO ] CRAWLER   : Stock is not open on 2018-08-09.\n"
     ]
    },
    {
     "name": "stdout",
     "output_type": "stream",
     "text": [
      "HTTPConnectionPool(host='www.twse.com.tw', port=80): Max retries exceeded with url: /indicesReport/MI_5MINS_HIST?response=json&date=20180809 (Caused by NewConnectionError('<requests.packages.urllib3.connection.HTTPConnection object at 0x000001D991E86CC0>: Failed to establish a new connection: [WinError 10061] 無法連線，因為目標電腦拒絕連線。',))\n"
     ]
    },
    {
     "name": "stderr",
     "output_type": "stream",
     "text": [
      "[INFO ] CRAWLER   : Stock is not open on 2018-08-10.\n",
      "[INFO ] CRAWLER   : Stock is not open on 2018-08-10.\n",
      "[INFO ] CRAWLER   : Stock is not open on 2018-08-10.\n",
      "[INFO ] CRAWLER   : Stock is not open on 2018-08-10.\n"
     ]
    },
    {
     "name": "stdout",
     "output_type": "stream",
     "text": [
      "HTTPConnectionPool(host='www.twse.com.tw', port=80): Max retries exceeded with url: /indicesReport/MI_5MINS_HIST?response=json&date=20180810 (Caused by NewConnectionError('<requests.packages.urllib3.connection.HTTPConnection object at 0x000001D991785A20>: Failed to establish a new connection: [WinError 10061] 無法連線，因為目標電腦拒絕連線。',))\n"
     ]
    },
    {
     "name": "stderr",
     "output_type": "stream",
     "text": [
      "[INFO ] CRAWLER   : Stock is not open on 2018-08-11.\n",
      "[INFO ] CRAWLER   : Stock is not open on 2018-08-11.\n",
      "[INFO ] CRAWLER   : Stock is not open on 2018-08-11.\n",
      "[INFO ] CRAWLER   : Stock is not open on 2018-08-11.\n"
     ]
    },
    {
     "name": "stdout",
     "output_type": "stream",
     "text": [
      "list index out of range\n"
     ]
    },
    {
     "name": "stderr",
     "output_type": "stream",
     "text": [
      "[INFO ] CRAWLER   : Stock is not open on 2018-08-12.\n",
      "[INFO ] CRAWLER   : Stock is not open on 2018-08-12.\n",
      "[INFO ] CRAWLER   : Stock is not open on 2018-08-12.\n",
      "[INFO ] CRAWLER   : Stock is not open on 2018-08-12.\n"
     ]
    },
    {
     "name": "stdout",
     "output_type": "stream",
     "text": [
      "list index out of range\n"
     ]
    },
    {
     "name": "stderr",
     "output_type": "stream",
     "text": [
      "[INFO ] CRAWLER   : Stock is not open on 2018-08-13.\n",
      "[INFO ] CRAWLER   : Stock is not open on 2018-08-13.\n",
      "[INFO ] CRAWLER   : Stock is not open on 2018-08-13.\n",
      "[INFO ] CRAWLER   : Stock is not open on 2018-08-13.\n"
     ]
    },
    {
     "name": "stdout",
     "output_type": "stream",
     "text": [
      "HTTPConnectionPool(host='www.twse.com.tw', port=80): Max retries exceeded with url: /indicesReport/MI_5MINS_HIST?response=json&date=20180813 (Caused by NewConnectionError('<requests.packages.urllib3.connection.HTTPConnection object at 0x000001D99174D240>: Failed to establish a new connection: [WinError 10061] 無法連線，因為目標電腦拒絕連線。',))\n"
     ]
    },
    {
     "name": "stderr",
     "output_type": "stream",
     "text": [
      "[INFO ] CRAWLER   : Stock is not open on 2018-08-14.\n",
      "[INFO ] CRAWLER   : Stock is not open on 2018-08-14.\n",
      "[INFO ] CRAWLER   : Stock is not open on 2018-08-14.\n",
      "[INFO ] CRAWLER   : Stock is not open on 2018-08-14.\n"
     ]
    },
    {
     "name": "stdout",
     "output_type": "stream",
     "text": [
      "HTTPConnectionPool(host='www.twse.com.tw', port=80): Max retries exceeded with url: /indicesReport/MI_5MINS_HIST?response=json&date=20180814 (Caused by NewConnectionError('<requests.packages.urllib3.connection.HTTPConnection object at 0x000001D992150C18>: Failed to establish a new connection: [WinError 10061] 無法連線，因為目標電腦拒絕連線。',))\n"
     ]
    },
    {
     "name": "stderr",
     "output_type": "stream",
     "text": [
      "[INFO ] CRAWLER   : Stock is not open on 2018-08-15.\n",
      "[INFO ] CRAWLER   : Stock is not open on 2018-08-15.\n",
      "[INFO ] CRAWLER   : Stock is not open on 2018-08-15.\n",
      "[INFO ] CRAWLER   : Stock is not open on 2018-08-15.\n"
     ]
    },
    {
     "name": "stdout",
     "output_type": "stream",
     "text": [
      "HTTPConnectionPool(host='www.twse.com.tw', port=80): Max retries exceeded with url: /indicesReport/MI_5MINS_HIST?response=json&date=20180815 (Caused by NewConnectionError('<requests.packages.urllib3.connection.HTTPConnection object at 0x000001D9918169B0>: Failed to establish a new connection: [WinError 10061] 無法連線，因為目標電腦拒絕連線。',))\n"
     ]
    },
    {
     "name": "stderr",
     "output_type": "stream",
     "text": [
      "[INFO ] CRAWLER   : Stock is not open on 2018-08-16.\n",
      "[INFO ] CRAWLER   : Stock is not open on 2018-08-16.\n",
      "[INFO ] CRAWLER   : Stock is not open on 2018-08-16.\n",
      "[INFO ] CRAWLER   : Stock is not open on 2018-08-16.\n"
     ]
    },
    {
     "name": "stdout",
     "output_type": "stream",
     "text": [
      "HTTPConnectionPool(host='www.twse.com.tw', port=80): Max retries exceeded with url: /indicesReport/MI_5MINS_HIST?response=json&date=20180816 (Caused by NewConnectionError('<requests.packages.urllib3.connection.HTTPConnection object at 0x000001D9924323C8>: Failed to establish a new connection: [WinError 10061] 無法連線，因為目標電腦拒絕連線。',))\n"
     ]
    },
    {
     "name": "stderr",
     "output_type": "stream",
     "text": [
      "[INFO ] CRAWLER   : Stock is not open on 2018-08-17.\n",
      "[INFO ] CRAWLER   : Stock is not open on 2018-08-17.\n",
      "[INFO ] CRAWLER   : Stock is not open on 2018-08-17.\n",
      "[INFO ] CRAWLER   : Stock is not open on 2018-08-17.\n"
     ]
    },
    {
     "name": "stdout",
     "output_type": "stream",
     "text": [
      "HTTPConnectionPool(host='www.twse.com.tw', port=80): Max retries exceeded with url: /indicesReport/MI_5MINS_HIST?response=json&date=20180817 (Caused by NewConnectionError('<requests.packages.urllib3.connection.HTTPConnection object at 0x000001D991881DA0>: Failed to establish a new connection: [WinError 10061] 無法連線，因為目標電腦拒絕連線。',))\n",
      "list index out of range"
     ]
    },
    {
     "name": "stderr",
     "output_type": "stream",
     "text": [
      "[INFO ] CRAWLER   : Stock is not open on 2018-08-18.\n",
      "[INFO ] CRAWLER   : Stock is not open on 2018-08-18.\n",
      "[INFO ] CRAWLER   : Stock is not open on 2018-08-18.\n",
      "[INFO ] CRAWLER   : Stock is not open on 2018-08-18.\n",
      "[INFO ] CRAWLER   : Stock is not open on 2018-08-19.\n",
      "[INFO ] CRAWLER   : Stock is not open on 2018-08-19.\n",
      "[INFO ] CRAWLER   : Stock is not open on 2018-08-19.\n",
      "[INFO ] CRAWLER   : Stock is not open on 2018-08-19.\n"
     ]
    },
    {
     "name": "stdout",
     "output_type": "stream",
     "text": [
      "\n",
      "list index out of range\n"
     ]
    },
    {
     "name": "stderr",
     "output_type": "stream",
     "text": [
      "[INFO ] CRAWLER   : Stock is not open on 2018-08-20.\n",
      "[INFO ] CRAWLER   : Stock is not open on 2018-08-20.\n",
      "[INFO ] CRAWLER   : Stock is not open on 2018-08-20.\n",
      "[INFO ] CRAWLER   : Stock is not open on 2018-08-20.\n"
     ]
    },
    {
     "name": "stdout",
     "output_type": "stream",
     "text": [
      "HTTPConnectionPool(host='www.twse.com.tw', port=80): Max retries exceeded with url: /indicesReport/MI_5MINS_HIST?response=json&date=20180820 (Caused by NewConnectionError('<requests.packages.urllib3.connection.HTTPConnection object at 0x000001D9918882B0>: Failed to establish a new connection: [WinError 10061] 無法連線，因為目標電腦拒絕連線。',))\n"
     ]
    },
    {
     "name": "stderr",
     "output_type": "stream",
     "text": [
      "[INFO ] CRAWLER   : Stock is not open on 2018-08-21.\n",
      "[INFO ] CRAWLER   : Stock is not open on 2018-08-21.\n",
      "[INFO ] CRAWLER   : Stock is not open on 2018-08-21.\n",
      "[INFO ] CRAWLER   : Stock is not open on 2018-08-21.\n"
     ]
    },
    {
     "name": "stdout",
     "output_type": "stream",
     "text": [
      "HTTPConnectionPool(host='www.twse.com.tw', port=80): Max retries exceeded with url: /indicesReport/MI_5MINS_HIST?response=json&date=20180821 (Caused by NewConnectionError('<requests.packages.urllib3.connection.HTTPConnection object at 0x000001D9923C5A90>: Failed to establish a new connection: [WinError 10061] 無法連線，因為目標電腦拒絕連線。',))\n"
     ]
    },
    {
     "name": "stderr",
     "output_type": "stream",
     "text": [
      "[INFO ] CRAWLER   : Stock is not open on 2018-08-22.\n",
      "[INFO ] CRAWLER   : Stock is not open on 2018-08-22.\n",
      "[INFO ] CRAWLER   : Stock is not open on 2018-08-22.\n",
      "[INFO ] CRAWLER   : Stock is not open on 2018-08-22.\n"
     ]
    },
    {
     "name": "stdout",
     "output_type": "stream",
     "text": [
      "HTTPConnectionPool(host='www.twse.com.tw', port=80): Max retries exceeded with url: /indicesReport/MI_5MINS_HIST?response=json&date=20180822 (Caused by NewConnectionError('<requests.packages.urllib3.connection.HTTPConnection object at 0x000001D992696908>: Failed to establish a new connection: [WinError 10061] 無法連線，因為目標電腦拒絕連線。',))\n"
     ]
    },
    {
     "name": "stderr",
     "output_type": "stream",
     "text": [
      "[INFO ] CRAWLER   : Stock is not open on 2018-08-23.\n",
      "[INFO ] CRAWLER   : Stock is not open on 2018-08-23.\n",
      "[INFO ] CRAWLER   : Stock is not open on 2018-08-23.\n",
      "[INFO ] CRAWLER   : Stock is not open on 2018-08-23.\n"
     ]
    },
    {
     "name": "stdout",
     "output_type": "stream",
     "text": [
      "HTTPConnectionPool(host='www.twse.com.tw', port=80): Max retries exceeded with url: /indicesReport/MI_5MINS_HIST?response=json&date=20180823 (Caused by NewConnectionError('<requests.packages.urllib3.connection.HTTPConnection object at 0x000001D99182ADA0>: Failed to establish a new connection: [WinError 10061] 無法連線，因為目標電腦拒絕連線。',))\n"
     ]
    },
    {
     "name": "stderr",
     "output_type": "stream",
     "text": [
      "[INFO ] CRAWLER   : Stock is not open on 2018-08-24.\n",
      "[INFO ] CRAWLER   : Stock is not open on 2018-08-24.\n",
      "[INFO ] CRAWLER   : Stock is not open on 2018-08-24.\n",
      "[INFO ] CRAWLER   : Stock is not open on 2018-08-24.\n"
     ]
    },
    {
     "name": "stdout",
     "output_type": "stream",
     "text": [
      "HTTPConnectionPool(host='www.twse.com.tw', port=80): Max retries exceeded with url: /indicesReport/MI_5MINS_HIST?response=json&date=20180824 (Caused by NewConnectionError('<requests.packages.urllib3.connection.HTTPConnection object at 0x000001D991C81F98>: Failed to establish a new connection: [WinError 10061] 無法連線，因為目標電腦拒絕連線。',))\n"
     ]
    },
    {
     "name": "stderr",
     "output_type": "stream",
     "text": [
      "[INFO ] CRAWLER   : Stock is not open on 2018-08-25.\n",
      "[INFO ] CRAWLER   : Stock is not open on 2018-08-25.\n",
      "[INFO ] CRAWLER   : Stock is not open on 2018-08-25.\n",
      "[INFO ] CRAWLER   : Stock is not open on 2018-08-25.\n"
     ]
    },
    {
     "name": "stdout",
     "output_type": "stream",
     "text": [
      "list index out of range\n"
     ]
    },
    {
     "name": "stderr",
     "output_type": "stream",
     "text": [
      "[INFO ] CRAWLER   : Stock is not open on 2018-08-26.\n",
      "[INFO ] CRAWLER   : Stock is not open on 2018-08-26.\n",
      "[INFO ] CRAWLER   : Stock is not open on 2018-08-26.\n",
      "[INFO ] CRAWLER   : Stock is not open on 2018-08-26.\n"
     ]
    },
    {
     "name": "stdout",
     "output_type": "stream",
     "text": [
      "list index out of range\n"
     ]
    },
    {
     "name": "stderr",
     "output_type": "stream",
     "text": [
      "[INFO ] CRAWLER   : Stock is not open on 2018-08-27.\n",
      "[INFO ] CRAWLER   : Stock is not open on 2018-08-27.\n",
      "[INFO ] CRAWLER   : Stock is not open on 2018-08-27.\n",
      "[INFO ] CRAWLER   : Stock is not open on 2018-08-27.\n"
     ]
    },
    {
     "name": "stdout",
     "output_type": "stream",
     "text": [
      "HTTPConnectionPool(host='www.twse.com.tw', port=80): Max retries exceeded with url: /indicesReport/MI_5MINS_HIST?response=json&date=20180827 (Caused by NewConnectionError('<requests.packages.urllib3.connection.HTTPConnection object at 0x000001D99270F5C0>: Failed to establish a new connection: [WinError 10061] 無法連線，因為目標電腦拒絕連線。',))\n"
     ]
    },
    {
     "name": "stderr",
     "output_type": "stream",
     "text": [
      "[INFO ] CRAWLER   : Stock is not open on 2018-08-28.\n",
      "[INFO ] CRAWLER   : Stock is not open on 2018-08-28.\n",
      "[INFO ] CRAWLER   : Stock is not open on 2018-08-28.\n",
      "[INFO ] CRAWLER   : Stock is not open on 2018-08-28.\n"
     ]
    },
    {
     "name": "stdout",
     "output_type": "stream",
     "text": [
      "HTTPConnectionPool(host='www.twse.com.tw', port=80): Max retries exceeded with url: /indicesReport/MI_5MINS_HIST?response=json&date=20180828 (Caused by NewConnectionError('<requests.packages.urllib3.connection.HTTPConnection object at 0x000001D991F56630>: Failed to establish a new connection: [WinError 10061] 無法連線，因為目標電腦拒絕連線。',))\n"
     ]
    },
    {
     "name": "stderr",
     "output_type": "stream",
     "text": [
      "[INFO ] CRAWLER   : Stock is not open on 2018-08-29.\n",
      "[INFO ] CRAWLER   : Stock is not open on 2018-08-29.\n",
      "[INFO ] CRAWLER   : Stock is not open on 2018-08-29.\n",
      "[INFO ] CRAWLER   : Stock is not open on 2018-08-29.\n"
     ]
    },
    {
     "name": "stdout",
     "output_type": "stream",
     "text": [
      "HTTPConnectionPool(host='www.twse.com.tw', port=80): Max retries exceeded with url: /indicesReport/MI_5MINS_HIST?response=json&date=20180829 (Caused by NewConnectionError('<requests.packages.urllib3.connection.HTTPConnection object at 0x000001D99150D710>: Failed to establish a new connection: [WinError 10061] 無法連線，因為目標電腦拒絕連線。',))\n"
     ]
    },
    {
     "name": "stderr",
     "output_type": "stream",
     "text": [
      "[INFO ] CRAWLER   : Stock is not open on 2018-08-30.\n",
      "[INFO ] CRAWLER   : Stock is not open on 2018-08-30.\n",
      "[INFO ] CRAWLER   : Stock is not open on 2018-08-30.\n",
      "[INFO ] CRAWLER   : Stock is not open on 2018-08-30.\n"
     ]
    },
    {
     "name": "stdout",
     "output_type": "stream",
     "text": [
      "HTTPConnectionPool(host='www.twse.com.tw', port=80): Max retries exceeded with url: /indicesReport/MI_5MINS_HIST?response=json&date=20180830 (Caused by NewConnectionError('<requests.packages.urllib3.connection.HTTPConnection object at 0x000001D9917601D0>: Failed to establish a new connection: [WinError 10061] 無法連線，因為目標電腦拒絕連線。',))\n"
     ]
    },
    {
     "name": "stderr",
     "output_type": "stream",
     "text": [
      "[INFO ] CRAWLER   : Stock is not open on 2018-08-31.\n",
      "[INFO ] CRAWLER   : Stock is not open on 2018-08-31.\n",
      "[INFO ] CRAWLER   : Stock is not open on 2018-08-31.\n",
      "[INFO ] CRAWLER   : Stock is not open on 2018-08-31.\n"
     ]
    },
    {
     "name": "stdout",
     "output_type": "stream",
     "text": [
      "HTTPConnectionPool(host='www.twse.com.tw', port=80): Max retries exceeded with url: /indicesReport/MI_5MINS_HIST?response=json&date=20180831 (Caused by NewConnectionError('<requests.packages.urllib3.connection.HTTPConnection object at 0x000001D991C935F8>: Failed to establish a new connection: [WinError 10061] 無法連線，因為目標電腦拒絕連線。',))\n",
      "list index out of range"
     ]
    },
    {
     "name": "stderr",
     "output_type": "stream",
     "text": [
      "[INFO ] CRAWLER   : Stock is not open on 2018-09-01.\n",
      "[INFO ] CRAWLER   : Stock is not open on 2018-09-01.\n",
      "[INFO ] CRAWLER   : Stock is not open on 2018-09-01.\n",
      "[INFO ] CRAWLER   : Stock is not open on 2018-09-01.\n",
      "[INFO ] CRAWLER   : Stock is not open on 2018-09-02.\n",
      "[INFO ] CRAWLER   : Stock is not open on 2018-09-02.\n",
      "[INFO ] CRAWLER   : Stock is not open on 2018-09-02.\n",
      "[INFO ] CRAWLER   : Stock is not open on 2018-09-02.\n"
     ]
    },
    {
     "name": "stdout",
     "output_type": "stream",
     "text": [
      "\n",
      "list index out of range\n"
     ]
    },
    {
     "name": "stderr",
     "output_type": "stream",
     "text": [
      "[INFO ] CRAWLER   : Stock is not open on 2018-09-03.\n",
      "[INFO ] CRAWLER   : Stock is not open on 2018-09-03.\n",
      "[INFO ] CRAWLER   : Stock is not open on 2018-09-03.\n",
      "[INFO ] CRAWLER   : Stock is not open on 2018-09-03.\n"
     ]
    },
    {
     "name": "stdout",
     "output_type": "stream",
     "text": [
      "HTTPConnectionPool(host='www.twse.com.tw', port=80): Max retries exceeded with url: /indicesReport/MI_5MINS_HIST?response=json&date=20180903 (Caused by NewConnectionError('<requests.packages.urllib3.connection.HTTPConnection object at 0x000001D9919061D0>: Failed to establish a new connection: [WinError 10061] 無法連線，因為目標電腦拒絕連線。',))\n"
     ]
    },
    {
     "name": "stderr",
     "output_type": "stream",
     "text": [
      "[INFO ] CRAWLER   : Stock is not open on 2018-09-04.\n",
      "[INFO ] CRAWLER   : Stock is not open on 2018-09-04.\n",
      "[INFO ] CRAWLER   : Stock is not open on 2018-09-04.\n",
      "[INFO ] CRAWLER   : Stock is not open on 2018-09-04.\n"
     ]
    },
    {
     "name": "stdout",
     "output_type": "stream",
     "text": [
      "HTTPConnectionPool(host='www.twse.com.tw', port=80): Max retries exceeded with url: /indicesReport/MI_5MINS_HIST?response=json&date=20180904 (Caused by NewConnectionError('<requests.packages.urllib3.connection.HTTPConnection object at 0x000001D9921B4550>: Failed to establish a new connection: [WinError 10061] 無法連線，因為目標電腦拒絕連線。',))\n"
     ]
    },
    {
     "name": "stderr",
     "output_type": "stream",
     "text": [
      "[INFO ] CRAWLER   : Stock is not open on 2018-09-05.\n",
      "[INFO ] CRAWLER   : Stock is not open on 2018-09-05.\n",
      "[INFO ] CRAWLER   : Stock is not open on 2018-09-05.\n",
      "[INFO ] CRAWLER   : Stock is not open on 2018-09-05.\n"
     ]
    },
    {
     "name": "stdout",
     "output_type": "stream",
     "text": [
      "HTTPConnectionPool(host='www.twse.com.tw', port=80): Max retries exceeded with url: /indicesReport/MI_5MINS_HIST?response=json&date=20180905 (Caused by NewConnectionError('<requests.packages.urllib3.connection.HTTPConnection object at 0x000001D991FD7438>: Failed to establish a new connection: [WinError 10061] 無法連線，因為目標電腦拒絕連線。',))\n"
     ]
    },
    {
     "name": "stderr",
     "output_type": "stream",
     "text": [
      "[INFO ] CRAWLER   : Stock is not open on 2018-09-06.\n",
      "[INFO ] CRAWLER   : Stock is not open on 2018-09-06.\n",
      "[INFO ] CRAWLER   : Stock is not open on 2018-09-06.\n",
      "[INFO ] CRAWLER   : Stock is not open on 2018-09-06.\n"
     ]
    },
    {
     "name": "stdout",
     "output_type": "stream",
     "text": [
      "HTTPConnectionPool(host='www.twse.com.tw', port=80): Max retries exceeded with url: /indicesReport/MI_5MINS_HIST?response=json&date=20180906 (Caused by NewConnectionError('<requests.packages.urllib3.connection.HTTPConnection object at 0x000001D991DB9BE0>: Failed to establish a new connection: [WinError 10061] 無法連線，因為目標電腦拒絕連線。',))\n"
     ]
    },
    {
     "name": "stderr",
     "output_type": "stream",
     "text": [
      "[INFO ] CRAWLER   : Stock is not open on 2018-09-07.\n",
      "[INFO ] CRAWLER   : Stock is not open on 2018-09-07.\n",
      "[INFO ] CRAWLER   : Stock is not open on 2018-09-07.\n",
      "[INFO ] CRAWLER   : Stock is not open on 2018-09-07.\n",
      "[INFO ] CRAWLER   : Stock is not open on 2018-09-08.\n",
      "[INFO ] CRAWLER   : Stock is not open on 2018-09-08.\n",
      "[INFO ] CRAWLER   : Stock is not open on 2018-09-08.\n",
      "[INFO ] CRAWLER   : Stock is not open on 2018-09-08.\n"
     ]
    },
    {
     "name": "stdout",
     "output_type": "stream",
     "text": [
      "HTTPConnectionPool(host='www.twse.com.tw', port=80): Max retries exceeded with url: /indicesReport/MI_5MINS_HIST?response=json&date=20180907 (Caused by NewConnectionError('<requests.packages.urllib3.connection.HTTPConnection object at 0x000001D99250E668>: Failed to establish a new connection: [WinError 10061] 無法連線，因為目標電腦拒絕連線。',))\n",
      "list index out of range\n"
     ]
    },
    {
     "name": "stderr",
     "output_type": "stream",
     "text": [
      "[INFO ] CRAWLER   : Stock is not open on 2018-09-09.\n",
      "[INFO ] CRAWLER   : Stock is not open on 2018-09-09.\n",
      "[INFO ] CRAWLER   : Stock is not open on 2018-09-09.\n",
      "[INFO ] CRAWLER   : Stock is not open on 2018-09-09.\n"
     ]
    },
    {
     "name": "stdout",
     "output_type": "stream",
     "text": [
      "list index out of range\n"
     ]
    },
    {
     "name": "stderr",
     "output_type": "stream",
     "text": [
      "[INFO ] CRAWLER   : Stock is not open on 2018-09-10.\n",
      "[INFO ] CRAWLER   : Stock is not open on 2018-09-10.\n",
      "[INFO ] CRAWLER   : Stock is not open on 2018-09-10.\n",
      "[INFO ] CRAWLER   : Stock is not open on 2018-09-10.\n"
     ]
    },
    {
     "name": "stdout",
     "output_type": "stream",
     "text": [
      "HTTPConnectionPool(host='www.twse.com.tw', port=80): Max retries exceeded with url: /indicesReport/MI_5MINS_HIST?response=json&date=20180910 (Caused by NewConnectionError('<requests.packages.urllib3.connection.HTTPConnection object at 0x000001D991583128>: Failed to establish a new connection: [WinError 10061] 無法連線，因為目標電腦拒絕連線。',))\n"
     ]
    },
    {
     "name": "stderr",
     "output_type": "stream",
     "text": [
      "[INFO ] CRAWLER   : Stock is not open on 2018-09-11.\n",
      "[INFO ] CRAWLER   : Stock is not open on 2018-09-11.\n",
      "[INFO ] CRAWLER   : Stock is not open on 2018-09-11.\n",
      "[INFO ] CRAWLER   : Stock is not open on 2018-09-11.\n"
     ]
    },
    {
     "name": "stdout",
     "output_type": "stream",
     "text": [
      "HTTPConnectionPool(host='www.twse.com.tw', port=80): Max retries exceeded with url: /indicesReport/MI_5MINS_HIST?response=json&date=20180911 (Caused by NewConnectionError('<requests.packages.urllib3.connection.HTTPConnection object at 0x000001D9917BFB00>: Failed to establish a new connection: [WinError 10061] 無法連線，因為目標電腦拒絕連線。',))\n"
     ]
    },
    {
     "name": "stderr",
     "output_type": "stream",
     "text": [
      "[INFO ] CRAWLER   : Stock is not open on 2018-09-12.\n",
      "[INFO ] CRAWLER   : Stock is not open on 2018-09-12.\n",
      "[INFO ] CRAWLER   : Stock is not open on 2018-09-12.\n",
      "[INFO ] CRAWLER   : Stock is not open on 2018-09-12.\n"
     ]
    },
    {
     "name": "stdout",
     "output_type": "stream",
     "text": [
      "HTTPConnectionPool(host='www.twse.com.tw', port=80): Max retries exceeded with url: /indicesReport/MI_5MINS_HIST?response=json&date=20180912 (Caused by NewConnectionError('<requests.packages.urllib3.connection.HTTPConnection object at 0x000001D992165898>: Failed to establish a new connection: [WinError 10061] 無法連線，因為目標電腦拒絕連線。',))\n"
     ]
    },
    {
     "name": "stderr",
     "output_type": "stream",
     "text": [
      "[INFO ] CRAWLER   : Stock is not open on 2018-09-13.\n",
      "[INFO ] CRAWLER   : Stock is not open on 2018-09-13.\n",
      "[INFO ] CRAWLER   : Stock is not open on 2018-09-13.\n",
      "[INFO ] CRAWLER   : Stock is not open on 2018-09-13.\n"
     ]
    },
    {
     "name": "stdout",
     "output_type": "stream",
     "text": [
      "HTTPConnectionPool(host='www.twse.com.tw', port=80): Max retries exceeded with url: /indicesReport/MI_5MINS_HIST?response=json&date=20180913 (Caused by NewConnectionError('<requests.packages.urllib3.connection.HTTPConnection object at 0x000001D9923CC2B0>: Failed to establish a new connection: [WinError 10061] 無法連線，因為目標電腦拒絕連線。',))\n"
     ]
    },
    {
     "name": "stderr",
     "output_type": "stream",
     "text": [
      "[INFO ] CRAWLER   : Stock is not open on 2018-09-14.\n",
      "[INFO ] CRAWLER   : Stock is not open on 2018-09-14.\n",
      "[INFO ] CRAWLER   : Stock is not open on 2018-09-14.\n",
      "[INFO ] CRAWLER   : Stock is not open on 2018-09-14.\n"
     ]
    },
    {
     "name": "stdout",
     "output_type": "stream",
     "text": [
      "HTTPConnectionPool(host='www.twse.com.tw', port=80): Max retries exceeded with url: /indicesReport/MI_5MINS_HIST?response=json&date=20180914 (Caused by NewConnectionError('<requests.packages.urllib3.connection.HTTPConnection object at 0x000001D99236F438>: Failed to establish a new connection: [WinError 10061] 無法連線，因為目標電腦拒絕連線。',))\n"
     ]
    },
    {
     "name": "stderr",
     "output_type": "stream",
     "text": [
      "[INFO ] CRAWLER   : Stock is not open on 2018-09-15.\n",
      "[INFO ] CRAWLER   : Stock is not open on 2018-09-15.\n",
      "[INFO ] CRAWLER   : Stock is not open on 2018-09-15.\n",
      "[INFO ] CRAWLER   : Stock is not open on 2018-09-15.\n"
     ]
    },
    {
     "name": "stdout",
     "output_type": "stream",
     "text": [
      "list index out of range\n"
     ]
    },
    {
     "name": "stderr",
     "output_type": "stream",
     "text": [
      "[INFO ] CRAWLER   : Stock is not open on 2018-09-16.\n",
      "[INFO ] CRAWLER   : Stock is not open on 2018-09-16.\n",
      "[INFO ] CRAWLER   : Stock is not open on 2018-09-16.\n",
      "[INFO ] CRAWLER   : Stock is not open on 2018-09-16.\n"
     ]
    },
    {
     "name": "stdout",
     "output_type": "stream",
     "text": [
      "list index out of range\n"
     ]
    },
    {
     "name": "stderr",
     "output_type": "stream",
     "text": [
      "[INFO ] CRAWLER   : Stock is not open on 2018-09-17.\n",
      "[INFO ] CRAWLER   : Stock is not open on 2018-09-17.\n",
      "[INFO ] CRAWLER   : Stock is not open on 2018-09-17.\n",
      "[INFO ] CRAWLER   : Stock is not open on 2018-09-17.\n"
     ]
    },
    {
     "name": "stdout",
     "output_type": "stream",
     "text": [
      "HTTPConnectionPool(host='www.twse.com.tw', port=80): Max retries exceeded with url: /indicesReport/MI_5MINS_HIST?response=json&date=20180917 (Caused by NewConnectionError('<requests.packages.urllib3.connection.HTTPConnection object at 0x000001D99250D940>: Failed to establish a new connection: [WinError 10061] 無法連線，因為目標電腦拒絕連線。',))\n"
     ]
    },
    {
     "name": "stderr",
     "output_type": "stream",
     "text": [
      "[INFO ] CRAWLER   : Stock is not open on 2018-09-18.\n",
      "[INFO ] CRAWLER   : Stock is not open on 2018-09-18.\n",
      "[INFO ] CRAWLER   : Stock is not open on 2018-09-18.\n",
      "[INFO ] CRAWLER   : Stock is not open on 2018-09-18.\n"
     ]
    },
    {
     "name": "stdout",
     "output_type": "stream",
     "text": [
      "HTTPConnectionPool(host='www.twse.com.tw', port=80): Max retries exceeded with url: /indicesReport/MI_5MINS_HIST?response=json&date=20180918 (Caused by NewConnectionError('<requests.packages.urllib3.connection.HTTPConnection object at 0x000001D991EB2518>: Failed to establish a new connection: [WinError 10061] 無法連線，因為目標電腦拒絕連線。',))\n"
     ]
    },
    {
     "name": "stderr",
     "output_type": "stream",
     "text": [
      "[INFO ] CRAWLER   : Stock is not open on 2018-09-19.\n",
      "[INFO ] CRAWLER   : Stock is not open on 2018-09-19.\n",
      "[INFO ] CRAWLER   : Stock is not open on 2018-09-19.\n",
      "[INFO ] CRAWLER   : Stock is not open on 2018-09-19.\n"
     ]
    },
    {
     "name": "stdout",
     "output_type": "stream",
     "text": [
      "HTTPConnectionPool(host='www.twse.com.tw', port=80): Max retries exceeded with url: /indicesReport/MI_5MINS_HIST?response=json&date=20180919 (Caused by NewConnectionError('<requests.packages.urllib3.connection.HTTPConnection object at 0x000001D9921FA2B0>: Failed to establish a new connection: [WinError 10061] 無法連線，因為目標電腦拒絕連線。',))\n"
     ]
    },
    {
     "name": "stderr",
     "output_type": "stream",
     "text": [
      "[INFO ] CRAWLER   : Stock is not open on 2018-09-20.\n",
      "[INFO ] CRAWLER   : Stock is not open on 2018-09-20.\n",
      "[INFO ] CRAWLER   : Stock is not open on 2018-09-20.\n",
      "[INFO ] CRAWLER   : Stock is not open on 2018-09-20.\n"
     ]
    },
    {
     "name": "stdout",
     "output_type": "stream",
     "text": [
      "HTTPConnectionPool(host='www.twse.com.tw', port=80): Max retries exceeded with url: /indicesReport/MI_5MINS_HIST?response=json&date=20180920 (Caused by NewConnectionError('<requests.packages.urllib3.connection.HTTPConnection object at 0x000001D991E5BC88>: Failed to establish a new connection: [WinError 10061] 無法連線，因為目標電腦拒絕連線。',))\n"
     ]
    },
    {
     "name": "stderr",
     "output_type": "stream",
     "text": [
      "[INFO ] CRAWLER   : Stock is not open on 2018-09-21.\n",
      "[INFO ] CRAWLER   : Stock is not open on 2018-09-21.\n",
      "[INFO ] CRAWLER   : Stock is not open on 2018-09-21.\n",
      "[INFO ] CRAWLER   : Stock is not open on 2018-09-21.\n"
     ]
    },
    {
     "name": "stdout",
     "output_type": "stream",
     "text": [
      "HTTPConnectionPool(host='www.twse.com.tw', port=80): Max retries exceeded with url: /indicesReport/MI_5MINS_HIST?response=json&date=20180921 (Caused by NewConnectionError('<requests.packages.urllib3.connection.HTTPConnection object at 0x000001D9921B46D8>: Failed to establish a new connection: [WinError 10061] 無法連線，因為目標電腦拒絕連線。',))\n"
     ]
    },
    {
     "name": "stderr",
     "output_type": "stream",
     "text": [
      "[INFO ] CRAWLER   : Stock is not open on 2018-09-22.\n",
      "[INFO ] CRAWLER   : Stock is not open on 2018-09-22.\n",
      "[INFO ] CRAWLER   : Stock is not open on 2018-09-22.\n",
      "[INFO ] CRAWLER   : Stock is not open on 2018-09-22.\n",
      "[INFO ] CRAWLER   : Stock is not open on 2018-09-23.\n",
      "[INFO ] CRAWLER   : Stock is not open on 2018-09-23.\n",
      "[INFO ] CRAWLER   : Stock is not open on 2018-09-23.\n",
      "[INFO ] CRAWLER   : Stock is not open on 2018-09-23.\n"
     ]
    },
    {
     "name": "stdout",
     "output_type": "stream",
     "text": [
      "list index out of range\n",
      "list index out of range\n"
     ]
    },
    {
     "name": "stderr",
     "output_type": "stream",
     "text": [
      "[INFO ] CRAWLER   : Stock is not open on 2018-09-24.\n",
      "[INFO ] CRAWLER   : Stock is not open on 2018-09-24.\n",
      "[INFO ] CRAWLER   : Stock is not open on 2018-09-24.\n",
      "[INFO ] CRAWLER   : Stock is not open on 2018-09-24.\n"
     ]
    },
    {
     "name": "stdout",
     "output_type": "stream",
     "text": [
      "list index out of range\n"
     ]
    },
    {
     "name": "stderr",
     "output_type": "stream",
     "text": [
      "[INFO ] CRAWLER   : Stock is not open on 2018-09-25.\n",
      "[INFO ] CRAWLER   : Stock is not open on 2018-09-25.\n",
      "[INFO ] CRAWLER   : Stock is not open on 2018-09-25.\n",
      "[INFO ] CRAWLER   : Stock is not open on 2018-09-25.\n"
     ]
    },
    {
     "name": "stdout",
     "output_type": "stream",
     "text": [
      "invalid literal for int() with base 10: '-'\n"
     ]
    }
   ],
   "source": [
    "import requests\n",
    "from bs4 import BeautifulSoup\n",
    "from datetime import timedelta, datetime\n",
    "import numpy as np\n",
    "import pandas  as pd\n",
    "import logging\n",
    "import json\n",
    "\n",
    "\n",
    "def daily_crawler(date):\n",
    "\n",
    "    IS_ON = True\n",
    "    d_ = date.strftime(\"%Y%m%d\")\n",
    "\n",
    "    TODAY_DATA = False\n",
    "\n",
    "    keys = {'syear': date.year, 'smonth': date.month, 'sday': date.day}\n",
    "    try:\n",
    "        r = requests.post(\"http://www.taifex.com.tw/chinese/3/3_1_1.asp\", data = keys)\n",
    "        soup = BeautifulSoup(r.text, \"lxml\")\n",
    "        soup = soup.select('table')[2].select('table')[1].select('td')\n",
    "        o = int(soup[2].text)\n",
    "        h = int(soup[3].text)\n",
    "        l = int(soup[4].text)\n",
    "        try:\n",
    "            s = int(soup[11].text)\n",
    "        except:\n",
    "            s = int(soup[5].text)\n",
    "        v = int(soup[10].text)\n",
    "        c = int(soup[5].text)\n",
    "        \n",
    "        r = requests.get(\"http://www.twse.com.tw/indicesReport/MI_5MINS_HIST?response=json&date=\"+d_)\n",
    "        r = BeautifulSoup(r.text, \"lxml\").select('p')[0].text\n",
    "        r = json.loads(r)\n",
    "        for data in r[\"data\"]:\n",
    "            if data[0].replace(\"/\",\"\")[-4:] == d_[-4:]:\n",
    "                so = float(data[1].replace(\",\",\"\"))\n",
    "                sh = float(data[2].replace(\",\",\"\"))\n",
    "                sl = float(data[3].replace(\",\",\"\"))\n",
    "                sc = float(data[4].replace(\",\",\"\"))\n",
    "\n",
    "        TODAY_DATA = [date, o, h, l, s, v, c, so, sh, sl, sc]\n",
    "    except Exception as e:\n",
    "        print(e)\n",
    "        IS_ON = False\n",
    "        logger_crawler.info(\"Stock is not open on {}.\".format(date))\n",
    "\n",
    "    if IS_ON:\n",
    "        try:\n",
    "            r = requests.get(\"http://www.tse.com.tw/exchangeReport/FMTQIK?response=json&date=\"+d_)\n",
    "            r = BeautifulSoup(r.text, \"lxml\").select('p')[0].text\n",
    "            r = json.loads(r)\n",
    "            for data in r[\"data\"]:\n",
    "                if data[0].replace(\"/\",\"\")[-4:] == d_[-4:]:\n",
    "                    sv = int(data[2].replace(\",\",\"\"))\n",
    "                    TODAY_DATA.append(sv)\n",
    "        except Exception as e:\n",
    "            if IS_ON:\n",
    "                logger_crawler.error(\"[insert_volume][{}] {}\".format(date, e))\n",
    "\n",
    "        try:\n",
    "            r = requests.post(\"http://www.taifex.com.tw/chinese/3/7_12_3.asp\", data = keys)\n",
    "            r = BeautifulSoup(r.text, \"lxml\")\n",
    "\n",
    "            cols_f = \"f_long, f_long_contract_V, f_short, f_short_contract_V, f_acu_net, f_acu_contract_V\".replace(\" \",\"\").split(\",\")\n",
    "            cols_i = \"i_long, i_long_contract_V, i_short, i_short_contract_V, i_acu_net, i_acu_contract_V\".replace(\" \",\"\").split(\",\")\n",
    "            cols_s = \"d_long, d_long_contract_V, d_short, d_short_contract_V, d_acu_net, d_acu_contract_V\".replace(\" \",\"\").split(\",\")\n",
    "\n",
    "            for n in [5,4,3]:\n",
    "                r_ = r.select('table')[2].select('tr')[1].select('table')[0].select('tr')[n].select('td')\n",
    "                if n == 3:\n",
    "                    l = float(r_[3].text.replace(\",\",\"\"))\n",
    "                    lv = float(r_[4].text.replace(\",\",\"\"))\n",
    "                    s = float(r_[5].text.replace(\",\",\"\"))\n",
    "                    sv = float(r_[6].text.replace(\",\",\"\"))\n",
    "                    a = float(r_[13].text.replace(\",\",\"\"))\n",
    "                    av = float(r_[14].text.replace(\",\",\"\"))\n",
    "                else:\n",
    "                    l = float(r_[1].text.replace(\",\",\"\"))\n",
    "                    lv = float(r_[2].text.replace(\",\",\"\"))\n",
    "                    s = float(r_[3].text.replace(\",\",\"\"))\n",
    "                    sv = float(r_[4].text.replace(\",\",\"\"))\n",
    "                    a = float(r_[11].text.replace(\",\",\"\"))\n",
    "                    av = float(r_[12].text.replace(\",\",\"\"))\n",
    "                TODAY_DATA += [l,lv,s,sv,a,av]\n",
    "\n",
    "        except Exception as e:\n",
    "            if IS_ON:\n",
    "                logger_crawler.error(\"[insert_3_position][{}] {}\".format(date, e))\n",
    "        try:\n",
    "            r = requests.get(\"http://www.tse.com.tw/fund/BFI82U?response=json&dayDate=\"+d_)\n",
    "            r = BeautifulSoup(r.text, \"lxml\").select(\"p\")[0].text\n",
    "            r = json.loads(r)\n",
    "            r = r[\"data\"]\n",
    "\n",
    "            dsb = int(r[0][1].replace(\",\",\"\"))\n",
    "            dss = int(r[0][2].replace(\",\",\"\"))\n",
    "            dhb = int(r[1][1].replace(\",\",\"\"))\n",
    "            dhs = int(r[1][2].replace(\",\",\"\"))\n",
    "            ib = int(r[2][1].replace(\",\",\"\"))\n",
    "            is_ = int(r[2][2].replace(\",\",\"\"))\n",
    "            fb = int(r[3][1].replace(\",\",\"\"))\n",
    "            fs = int(r[3][2].replace(\",\",\"\"))\n",
    "\n",
    "            value = [dsb, dss, dhb, dhs, ib, is_, fb, fs]\n",
    "            cols = [\"d_self_buy\",\"d_self_sell\",\"d_hedge_buy\",\"d_hedge_sell\",\"i_buy\",\"i_sell\",\"f_buy\",\"f_sell\"]\n",
    "            TODAY_DATA += value\n",
    "\n",
    "        except Exception as e:\n",
    "            if IS_ON:\n",
    "                logger_crawler.error(\"[insert_3_BS][{}] {}\".format(date, e))\n",
    "    return TODAY_DATA\n",
    "\n",
    "\n",
    "if __name__ == \"__main__\":\n",
    "    log_path = \"my.log\"\n",
    "    logging.basicConfig(level=logging.INFO, format='[%(name)s][%(levelname)s] %(asctime)s - %(message)s', filename=log_path)\n",
    "    console = logging.StreamHandler()\n",
    "    console.setLevel(logging.INFO)\n",
    "    formatter = logging.Formatter('[%(levelname)-5s] %(name)-10s: %(message)s')\n",
    "    console.setFormatter(formatter)\n",
    "    logging.getLogger('').addHandler(console)\n",
    "    logger_crawler = logging.getLogger('CRAWLER')\n",
    "\n",
    "    df = pd.read_csv(\"dailyinfo.csv\")\n",
    "    cols = df.columns\n",
    "    df.set_index('date_', inplace=True)\n",
    "\n",
    "    LAST_UPDATE = datetime.strptime(df.index[-1], '%Y-%m-%d')\n",
    "    LAST_UPDATE_ = LAST_UPDATE + timedelta(days=1)\n",
    "    TODAY = datetime.today().strftime(\"%Y-%m-%d\")\n",
    "\n",
    "    logger_crawler.info(\"LAST UPDATE: {}\".format(LAST_UPDATE))\n",
    "    logger_crawler.info(\"TODAY IS: {}\".format(TODAY))\n",
    "\n",
    "    UPDATE_DATA = []\n",
    "\n",
    "    for date in pd.date_range(start=LAST_UPDATE_, end=TODAY):\n",
    "        date = date.date()\n",
    "        DATA = daily_crawler(date)\n",
    "        if DATA:\n",
    "            UPDATE_DATA.append(DATA)\n",
    "\n",
    "    df_crawl = pd.DataFrame(UPDATE_DATA, columns=cols)\n",
    "    df_crawl.set_index('date_', inplace=True)\n",
    "    df = df.append(df_crawl)\n",
    "    df.to_csv('dailyinfo.csv')"
   ]
  },
  {
   "cell_type": "code",
   "execution_count": 7,
   "metadata": {},
   "outputs": [
    {
     "data": {
      "text/html": [
       "<div>\n",
       "<style scoped>\n",
       "    .dataframe tbody tr th:only-of-type {\n",
       "        vertical-align: middle;\n",
       "    }\n",
       "\n",
       "    .dataframe tbody tr th {\n",
       "        vertical-align: top;\n",
       "    }\n",
       "\n",
       "    .dataframe thead th {\n",
       "        text-align: right;\n",
       "    }\n",
       "</style>\n",
       "<table border=\"1\" class=\"dataframe\">\n",
       "  <thead>\n",
       "    <tr style=\"text-align: right;\">\n",
       "      <th></th>\n",
       "      <th>open</th>\n",
       "      <th>high</th>\n",
       "      <th>low</th>\n",
       "      <th>settlement</th>\n",
       "      <th>volume</th>\n",
       "      <th>close</th>\n",
       "      <th>spot_open</th>\n",
       "      <th>spot_high</th>\n",
       "      <th>spot_low</th>\n",
       "      <th>spot_close</th>\n",
       "      <th>...</th>\n",
       "      <th>d_acu_net</th>\n",
       "      <th>d_acu_contract_V</th>\n",
       "      <th>d_self_buy</th>\n",
       "      <th>d_self_sell</th>\n",
       "      <th>d_hedge_buy</th>\n",
       "      <th>d_hedge_sell</th>\n",
       "      <th>i_buy</th>\n",
       "      <th>i_sell</th>\n",
       "      <th>f_buy</th>\n",
       "      <th>f_sell</th>\n",
       "    </tr>\n",
       "    <tr>\n",
       "      <th>date_</th>\n",
       "      <th></th>\n",
       "      <th></th>\n",
       "      <th></th>\n",
       "      <th></th>\n",
       "      <th></th>\n",
       "      <th></th>\n",
       "      <th></th>\n",
       "      <th></th>\n",
       "      <th></th>\n",
       "      <th></th>\n",
       "      <th></th>\n",
       "      <th></th>\n",
       "      <th></th>\n",
       "      <th></th>\n",
       "      <th></th>\n",
       "      <th></th>\n",
       "      <th></th>\n",
       "      <th></th>\n",
       "      <th></th>\n",
       "      <th></th>\n",
       "      <th></th>\n",
       "    </tr>\n",
       "  </thead>\n",
       "  <tbody>\n",
       "    <tr>\n",
       "      <th>2017-11-24</th>\n",
       "      <td>10841</td>\n",
       "      <td>10856</td>\n",
       "      <td>10829</td>\n",
       "      <td>10854</td>\n",
       "      <td>74534</td>\n",
       "      <td>10856</td>\n",
       "      <td>10847.79</td>\n",
       "      <td>10873.91</td>\n",
       "      <td>10833.78</td>\n",
       "      <td>10854.09</td>\n",
       "      <td>...</td>\n",
       "      <td>1915.0</td>\n",
       "      <td>4162532.0</td>\n",
       "      <td>1.107775e+09</td>\n",
       "      <td>1.286755e+09</td>\n",
       "      <td>7.382176e+09</td>\n",
       "      <td>8.129547e+09</td>\n",
       "      <td>1.264220e+09</td>\n",
       "      <td>1.474573e+09</td>\n",
       "      <td>2.477212e+10</td>\n",
       "      <td>2.783171e+10</td>\n",
       "    </tr>\n",
       "    <tr>\n",
       "      <th>2017-11-27</th>\n",
       "      <td>10841</td>\n",
       "      <td>10848</td>\n",
       "      <td>10737</td>\n",
       "      <td>10749</td>\n",
       "      <td>141044</td>\n",
       "      <td>10750</td>\n",
       "      <td>10836.82</td>\n",
       "      <td>10856.00</td>\n",
       "      <td>10746.74</td>\n",
       "      <td>10750.93</td>\n",
       "      <td>...</td>\n",
       "      <td>811.0</td>\n",
       "      <td>1758012.0</td>\n",
       "      <td>1.077178e+09</td>\n",
       "      <td>1.684638e+09</td>\n",
       "      <td>6.616780e+09</td>\n",
       "      <td>7.923582e+09</td>\n",
       "      <td>5.968404e+08</td>\n",
       "      <td>1.217935e+09</td>\n",
       "      <td>2.641520e+10</td>\n",
       "      <td>3.470374e+10</td>\n",
       "    </tr>\n",
       "    <tr>\n",
       "      <th>2017-11-28</th>\n",
       "      <td>10735</td>\n",
       "      <td>10753</td>\n",
       "      <td>10695</td>\n",
       "      <td>10708</td>\n",
       "      <td>139887</td>\n",
       "      <td>10708</td>\n",
       "      <td>10733.56</td>\n",
       "      <td>10752.58</td>\n",
       "      <td>10692.53</td>\n",
       "      <td>10707.07</td>\n",
       "      <td>...</td>\n",
       "      <td>-3019.0</td>\n",
       "      <td>-6449525.0</td>\n",
       "      <td>1.201271e+09</td>\n",
       "      <td>1.302820e+09</td>\n",
       "      <td>6.745278e+09</td>\n",
       "      <td>6.985024e+09</td>\n",
       "      <td>9.238394e+08</td>\n",
       "      <td>2.385367e+09</td>\n",
       "      <td>3.502924e+10</td>\n",
       "      <td>4.361888e+10</td>\n",
       "    </tr>\n",
       "    <tr>\n",
       "      <th>2017-11-29</th>\n",
       "      <td>10747</td>\n",
       "      <td>10763</td>\n",
       "      <td>10708</td>\n",
       "      <td>10728</td>\n",
       "      <td>122492</td>\n",
       "      <td>10729</td>\n",
       "      <td>10735.24</td>\n",
       "      <td>10762.91</td>\n",
       "      <td>10697.62</td>\n",
       "      <td>10713.55</td>\n",
       "      <td>...</td>\n",
       "      <td>-1367.0</td>\n",
       "      <td>-2917835.0</td>\n",
       "      <td>1.046859e+09</td>\n",
       "      <td>9.919257e+08</td>\n",
       "      <td>6.229779e+09</td>\n",
       "      <td>6.519366e+09</td>\n",
       "      <td>1.213856e+09</td>\n",
       "      <td>1.419631e+09</td>\n",
       "      <td>2.872184e+10</td>\n",
       "      <td>3.540241e+10</td>\n",
       "    </tr>\n",
       "    <tr>\n",
       "      <th>2017-11-30</th>\n",
       "      <td>10650</td>\n",
       "      <td>10658</td>\n",
       "      <td>10569</td>\n",
       "      <td>10576</td>\n",
       "      <td>197751</td>\n",
       "      <td>10574</td>\n",
       "      <td>10623.20</td>\n",
       "      <td>10650.18</td>\n",
       "      <td>10560.44</td>\n",
       "      <td>10560.44</td>\n",
       "      <td>...</td>\n",
       "      <td>-2892907.0</td>\n",
       "      <td>NaN</td>\n",
       "      <td>NaN</td>\n",
       "      <td>NaN</td>\n",
       "      <td>NaN</td>\n",
       "      <td>NaN</td>\n",
       "      <td>NaN</td>\n",
       "      <td>NaN</td>\n",
       "      <td>NaN</td>\n",
       "      <td>NaN</td>\n",
       "    </tr>\n",
       "  </tbody>\n",
       "</table>\n",
       "<p>5 rows × 37 columns</p>\n",
       "</div>"
      ],
      "text/plain": [
       "             open   high    low  settlement  volume  close  spot_open  \\\n",
       "date_                                                                   \n",
       "2017-11-24  10841  10856  10829       10854   74534  10856   10847.79   \n",
       "2017-11-27  10841  10848  10737       10749  141044  10750   10836.82   \n",
       "2017-11-28  10735  10753  10695       10708  139887  10708   10733.56   \n",
       "2017-11-29  10747  10763  10708       10728  122492  10729   10735.24   \n",
       "2017-11-30  10650  10658  10569       10576  197751  10574   10623.20   \n",
       "\n",
       "            spot_high  spot_low  spot_close      ...       d_acu_net  \\\n",
       "date_                                            ...                   \n",
       "2017-11-24   10873.91  10833.78    10854.09      ...          1915.0   \n",
       "2017-11-27   10856.00  10746.74    10750.93      ...           811.0   \n",
       "2017-11-28   10752.58  10692.53    10707.07      ...         -3019.0   \n",
       "2017-11-29   10762.91  10697.62    10713.55      ...         -1367.0   \n",
       "2017-11-30   10650.18  10560.44    10560.44      ...      -2892907.0   \n",
       "\n",
       "            d_acu_contract_V    d_self_buy   d_self_sell   d_hedge_buy  \\\n",
       "date_                                                                    \n",
       "2017-11-24         4162532.0  1.107775e+09  1.286755e+09  7.382176e+09   \n",
       "2017-11-27         1758012.0  1.077178e+09  1.684638e+09  6.616780e+09   \n",
       "2017-11-28        -6449525.0  1.201271e+09  1.302820e+09  6.745278e+09   \n",
       "2017-11-29        -2917835.0  1.046859e+09  9.919257e+08  6.229779e+09   \n",
       "2017-11-30               NaN           NaN           NaN           NaN   \n",
       "\n",
       "            d_hedge_sell         i_buy        i_sell         f_buy  \\\n",
       "date_                                                                \n",
       "2017-11-24  8.129547e+09  1.264220e+09  1.474573e+09  2.477212e+10   \n",
       "2017-11-27  7.923582e+09  5.968404e+08  1.217935e+09  2.641520e+10   \n",
       "2017-11-28  6.985024e+09  9.238394e+08  2.385367e+09  3.502924e+10   \n",
       "2017-11-29  6.519366e+09  1.213856e+09  1.419631e+09  2.872184e+10   \n",
       "2017-11-30           NaN           NaN           NaN           NaN   \n",
       "\n",
       "                  f_sell  \n",
       "date_                     \n",
       "2017-11-24  2.783171e+10  \n",
       "2017-11-27  3.470374e+10  \n",
       "2017-11-28  4.361888e+10  \n",
       "2017-11-29  3.540241e+10  \n",
       "2017-11-30           NaN  \n",
       "\n",
       "[5 rows x 37 columns]"
      ]
     },
     "execution_count": 7,
     "metadata": {},
     "output_type": "execute_result"
    }
   ],
   "source": [
    "df.tail()"
   ]
  }
 ],
 "metadata": {
  "kernelspec": {
   "display_name": "Python 3",
   "language": "python",
   "name": "python3"
  },
  "language_info": {
   "codemirror_mode": {
    "name": "ipython",
    "version": 3
   },
   "file_extension": ".py",
   "mimetype": "text/x-python",
   "name": "python",
   "nbconvert_exporter": "python",
   "pygments_lexer": "ipython3",
   "version": "3.6.6"
  }
 },
 "nbformat": 4,
 "nbformat_minor": 2
}
