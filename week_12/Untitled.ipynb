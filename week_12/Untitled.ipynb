{
 "cells": [
  {
   "cell_type": "code",
   "execution_count": null,
   "metadata": {},
   "outputs": [
    {
     "name": "stdout",
     "output_type": "stream",
     "text": [
      "Downloading https://github.com/hankcs/HanLP/releases/download/v1.7.0/hanlp-1.7.0-release.zip to /home/jun-han-chen/anaconda3/lib/python3.6/site-packages/pyhanlp/static/hanlp-1.7.0-release.zip\n",
      "100.00%, 1 MB, 173 KB/s, ETA 0 min 0 s\n",
      "Downloading http://hanlp.linrunsoft.com/release/data-for-1.7.0.zip to /home/jun-han-chen/anaconda3/lib/python3.6/site-packages/pyhanlp/static/data-for-1.7.0.zip\n"
     ]
    }
   ],
   "source": [
    "# # -*- coding:utf-8 -*-\n",
    "# Author：wancong\n",
    "# Date: 2018-04-30\n",
    "from pyhanlp import *\n",
    "\n",
    "\n",
    "def demo_traditional_chinese2simplified_chinese():\n",
    "    \"\"\" 将简繁转换做到极致\n",
    "    >>> demo_traditional_chinese2simplified_chinese()\n",
    "    「以後等你當上皇后，就能買草莓慶祝了」。發現一根白頭髮\n",
    "    凭借笔记本电脑写程序HanLP\n",
    "    hankcs在臺灣寫程式碼\n",
    "    hankcs在台湾写代码\n",
    "    hankcs在香港寫代碼\n",
    "    hankcs在香港写代码\n",
    "    hankcs在臺灣寫程式碼\n",
    "    hankcs在香港寫代碼\n",
    "    hankcs在臺灣寫程式碼\n",
    "    hankcs在台灣寫代碼\n",
    "    hankcs在臺灣寫代碼\n",
    "    hankcs在臺灣寫代碼\n",
    "    \"\"\"\n",
    "    print(HanLP.convertToTraditionalChinese(\"“以后等你当上皇后，就能买草莓庆祝了”。发现一根白头发\"))\n",
    "    print(HanLP.convertToSimplifiedChinese(\"憑藉筆記簿型電腦寫程式HanLP\"))\n",
    "    # 简体转台湾繁体\n",
    "    print(HanLP.s2tw(\"hankcs在台湾写代码\"))\n",
    "    # 台湾繁体转简体\n",
    "    print(HanLP.tw2s(\"hankcs在臺灣寫程式碼\"))\n",
    "    # 简体转香港繁体\n",
    "    print(HanLP.s2hk(\"hankcs在香港写代码\"))\n",
    "    # 香港繁体转简体\n",
    "    print(HanLP.hk2s(\"hankcs在香港寫代碼\"))\n",
    "    # 香港繁体转台湾繁体\n",
    "    print(HanLP.hk2tw(\"hankcs在臺灣寫代碼\"))\n",
    "    # 台湾繁体转香港繁体\n",
    "    print(HanLP.tw2hk(\"hankcs在香港寫程式碼\"))\n",
    "\n",
    "    # 香港/台湾繁体和HanLP标准繁体的互转\n",
    "    print(HanLP.t2tw(\"hankcs在臺灣寫代碼\"))\n",
    "    print(HanLP.t2hk(\"hankcs在臺灣寫代碼\"))\n",
    "\n",
    "    print(HanLP.tw2t(\"hankcs在臺灣寫程式碼\"))\n",
    "    print(HanLP.hk2t(\"hankcs在台灣寫代碼\"))\n",
    "\n",
    "\n",
    "if __name__ == \"__main__\":\n",
    "    import doctest"
   ]
  }
 ],
 "metadata": {
  "kernelspec": {
   "display_name": "Python 3",
   "language": "python",
   "name": "python3"
  },
  "language_info": {
   "codemirror_mode": {
    "name": "ipython",
    "version": 3
   },
   "file_extension": ".py",
   "mimetype": "text/x-python",
   "name": "python",
   "nbconvert_exporter": "python",
   "pygments_lexer": "ipython3",
   "version": "3.6.5"
  }
 },
 "nbformat": 4,
 "nbformat_minor": 2
}
