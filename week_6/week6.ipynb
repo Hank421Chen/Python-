{
 "cells": [
  {
   "cell_type": "code",
   "execution_count": 1,
   "metadata": {},
   "outputs": [],
   "source": [
    "from sklearn.feature_extraction.text import TfidfVectorizer\n",
    "from sklearn.feature_extraction.text import CountVectorizer\n",
    "from sklearn.metrics.pairwise import cosine_similarity\n",
    "from IPython.display import clear_output\n",
    "from wordcloud import WordCloud\n",
    "from PIL import Image\n",
    "import matplotlib.pyplot as plt\n",
    "import pandas as pd\n",
    "import numpy as np\n",
    "import jieba\n",
    "import seaborn as sns\n",
    "import sys\n",
    "import re\n",
    "import os\n",
    "from sklearn import feature_extraction\n",
    "from glob import glob\n",
    "from sklearn.decomposition import PCA # Principal Component Analysis module\n",
    "from sklearn.cluster import KMeans # KMeans clustering \n",
    "from func import*\n",
    "%matplotlib inline"
   ]
  },
  {
   "cell_type": "markdown",
   "metadata": {},
   "source": [
    "#### 把檔案名稱中以20開頭.txt結尾的檔案存進file_list裡"
   ]
  },
  {
   "cell_type": "code",
   "execution_count": 2,
   "metadata": {},
   "outputs": [
    {
     "name": "stdout",
     "output_type": "stream",
     "text": [
      "\n",
      "Number of files : 83\n"
     ]
    },
    {
     "data": {
      "text/plain": [
       "['2015-03-06 14_31',\n",
       " '2015-03-13 16_08',\n",
       " '2015-04-17 18_02',\n",
       " '2015-05-08 15_03',\n",
       " '2015-06-08 15_04',\n",
       " '2015-06-12 16_13',\n",
       " '2015-07-13 15_29',\n",
       " '2015-08-07 14_41',\n",
       " '2015-08-12 17_27',\n",
       " '2015-08-13',\n",
       " '2015-09-09 15_09',\n",
       " '2015-09-23',\n",
       " '2015-10-06 14_47',\n",
       " '2015-10-07',\n",
       " '2015-10-13 16_49',\n",
       " '2015-10-14',\n",
       " '2015-11-05 09_58',\n",
       " '2015-11-05',\n",
       " '2015-11-10 10_27',\n",
       " '2015-12-07 15_18',\n",
       " '2015-12-08',\n",
       " '2016-02-18 16_11',\n",
       " '2016-02-19',\n",
       " '2016-03-03 16_56',\n",
       " '2016-03-14',\n",
       " '2016-04-20',\n",
       " '2016-06-02 16_58',\n",
       " '2016-06-03 10_38',\n",
       " '2016-06-03 10_49',\n",
       " '2016-08-04 14_28',\n",
       " '2016-08-08 17_22',\n",
       " '2016-08-15',\n",
       " '2016-10-06 15_16',\n",
       " '2016-11-04 17_23',\n",
       " '2016-12-05 16_09',\n",
       " '2017-01-05 15_26',\n",
       " '2017-01-06',\n",
       " '2017-02-03',\n",
       " '2017-02-08 15_44',\n",
       " '2017-02-09',\n",
       " '2017-02-10',\n",
       " '2017-03-03 18_08',\n",
       " '2017-04-11 10_41',\n",
       " '2017-04-17',\n",
       " '2017-04-20 21_06',\n",
       " '2017-06-03',\n",
       " '2017-06-21 09_46',\n",
       " '2017-06-21',\n",
       " '2017-07-05 15_03',\n",
       " '2017-07-26',\n",
       " '2017-08-01 17_28',\n",
       " '2017-08-04 12_01',\n",
       " '2017-08-18 09_55',\n",
       " '2017-09-13',\n",
       " '2017-09-20',\n",
       " '2017-10-25 17_09',\n",
       " '2017-10-26',\n",
       " '2017-11-06',\n",
       " '2017-11-13',\n",
       " '2017-11-16',\n",
       " '2017-11-20',\n",
       " '2017-11-22 11_10',\n",
       " '2017-12-05 09_39',\n",
       " '2017-12-05 16_44',\n",
       " '2017-12-20',\n",
       " '2017-12-25',\n",
       " '2018-01-03 11_37',\n",
       " '2018-01-03 14_41',\n",
       " '2018-01-03',\n",
       " '2018-01-04 14_24',\n",
       " '2018-01-16 10_21',\n",
       " '2018-02-02 09_26',\n",
       " '2018-02-02',\n",
       " '2018-02-05',\n",
       " '2018-02-07 18_21',\n",
       " '2018-02-22 19_59',\n",
       " '2018-02-28',\n",
       " '2018-03-05 17_46',\n",
       " '2018-03-05',\n",
       " '2018-03-06 09_45',\n",
       " '2018-03-08 17_30',\n",
       " '2018-03-09',\n",
       " '2018-03-20 10_24']"
      ]
     },
     "execution_count": 2,
     "metadata": {},
     "output_type": "execute_result"
    }
   ],
   "source": [
    "path = './NEWS/20*.txt'\n",
    "title, data = readdir(path)\n",
    "title"
   ]
  },
  {
   "cell_type": "markdown",
   "metadata": {},
   "source": [
    "#### 處理stopword"
   ]
  },
  {
   "cell_type": "code",
   "execution_count": 3,
   "metadata": {},
   "outputs": [
    {
     "name": "stdout",
     "output_type": "stream",
     "text": [
      "\n",
      "Number of files : 1\n"
     ]
    }
   ],
   "source": [
    "stopword = readdir('./stop_words.txt')[1][0].split('\\r\\n')\n",
    "stopwords = ['不知', '不等','不至','並且', '並未', '並稱','中央社', '中小型', '中廠', '中心', '中環', '中芯', '中資','之內', '之前', '之用', '之稅', '之路', '之際', '乾坤', '事前', '事情', '事隔', '事項','什麼', '介於', '仍將', '仍會', '仍為', '仍然','以下', '以辦','但多數', '但是', '低容', '低容質', '佐銘', '何種','三星', '三次','一位', '一天', '一年', '一提', '一槍', '一段', '一統', '一舉', '一般型', '一貫', '一陣', '一頭霧水','一一', '一併', '一個', '一倍', '一半', '一城', '一季', '一定', '一家', '一席', '一早', '一樣', '一次性', '一班', '一環', '一線']\n",
    "stopword+=stopwords\n",
    "#puncs_Full = '！？｡＂＃＄％＆＇（）()＊＋，－／：；＜＝＞＠［＼］$＾＿｀｛｜｝～｟｠｢｣､、〃》「」『』【】〔〕〖〗〘〙〚〛〜〝〞〟〰〾〿–—‘’‛“”„‟…‧﹏.。'\n",
    "puncs_Half = \"!?.#$%&'()*+,-/:;<=>@[]^_{}|~\\\\\\\"\"\n",
    "savetofile('./stopword.txt', [stopword, puncs_Half])"
   ]
  },
  {
   "cell_type": "code",
   "execution_count": 4,
   "metadata": {
    "scrolled": true
   },
   "outputs": [
    {
     "name": "stdout",
     "output_type": "stream",
     "text": [
      "\n",
      "Number of files : 1\n"
     ]
    }
   ],
   "source": [
    "stopword = readdir('./stopword.txt')[1][0].split('\\r\\n')\n"
   ]
  },
  {
   "cell_type": "code",
   "execution_count": 5,
   "metadata": {},
   "outputs": [
    {
     "name": "stderr",
     "output_type": "stream",
     "text": [
      "Building prefix dict from C:\\Users\\j2831\\Desktop\\week_6\\dict.txt ...\n",
      "Loading model from cache C:\\Users\\j2831\\AppData\\Local\\Temp\\jieba.ua1d5f39c6ae371a91e186def75f6f93e.cache\n",
      "Loading model cost 1.141 seconds.\n",
      "Prefix dict has been built succesfully.\n"
     ]
    }
   ],
   "source": [
    "jieba.set_dictionary('./dict.txt') # 繁體字詞庫\n",
    "#jieba.analyse.set_stop_words('./stopword.txt') #自訂停止詞\n",
    "wordDictionary = []\n",
    "for i in range(len(data)):\n",
    "    seg_list = jieba.cut(data[i], cut_all=False)\n",
    "    seg_list = list(seg_list)\n",
    "    wordDict = {}\n",
    "    for w in seg_list:\n",
    "        if (w not in stopword)  and (w not in puncs_Half):\n",
    "            if w in wordDict:\n",
    "                wordDict[w] = wordDict[w] + 1\n",
    "            else:\n",
    "                wordDict[w] = 1\n",
    "    wordDictionary.append(wordDict)\n",
    "    #print('Number of word in document ({0}) : '.format(title[i]), len(wordDict))\n",
    "    sort = sorted(wordDict.items(), key=lambda x: x[1], reverse = True)\n",
    "    #print(sort[0:10])\n",
    "    data[i] = ' '.join(jieba.cut(data[i], cut_all=False))"
   ]
  },
  {
   "cell_type": "code",
   "execution_count": 6,
   "metadata": {},
   "outputs": [],
   "source": [
    "for i in range(len(data)):\n",
    "    data[i] = re.sub('[^\\u4e00-\\u9fff ]', '', data[i])\n",
    "#[^\\u4e00-\\u9fff A-Za-z0-9]"
   ]
  },
  {
   "cell_type": "code",
   "execution_count": 7,
   "metadata": {},
   "outputs": [],
   "source": [
    "tfidf_vectorizer = TfidfVectorizer(max_df = 1, min_df = 0, analyzer = 'word'\n",
    "                                   , stop_words = stopword, max_features = 10000)\n",
    "#print(tfidf_vectorizer.get_stop_words())"
   ]
  },
  {
   "cell_type": "code",
   "execution_count": 8,
   "metadata": {},
   "outputs": [],
   "source": [
    "tfidf_matrix = tfidf_vectorizer.fit_transform(data)\n",
    "#print(tfidf_matrix.shape)"
   ]
  },
  {
   "cell_type": "code",
   "execution_count": 9,
   "metadata": {},
   "outputs": [],
   "source": [
    "words = tfidf_vectorizer.get_feature_names()\n",
    "#print(words[0:50])\n",
    "#print(words)"
   ]
  },
  {
   "cell_type": "code",
   "execution_count": 10,
   "metadata": {},
   "outputs": [
    {
     "data": {
      "text/html": [
       "<div>\n",
       "<style scoped>\n",
       "    .dataframe tbody tr th:only-of-type {\n",
       "        vertical-align: middle;\n",
       "    }\n",
       "\n",
       "    .dataframe tbody tr th {\n",
       "        vertical-align: top;\n",
       "    }\n",
       "\n",
       "    .dataframe thead th {\n",
       "        text-align: right;\n",
       "    }\n",
       "</style>\n",
       "<table border=\"1\" class=\"dataframe\">\n",
       "  <thead>\n",
       "    <tr style=\"text-align: right;\">\n",
       "      <th></th>\n",
       "      <th>0</th>\n",
       "      <th>1</th>\n",
       "      <th>2</th>\n",
       "      <th>3</th>\n",
       "      <th>4</th>\n",
       "      <th>5</th>\n",
       "      <th>6</th>\n",
       "      <th>7</th>\n",
       "      <th>8</th>\n",
       "      <th>9</th>\n",
       "      <th>...</th>\n",
       "      <th>1081</th>\n",
       "      <th>1082</th>\n",
       "      <th>1083</th>\n",
       "      <th>1084</th>\n",
       "      <th>1085</th>\n",
       "      <th>1086</th>\n",
       "      <th>1087</th>\n",
       "      <th>1088</th>\n",
       "      <th>1089</th>\n",
       "      <th>1090</th>\n",
       "    </tr>\n",
       "  </thead>\n",
       "  <tbody>\n",
       "    <tr>\n",
       "      <th>0</th>\n",
       "      <td>0.0</td>\n",
       "      <td>0.000000</td>\n",
       "      <td>0.000000</td>\n",
       "      <td>0.0</td>\n",
       "      <td>0.0</td>\n",
       "      <td>0.0</td>\n",
       "      <td>0.0</td>\n",
       "      <td>0.0</td>\n",
       "      <td>0.0</td>\n",
       "      <td>0.0</td>\n",
       "      <td>...</td>\n",
       "      <td>0.0</td>\n",
       "      <td>0.0</td>\n",
       "      <td>0.0</td>\n",
       "      <td>0.0</td>\n",
       "      <td>0.0</td>\n",
       "      <td>0.0</td>\n",
       "      <td>0.0</td>\n",
       "      <td>0.0</td>\n",
       "      <td>0.0</td>\n",
       "      <td>0.0</td>\n",
       "    </tr>\n",
       "    <tr>\n",
       "      <th>1</th>\n",
       "      <td>0.0</td>\n",
       "      <td>0.000000</td>\n",
       "      <td>0.000000</td>\n",
       "      <td>0.0</td>\n",
       "      <td>0.0</td>\n",
       "      <td>0.0</td>\n",
       "      <td>0.0</td>\n",
       "      <td>0.0</td>\n",
       "      <td>0.0</td>\n",
       "      <td>0.0</td>\n",
       "      <td>...</td>\n",
       "      <td>0.0</td>\n",
       "      <td>0.0</td>\n",
       "      <td>0.0</td>\n",
       "      <td>0.0</td>\n",
       "      <td>0.0</td>\n",
       "      <td>0.0</td>\n",
       "      <td>0.0</td>\n",
       "      <td>0.0</td>\n",
       "      <td>0.0</td>\n",
       "      <td>0.0</td>\n",
       "    </tr>\n",
       "    <tr>\n",
       "      <th>2</th>\n",
       "      <td>0.0</td>\n",
       "      <td>0.353553</td>\n",
       "      <td>0.353553</td>\n",
       "      <td>0.0</td>\n",
       "      <td>0.0</td>\n",
       "      <td>0.0</td>\n",
       "      <td>0.0</td>\n",
       "      <td>0.0</td>\n",
       "      <td>0.0</td>\n",
       "      <td>0.0</td>\n",
       "      <td>...</td>\n",
       "      <td>0.0</td>\n",
       "      <td>0.0</td>\n",
       "      <td>0.0</td>\n",
       "      <td>0.0</td>\n",
       "      <td>0.0</td>\n",
       "      <td>0.0</td>\n",
       "      <td>0.0</td>\n",
       "      <td>0.0</td>\n",
       "      <td>0.0</td>\n",
       "      <td>0.0</td>\n",
       "    </tr>\n",
       "    <tr>\n",
       "      <th>3</th>\n",
       "      <td>0.0</td>\n",
       "      <td>0.000000</td>\n",
       "      <td>0.000000</td>\n",
       "      <td>0.0</td>\n",
       "      <td>0.0</td>\n",
       "      <td>0.0</td>\n",
       "      <td>0.0</td>\n",
       "      <td>0.0</td>\n",
       "      <td>0.0</td>\n",
       "      <td>0.0</td>\n",
       "      <td>...</td>\n",
       "      <td>0.0</td>\n",
       "      <td>0.0</td>\n",
       "      <td>0.0</td>\n",
       "      <td>0.0</td>\n",
       "      <td>0.0</td>\n",
       "      <td>0.0</td>\n",
       "      <td>0.0</td>\n",
       "      <td>0.0</td>\n",
       "      <td>0.0</td>\n",
       "      <td>0.0</td>\n",
       "    </tr>\n",
       "    <tr>\n",
       "      <th>4</th>\n",
       "      <td>0.0</td>\n",
       "      <td>0.000000</td>\n",
       "      <td>0.000000</td>\n",
       "      <td>0.0</td>\n",
       "      <td>0.0</td>\n",
       "      <td>0.0</td>\n",
       "      <td>0.0</td>\n",
       "      <td>0.0</td>\n",
       "      <td>0.0</td>\n",
       "      <td>0.0</td>\n",
       "      <td>...</td>\n",
       "      <td>0.0</td>\n",
       "      <td>0.0</td>\n",
       "      <td>0.0</td>\n",
       "      <td>0.0</td>\n",
       "      <td>0.0</td>\n",
       "      <td>0.0</td>\n",
       "      <td>0.0</td>\n",
       "      <td>0.0</td>\n",
       "      <td>0.0</td>\n",
       "      <td>0.0</td>\n",
       "    </tr>\n",
       "  </tbody>\n",
       "</table>\n",
       "<p>5 rows × 1091 columns</p>\n",
       "</div>"
      ],
      "text/plain": [
       "   0         1         2     3     4     5     6     7     8     9     ...   \\\n",
       "0   0.0  0.000000  0.000000   0.0   0.0   0.0   0.0   0.0   0.0   0.0  ...    \n",
       "1   0.0  0.000000  0.000000   0.0   0.0   0.0   0.0   0.0   0.0   0.0  ...    \n",
       "2   0.0  0.353553  0.353553   0.0   0.0   0.0   0.0   0.0   0.0   0.0  ...    \n",
       "3   0.0  0.000000  0.000000   0.0   0.0   0.0   0.0   0.0   0.0   0.0  ...    \n",
       "4   0.0  0.000000  0.000000   0.0   0.0   0.0   0.0   0.0   0.0   0.0  ...    \n",
       "\n",
       "   1081  1082  1083  1084  1085  1086  1087  1088  1089  1090  \n",
       "0   0.0   0.0   0.0   0.0   0.0   0.0   0.0   0.0   0.0   0.0  \n",
       "1   0.0   0.0   0.0   0.0   0.0   0.0   0.0   0.0   0.0   0.0  \n",
       "2   0.0   0.0   0.0   0.0   0.0   0.0   0.0   0.0   0.0   0.0  \n",
       "3   0.0   0.0   0.0   0.0   0.0   0.0   0.0   0.0   0.0   0.0  \n",
       "4   0.0   0.0   0.0   0.0   0.0   0.0   0.0   0.0   0.0   0.0  \n",
       "\n",
       "[5 rows x 1091 columns]"
      ]
     },
     "execution_count": 10,
     "metadata": {},
     "output_type": "execute_result"
    }
   ],
   "source": [
    "data = pd.DataFrame(tfidf_matrix.toarray().T, index = words, columns = title)\n",
    "data=pd.DataFrame(np.transpose(np.array(data)))\n",
    "#data=data.T\n",
    "data.head()"
   ]
  },
  {
   "cell_type": "code",
   "execution_count": 11,
   "metadata": {},
   "outputs": [
    {
     "data": {
      "text/plain": [
       "array([[-0.11043153, -0.11043153, -0.11043153, ..., -0.11043153,\n",
       "        -0.11043153, -0.11043153],\n",
       "       [-0.11043153, -0.11043153, -0.11043153, ..., -0.11043153,\n",
       "        -0.11043153, -0.11043153],\n",
       "       [-0.11043153,  9.05538514,  9.05538514, ..., -0.11043153,\n",
       "        -0.11043153, -0.11043153],\n",
       "       ...,\n",
       "       [-0.11043153, -0.11043153, -0.11043153, ..., -0.11043153,\n",
       "        -0.11043153, -0.11043153],\n",
       "       [-0.11043153, -0.11043153, -0.11043153, ..., -0.11043153,\n",
       "        -0.11043153, -0.11043153],\n",
       "       [-0.11043153, -0.11043153, -0.11043153, ..., -0.11043153,\n",
       "        -0.11043153, -0.11043153]])"
      ]
     },
     "execution_count": 11,
     "metadata": {},
     "output_type": "execute_result"
    }
   ],
   "source": [
    "from sklearn.preprocessing import StandardScaler\n",
    "data_std = StandardScaler().fit_transform(data.values)\n",
    "data_std"
   ]
  },
  {
   "cell_type": "code",
   "execution_count": 12,
   "metadata": {},
   "outputs": [
    {
     "name": "stdout",
     "output_type": "stream",
     "text": [
      "(83, 7)\n",
      "[[-7.32775756e-01 -6.45068729e-01 -5.06286926e-01 -5.61030464e-01\n",
      "  -4.22432487e-01 -2.48441752e-03 -8.18675429e-01]\n",
      " [-7.53620315e-01 -6.67531446e-01 -5.27221432e-01 -5.85723762e-01\n",
      "  -4.42882157e-01 -2.77433182e-03 -8.60519922e-01]\n",
      " [-7.99085034e-01 -7.17498770e-01 -5.74839143e-01 -6.42254974e-01\n",
      "  -4.90728780e-01 -3.74077817e-03 -9.58371756e-01]\n",
      " [-7.13053817e-01 -6.24069434e-01 -4.86963377e-01 -5.38341010e-01\n",
      "  -4.03817492e-01 -2.25428771e-03 -7.80708117e-01]\n",
      " [-7.13053817e-01 -6.24069434e-01 -4.86963377e-01 -5.38341010e-01\n",
      "  -4.03817492e-01 -2.25428771e-03 -7.80708117e-01]\n",
      " [-7.75686513e-01 -6.91616433e-01 -5.49983780e-01 -6.12701583e-01\n",
      "  -4.65477551e-01 -3.16198612e-03 -9.06861474e-01]\n",
      " [-7.13053817e-01 -6.24069434e-01 -4.86963377e-01 -5.38341010e-01\n",
      "  -4.03817492e-01 -2.25428771e-03 -7.80708117e-01]\n",
      " [-7.13053817e-01 -6.24069434e-01 -4.86963377e-01 -5.38341010e-01\n",
      "  -4.03817492e-01 -2.25428771e-03 -7.80708117e-01]\n",
      " [-7.87211261e-01 -7.04320770e-01 -5.62128545e-01 -6.27138965e-01\n",
      "  -4.77703022e-01 -3.39188072e-03 -9.31942338e-01]\n",
      " [-7.13053817e-01 -6.24069434e-01 -4.86963377e-01 -5.38341010e-01\n",
      "  -4.03817492e-01 -2.25428771e-03 -7.80708117e-01]\n",
      " [-7.13053817e-01 -6.24069434e-01 -4.86963377e-01 -5.38341010e-01\n",
      "  -4.03817492e-01 -2.25428771e-03 -7.80708117e-01]\n",
      " [-8.64289654e-01 -7.91879230e-01 -6.48294717e-01 -7.31986928e-01\n",
      "  -5.62205924e-01 -2.21801126e-03 -1.11868184e+00]\n",
      " [-7.13053817e-01 -6.24069434e-01 -4.86963377e-01 -5.38341010e-01\n",
      "  -4.03817492e-01 -2.25428771e-03 -7.80708117e-01]\n",
      " [-7.43051789e-01 -6.56107750e-01 -5.16540185e-01 -5.73110288e-01\n",
      "  -4.32410354e-01 -2.62035726e-03 -8.39077096e-01]\n",
      " [-7.13053817e-01 -6.24069434e-01 -4.86963377e-01 -5.38341010e-01\n",
      "  -4.03817492e-01 -2.25428771e-03 -7.80708117e-01]\n",
      " [-7.13053817e-01 -6.24069434e-01 -4.86963377e-01 -5.38341010e-01\n",
      "  -4.03817492e-01 -2.25428771e-03 -7.80708117e-01]\n",
      " [-7.22780215e-01 -6.34395251e-01 -4.96435878e-01 -5.49450911e-01\n",
      "  -4.12912238e-01 -2.36318496e-03 -7.99241435e-01]\n",
      " [-7.13053817e-01 -6.24069434e-01 -4.86963377e-01 -5.38341010e-01\n",
      "  -4.03817492e-01 -2.25428771e-03 -7.80708117e-01]\n",
      " [-7.43051790e-01 -6.56107752e-01 -5.16540181e-01 -5.73110299e-01\n",
      "  -4.32410354e-01 -2.62037671e-03 -8.39077092e-01]\n",
      " [-7.13053817e-01 -6.24069434e-01 -4.86963377e-01 -5.38341010e-01\n",
      "  -4.03817492e-01 -2.25428771e-03 -7.80708117e-01]\n",
      " [-8.11324803e-01 -7.31200301e-01 -5.88118807e-01 -6.58248141e-01\n",
      "  -5.04124506e-01 -3.95393967e-03 -9.86576922e-01]\n",
      " [-7.13053817e-01 -6.24069434e-01 -4.86963377e-01 -5.38341010e-01\n",
      "  -4.03817492e-01 -2.25428771e-03 -7.80708117e-01]\n",
      " [-7.13053817e-01 -6.24069434e-01 -4.86963377e-01 -5.38341010e-01\n",
      "  -4.03817492e-01 -2.25428771e-03 -7.80708117e-01]\n",
      " [-7.13053817e-01 -6.24069434e-01 -4.86963377e-01 -5.38341010e-01\n",
      "  -4.03817492e-01 -2.25428771e-03 -7.80708117e-01]\n",
      " [-1.05240809e+00 -1.02004456e+00 -8.97042801e-01 -1.02772387e+00\n",
      "  -9.57124246e-01 -4.46824540e-02 -1.70350484e+00]\n",
      " [-8.11320672e-01 -7.31185800e-01 -5.88177932e-01 -6.58220348e-01\n",
      "  -5.04278977e-01 -4.00528390e-03 -9.86541339e-01]\n",
      " [-7.75686544e-01 -6.91616840e-01 -5.49984319e-01 -6.12704327e-01\n",
      "  -4.65478509e-01 -3.15636208e-03 -9.06863040e-01]\n",
      " [-9.40430744e-01 -8.79659715e-01 -7.41549684e-01 -8.33717141e-01\n",
      "  -7.80447684e-01 -4.46413614e-02 -1.28531438e+00]\n",
      " [-1.01236587e+00 -9.69679782e-01 -7.89624049e-01 -9.23301236e-01\n",
      "  -7.18174593e-01  4.88254908e-02 -1.54543654e+00]\n",
      " [-7.13053817e-01 -6.24069434e-01 -4.86963377e-01 -5.38341010e-01\n",
      "  -4.03817492e-01 -2.25428771e-03 -7.80708117e-01]\n",
      " [-7.13053817e-01 -6.24069434e-01 -4.86963377e-01 -5.38341010e-01\n",
      "  -4.03817492e-01 -2.25428771e-03 -7.80708117e-01]\n",
      " [-8.50428050e-01 -7.75488422e-01 -6.32312348e-01 -7.10693000e-01\n",
      "  -5.55049576e-01 -8.96399540e-03 -1.08041137e+00]\n",
      " [-7.13053817e-01 -6.24069434e-01 -4.86963377e-01 -5.38341010e-01\n",
      "  -4.03817492e-01 -2.25428771e-03 -7.80708117e-01]\n",
      " [-7.13053817e-01 -6.24069434e-01 -4.86963377e-01 -5.38341010e-01\n",
      "  -4.03817492e-01 -2.25428771e-03 -7.80708117e-01]\n",
      " [-7.13053817e-01 -6.24069434e-01 -4.86963377e-01 -5.38341010e-01\n",
      "  -4.03817492e-01 -2.25428771e-03 -7.80708117e-01]\n",
      " [-7.13053817e-01 -6.24069434e-01 -4.86963377e-01 -5.38341010e-01\n",
      "  -4.03817492e-01 -2.25428771e-03 -7.80708117e-01]\n",
      " [-8.11323429e-01 -7.31196773e-01 -5.88161486e-01 -6.58186941e-01\n",
      "  -5.04495224e-01 -4.02448245e-03 -9.86485847e-01]\n",
      " [-1.87086563e+00 -2.47975044e+00 -3.86930751e+00 -7.44393072e+00\n",
      "   5.94217679e+01  3.09957586e-02  1.17569648e+01]\n",
      " [-8.50400228e-01 -7.75594749e-01 -6.32506977e-01 -7.11343703e-01\n",
      "  -5.47869779e-01 -2.78839602e-03 -1.08328855e+00]\n",
      " [-1.38258860e+00 -1.50532040e+00 -1.53896000e+00 -1.95734483e+00\n",
      "  -1.92283031e+00 -8.04747502e-03 -4.69787490e+00]\n",
      " [-2.48509344e+00 -4.53212572e+00  6.51508861e+01  7.77992357e+00\n",
      "   2.52075990e+00  4.83382622e-03  3.41326204e+00]\n",
      " [-7.53620312e-01 -6.67531430e-01 -5.27221421e-01 -5.85723659e-01\n",
      "  -4.42881527e-01 -2.77381575e-03 -8.60520478e-01]\n",
      " [-7.99085769e-01 -7.17504994e-01 -5.74837701e-01 -6.42274281e-01\n",
      "  -4.90627083e-01 -3.68730392e-03 -9.58457136e-01]\n",
      " [-1.19534277e+00 -1.21886218e+00 -1.11689346e+00 -1.35436712e+00\n",
      "  -1.11165423e+00  3.87686451e-02 -2.57773389e+00]\n",
      " [-7.22780215e-01 -6.34395251e-01 -4.96435878e-01 -5.49450911e-01\n",
      "  -4.12912238e-01 -2.36318496e-03 -7.99241435e-01]\n",
      " [-1.74748138e+00 -2.19599153e+00 -2.96649054e+00 -4.77447765e+00\n",
      "  -1.08604721e+01 -4.29799922e+01  3.92052086e+01]\n",
      " [-7.32775756e-01 -6.45068729e-01 -5.06286927e-01 -5.61030465e-01\n",
      "  -4.22432486e-01 -2.48441772e-03 -8.18675430e-01]\n",
      " [-8.23937518e-01 -7.45396094e-01 -6.02123060e-01 -6.74749759e-01\n",
      "  -5.19127764e-01 -4.47980024e-03 -1.01630661e+00]\n",
      " [-8.11323249e-01 -7.31192720e-01 -5.88163472e-01 -6.58187803e-01\n",
      "  -5.04280391e-01 -3.98160930e-03 -9.86480691e-01]\n",
      " [-1.05122982e+00 -1.01589393e+00 -8.96315282e-01 -1.01081613e+00\n",
      "  -9.94154771e-01 -2.56949050e-02 -1.69945624e+00]\n",
      " [-7.32775756e-01 -6.45068729e-01 -5.06286926e-01 -5.61030464e-01\n",
      "  -4.22432484e-01 -2.48441526e-03 -8.18675430e-01]\n",
      " [-7.22780215e-01 -6.34395251e-01 -4.96435878e-01 -5.49450911e-01\n",
      "  -4.12912238e-01 -2.36318496e-03 -7.99241435e-01]\n",
      " [-8.78559918e-01 -8.08313866e-01 -6.66005974e-01 -7.48973863e-01\n",
      "  -5.73599862e-01  5.30966282e-03 -1.16464502e+00]\n",
      " [-1.01162839e+00 -9.72703665e-01 -8.11026592e-01 -9.76351208e-01\n",
      "  -6.24040779e-01  9.11470689e-02 -1.68301025e+00]\n",
      " [-9.08560485e-01 -8.44024774e-01 -6.99988792e-01 -7.94294866e-01\n",
      "  -6.26179034e-01 -5.68490968e-03 -1.24264366e+00]\n",
      " [-7.22780215e-01 -6.34395251e-01 -4.96435878e-01 -5.49450911e-01\n",
      "  -4.12912238e-01 -2.36318496e-03 -7.99241435e-01]\n",
      " [-7.43051789e-01 -6.56107751e-01 -5.16540180e-01 -5.73110291e-01\n",
      "  -4.32410360e-01 -2.62037328e-03 -8.39077089e-01]\n",
      " [-8.93492980e-01 -8.26887240e-01 -6.84080083e-01 -7.79913101e-01\n",
      "  -5.97018151e-01 -6.82816122e-03 -1.19693431e+00]\n",
      " [ 7.84143811e+01  2.83233586e+00  1.14188331e+00  1.04807004e+00\n",
      "   6.28223257e-01  1.39266720e-03  1.05651428e+00]\n",
      " [-7.87212091e-01 -7.04326174e-01 -5.62133257e-01 -6.27169264e-01\n",
      "  -4.77706780e-01 -3.40318685e-03 -9.31929648e-01]\n",
      " [-1.03258391e+00 -9.99576249e-01 -8.29628030e-01 -9.94780151e-01\n",
      "  -6.61257702e-01  7.90519267e-02 -1.70679499e+00]\n",
      " [-7.32775756e-01 -6.45068729e-01 -5.06286927e-01 -5.61030465e-01\n",
      "  -4.22432488e-01 -2.48441932e-03 -8.18675428e-01]\n",
      " [-9.41238428e-01 -8.81709279e-01 -7.56637771e-01 -8.46326617e-01\n",
      "  -6.20647546e-01  4.08926422e-02 -1.40080460e+00]\n",
      " [-9.60972842e-01 -9.14856813e-01 -7.69411733e-01 -9.24071375e-01\n",
      "  -6.02215579e-01 -3.97336903e-02 -1.43105561e+00]\n",
      " [-7.99085675e-01 -7.17512252e-01 -5.74820805e-01 -6.42312559e-01\n",
      "  -4.90482800e-01 -3.60112790e-03 -9.58485042e-01]\n",
      " [-9.56679624e-01 -9.02254617e-01 -7.35946108e-01 -8.52737834e-01\n",
      "  -6.00710366e-01  7.27060507e-02 -1.39546963e+00]\n",
      " [-1.59004862e+00 -1.87353899e+00 -2.19651260e+00 -3.09876917e+00\n",
      "  -3.91539790e+00  1.82515348e-02 -1.57090477e+01]\n",
      " [-1.11895910e+00 -1.10886891e+00 -1.00314690e+00 -1.16451427e+00\n",
      "  -1.08279360e+00 -2.86453118e-02 -2.04068005e+00]\n",
      " [-9.40865717e-01 -8.80849758e-01 -7.40792918e-01 -8.47944678e-01\n",
      "  -6.23609063e-01 -7.73851206e-03 -1.34777294e+00]\n",
      " [-2.17859451e+00 -3.34583414e+00 -9.80268058e+00  6.28052798e+01\n",
      "   4.27035903e+00  5.82135454e-03  4.90666746e+00]\n",
      " [-7.75686475e-01 -6.91616019e-01 -5.49984865e-01 -6.12699116e-01\n",
      "  -4.65503564e-01 -3.17583530e-03 -9.06851585e-01]\n",
      " [-7.64494051e-01 -6.79360437e-01 -5.38358990e-01 -5.98908035e-01\n",
      "  -4.53885263e-01 -2.94849077e-03 -8.83086065e-01]\n",
      " [-9.08754273e-01 -8.44420935e-01 -7.09939650e-01 -8.02033975e-01\n",
      "  -6.71003844e-01 -4.03634383e-02 -1.21671739e+00]\n",
      " [-1.74750705e+00 -2.19600926e+00 -2.96847383e+00 -4.77586321e+00\n",
      "  -1.08991086e+01  4.30020441e+01  3.91809754e+01]\n",
      " [-9.08959091e-01 -8.44224467e-01 -7.12816710e-01 -8.02434554e-01\n",
      "  -6.59859070e-01 -3.34331439e-02 -1.22421682e+00]\n",
      " [-9.08588456e-01 -8.42061514e-01 -6.90050642e-01 -7.89966830e-01\n",
      "  -6.08952801e-01  7.69251172e-03 -1.26279867e+00]\n",
      " [-1.16827183e+00 -1.17799050e+00 -1.07102709e+00 -1.27257964e+00\n",
      "  -1.12203463e+00  2.08258992e-02 -2.35783144e+00]\n",
      " [-7.53620318e-01 -6.67531449e-01 -5.27221418e-01 -5.85723708e-01\n",
      "  -4.42882100e-01 -2.77420928e-03 -8.60519917e-01]\n",
      " [-1.22360217e+00 -1.26039653e+00 -1.18361249e+00 -1.44035842e+00\n",
      "  -1.23550843e+00 -9.31608515e-03 -2.77460554e+00]\n",
      " [-7.64494041e-01 -6.79360240e-01 -5.38358933e-01 -5.98907147e-01\n",
      "  -4.53888068e-01 -2.94949614e-03 -8.83085895e-01]\n",
      " [-1.25207548e+00 -1.30074519e+00 -1.25384122e+00 -1.51792933e+00\n",
      "  -1.42010204e+00 -4.33402833e-02 -2.99813862e+00]\n",
      " [-4.29991567e+00  7.11194865e+01  2.72194466e+00  2.14443206e+00\n",
      "   1.12880954e+00  2.17235968e-03  1.78467796e+00]\n",
      " [-8.11324644e-01 -7.31198202e-01 -5.88178348e-01 -6.58249120e-01\n",
      "  -5.04503430e-01 -4.29793248e-03 -9.86453961e-01]]\n"
     ]
    }
   ],
   "source": [
    "pca = PCA(n_components=7)\n",
    "x_7d = pca.fit_transform(data_std)\n",
    "print(x_7d.shape)\n",
    "print(x_7d)"
   ]
  },
  {
   "cell_type": "code",
   "execution_count": 13,
   "metadata": {},
   "outputs": [
    {
     "data": {
      "text/plain": [
       "(83, 7)"
      ]
     },
     "execution_count": 13,
     "metadata": {},
     "output_type": "execute_result"
    }
   ],
   "source": [
    "pca4 = PCA(n_components=4)\n",
    "x_4d = pca.fit_transform(data_std)\n",
    "x_4d.shape"
   ]
  },
  {
   "cell_type": "code",
   "execution_count": 17,
   "metadata": {},
   "outputs": [],
   "source": [
    "#Set a 3 KMeans clustering\n",
    "kmeans = KMeans(n_clusters = 2)\n",
    "\n",
    "#Compute cluster centers and predict cluster indices\n",
    "X_clustered = kmeans.fit_predict(x_4d)\n",
    "#for i in range(0,82,3):\n",
    "    #X_clustered[i]=1\n",
    "    #continue\n",
    "X_clustered[44]=1\n",
    "X_clustered[73]=1\n",
    "X_clustered[37]=1\n",
    "X_clustered[69]=1\n",
    "X_clustered[66]=1\n",
    "X_clustered[40]=1\n",
    "X_clustered[58]=0\n",
    "LABEL_COLOR_MAP = {0:'r', 1: 'g'}\n",
    "label_color = [LABEL_COLOR_MAP[l] for l in X_clustered]"
   ]
  },
  {
   "cell_type": "code",
   "execution_count": 18,
   "metadata": {},
   "outputs": [
    {
     "name": "stdout",
     "output_type": "stream",
     "text": [
      "0\n",
      "1\n"
     ]
    },
    {
     "data": {
      "image/png": "[encoded data removed]",
      "text/plain": [
       "<Figure size 504x504 with 1 Axes>"
      ]
     },
     "metadata": {},
     "output_type": "display_data"
    },
    {
     "name": "stdout",
     "output_type": "stream",
     "text": [
      "0\n",
      "2\n"
     ]
    },
    {
     "data": {
      "image/png": "[encoded data removed]",
      "text/plain": [
       "<Figure size 504x504 with 1 Axes>"
      ]
     },
     "metadata": {},
     "output_type": "display_data"
    },
    {
     "name": "stdout",
     "output_type": "stream",
     "text": [
      "0\n",
      "3\n"
     ]
    },
    {
     "data": {
      "image/png": "[encoded data removed]",
      "text/plain": [
       "<Figure size 504x504 with 1 Axes>"
      ]
     },
     "metadata": {},
     "output_type": "display_data"
    },
    {
     "name": "stdout",
     "output_type": "stream",
     "text": [
      "0\n",
      "4\n"
     ]
    },
    {
     "data": {
      "image/png": "[encoded data removed]",
      "text/plain": [
       "<Figure size 504x504 with 1 Axes>"
      ]
     },
     "metadata": {},
     "output_type": "display_data"
    },
    {
     "name": "stdout",
     "output_type": "stream",
     "text": [
      "0\n",
      "5\n"
     ]
    },
    {
     "data": {
      "image/png": "[encoded data removed]",
      "text/plain": [
       "<Figure size 504x504 with 1 Axes>"
      ]
     },
     "metadata": {},
     "output_type": "display_data"
    },
    {
     "name": "stdout",
     "output_type": "stream",
     "text": [
      "0\n",
      "6\n"
     ]
    },
    {
     "data": {
      "image/png": "[encoded data removed]",
      "text/plain": [
       "<Figure size 504x504 with 1 Axes>"
      ]
     },
     "metadata": {},
     "output_type": "display_data"
    },
    {
     "name": "stdout",
     "output_type": "stream",
     "text": [
      "1\n",
      "2\n"
     ]
    },
    {
     "data": {
      "image/png": "[encoded data removed]",
      "text/plain": [
       "<Figure size 504x504 with 1 Axes>"
      ]
     },
     "metadata": {},
     "output_type": "display_data"
    },
    {
     "name": "stdout",
     "output_type": "stream",
     "text": [
      "1\n",
      "3\n"
     ]
    },
    {
     "data": {
      "image/png": "[encoded data removed]",
      "text/plain": [
       "<Figure size 504x504 with 1 Axes>"
      ]
     },
     "metadata": {},
     "output_type": "display_data"
    },
    {
     "name": "stdout",
     "output_type": "stream",
     "text": [
      "1\n",
      "4\n"
     ]
    },
    {
     "data": {
      "image/png": "[encoded data removed]",
      "text/plain": [
       "<Figure size 504x504 with 1 Axes>"
      ]
     },
     "metadata": {},
     "output_type": "display_data"
    },
    {
     "name": "stdout",
     "output_type": "stream",
     "text": [
      "1\n",
      "5\n"
     ]
    },
    {
     "data": {
      "image/png": "[encoded data removed]",
      "text/plain": [
       "<Figure size 504x504 with 1 Axes>"
      ]
     },
     "metadata": {},
     "output_type": "display_data"
    },
    {
     "name": "stdout",
     "output_type": "stream",
     "text": [
      "1\n",
      "6\n"
     ]
    },
    {
     "data": {
      "image/png": "[encoded data removed]",
      "text/plain": [
       "<Figure size 504x504 with 1 Axes>"
      ]
     },
     "metadata": {},
     "output_type": "display_data"
    },
    {
     "name": "stdout",
     "output_type": "stream",
     "text": [
      "2\n",
      "3\n"
     ]
    },
    {
     "data": {
      "image/png": "[encoded data removed]",
      "text/plain": [
       "<Figure size 504x504 with 1 Axes>"
      ]
     },
     "metadata": {},
     "output_type": "display_data"
    },
    {
     "name": "stdout",
     "output_type": "stream",
     "text": [
      "2\n",
      "4\n"
     ]
    },
    {
     "data": {
      "image/png": "[encoded data removed]",
      "text/plain": [
       "<Figure size 504x504 with 1 Axes>"
      ]
     },
     "metadata": {},
     "output_type": "display_data"
    },
    {
     "name": "stdout",
     "output_type": "stream",
     "text": [
      "2\n",
      "5\n"
     ]
    },
    {
     "data": {
      "image/png": "[encoded data removed]",
      "text/plain": [
       "<Figure size 504x504 with 1 Axes>"
      ]
     },
     "metadata": {},
     "output_type": "display_data"
    },
    {
     "name": "stdout",
     "output_type": "stream",
     "text": [
      "2\n",
      "6\n"
     ]
    },
    {
     "data": {
      "image/png": "[encoded data removed]",
      "text/plain": [
       "<Figure size 504x504 with 1 Axes>"
      ]
     },
     "metadata": {},
     "output_type": "display_data"
    },
    {
     "name": "stdout",
     "output_type": "stream",
     "text": [
      "3\n",
      "4\n"
     ]
    },
    {
     "data": {
      "image/png": "[encoded data removed]",
      "text/plain": [
       "<Figure size 504x504 with 1 Axes>"
      ]
     },
     "metadata": {},
     "output_type": "display_data"
    },
    {
     "name": "stdout",
     "output_type": "stream",
     "text": [
      "3\n",
      "5\n"
     ]
    },
    {
     "data": {
      "image/png": "[encoded data removed]",
      "text/plain": [
       "<Figure size 504x504 with 1 Axes>"
      ]
     },
     "metadata": {},
     "output_type": "display_data"
    },
    {
     "name": "stdout",
     "output_type": "stream",
     "text": [
      "3\n",
      "6\n"
     ]
    },
    {
     "data": {
      "image/png": "[encoded data removed]",
      "text/plain": [
       "<Figure size 504x504 with 1 Axes>"
      ]
     },
     "metadata": {},
     "output_type": "display_data"
    },
    {
     "name": "stdout",
     "output_type": "stream",
     "text": [
      "4\n",
      "5\n"
     ]
    },
    {
     "data": {
      "image/png": "[encoded data removed]",
      "text/plain": [
       "<Figure size 504x504 with 1 Axes>"
      ]
     },
     "metadata": {},
     "output_type": "display_data"
    },
    {
     "name": "stdout",
     "output_type": "stream",
     "text": [
      "4\n",
      "6\n"
     ]
    },
    {
     "data": {
      "image/png": "[encoded data removed]",
      "text/plain": [
       "<Figure size 504x504 with 1 Axes>"
      ]
     },
     "metadata": {},
     "output_type": "display_data"
    },
    {
     "name": "stdout",
     "output_type": "stream",
     "text": [
      "5\n",
      "6\n"
     ]
    },
    {
     "data": {
      "image/png": "[encoded data removed]",
      "text/plain": [
       "<Figure size 504x504 with 1 Axes>"
      ]
     },
     "metadata": {},
     "output_type": "display_data"
    }
   ],
   "source": [
    "f=7\n",
    "for i in range(f):\n",
    "    for j in range(i,f):\n",
    "        if(i==j):\n",
    "            continue\n",
    "        plt.figure(figsize = (7,7))\n",
    "        print(i)\n",
    "        print(j)\n",
    "        plt.scatter(x_4d[:,i],x_4d[:,j], c= label_color, alpha=0.8) \n",
    "        plt.xlabel(i)\n",
    "        plt.ylabel(j)\n",
    "        plt.show()"
   ]
  },
  {
   "cell_type": "code",
   "execution_count": 19,
   "metadata": {},
   "outputs": [
    {
     "data": {
      "image/png": "[encoded data removed]",
      "text/plain": [
       "<Figure size 432x288 with 1 Axes>"
      ]
     },
     "metadata": {},
     "output_type": "display_data"
    }
   ],
   "source": [
    "#Define our own color map\n",
    "LABEL_COLOR_MAP = {0:'r', 1: 'g'}\n",
    "label_color = [LABEL_COLOR_MAP[l] for l in X_clustered]\n",
    "\n",
    "# Plot the scatter digram\n",
    "plt.scatter(x_4d[:,2],x_4d[:,6], c= label_color, alpha=0.8) \n",
    "plt.show()"
   ]
  },
  {
   "cell_type": "code",
   "execution_count": 20,
   "metadata": {},
   "outputs": [],
   "source": [
    "import plotly\n",
    "plotly.tools.set_credentials_file(username='hank421.chen', api_key='A8OTqDBMym0e6rQjNe8I')"
   ]
  },
  {
   "cell_type": "code",
   "execution_count": 21,
   "metadata": {},
   "outputs": [],
   "source": [
    "import plotly.plotly as py\n",
    "import plotly.graph_objs as go"
   ]
  },
  {
   "cell_type": "code",
   "execution_count": 22,
   "metadata": {},
   "outputs": [
    {
     "data": {
      "text/plain": [
       "array([-0.55927468, -0.58377735, -0.63982973, -0.53674149, -0.53674149,\n",
       "       -0.61051609, -0.53674149, -0.53674149, -0.62481167, -0.53674149,\n",
       "       -0.53674149, -0.7268213 , -0.53674149, -0.57126418, -0.53674149,\n",
       "       -0.53674149, -0.54777694, -0.53674149, -0.57126418, -0.53674149,\n",
       "       -0.65553888, -0.53674149, -0.53674149, -0.53674149, -1.03902871,\n",
       "       -0.65554145, -0.61051699, -0.84309755, -1.01138703, -0.53674149,\n",
       "       -0.53674149, -0.70783835, -0.53674149, -0.53674149, -0.53674149,\n",
       "       -0.53674149, -0.6555506 , -7.4489907 , -0.70782671, -1.96155146,\n",
       "        7.77817681, -0.58377732, -0.63980772, -1.36245439, -0.54777694,\n",
       "       -4.77580852, -0.55927468, -0.67184169, -0.65548546, -1.04487362,\n",
       "       -0.55927468, -0.54777694, -0.74841211, -0.96327989, -0.7862689 ,\n",
       "       -0.54777694, -0.57126419, -0.7701529 ,  1.04731332, -0.62481562,\n",
       "       -0.99998153, -0.55927468, -0.83982887, -0.86215004, -0.63980837,\n",
       "       -0.88716275, -3.10552031, -1.18146939, -0.83681793, 62.80383192,\n",
       "       -0.61051672, -0.59684911, -0.79172601, -4.77552975, -0.79136777,\n",
       "       -0.78901864, -1.29259051, -0.58377732, -1.4317663 , -0.59684883,\n",
       "       -1.51788258,  2.14331284, -0.65559062])"
      ]
     },
     "execution_count": 22,
     "metadata": {},
     "output_type": "execute_result"
    }
   ],
   "source": [
    "x_4d[:,3]"
   ]
  },
  {
   "cell_type": "code",
   "execution_count": 23,
   "metadata": {},
   "outputs": [
    {
     "data": {
      "text/plain": [
       "array([-0.7327202 , -0.75355832, -0.79900347, -0.71300344, -0.71300344,\n",
       "       -0.77561622, -0.71300344, -0.71300344, -0.7871371 , -0.71300344,\n",
       "       -0.71300344, -0.86412919, -0.71300344, -0.7429932 , -0.71300344,\n",
       "       -0.71300344, -0.72272738, -0.71300344, -0.7429932 , -0.71300344,\n",
       "       -0.81122839, -0.71300344, -0.71300344, -0.71300344, -1.05363111,\n",
       "       -0.81123048, -0.77561607, -0.94144829, -1.01003267, -0.71300344,\n",
       "       -0.71300344, -0.85028529, -0.71300344, -0.71300344, -0.71300344,\n",
       "       -0.71300344, -0.81123651, -1.87093383, -0.85030089, -1.38282483,\n",
       "       -2.48510623, -0.75355831, -0.79900354, -1.19555291, -0.72272738,\n",
       "       -1.74757496, -0.7327202 , -0.82384191, -0.81124028, -1.0528699 ,\n",
       "       -0.7327202 , -0.72272738, -0.87838363, -1.01312287, -0.90887248,\n",
       "       -0.72272738, -0.7429932 , -0.89322244, 78.41435983, -0.78713683,\n",
       "       -1.03286802, -0.7327202 , -0.94090637, -0.9575098 , -0.79900397,\n",
       "       -0.95814193, -1.59021914, -1.11962141, -0.94235219, -2.17861321,\n",
       "       -0.77561609, -0.7644282 , -0.90848496, -1.74758553, -0.90839786,\n",
       "       -0.90838789, -1.16934345, -0.75355832, -1.22329838, -0.76442818,\n",
       "       -1.25189475, -4.29993333, -0.81122923])"
      ]
     },
     "execution_count": 23,
     "metadata": {},
     "output_type": "execute_result"
    }
   ],
   "source": [
    "x_4d[:,0]"
   ]
  },
  {
   "cell_type": "code",
   "execution_count": 24,
   "metadata": {},
   "outputs": [],
   "source": [
    "import plotly.plotly as py\n",
    "import plotly.graph_objs as go\n",
    "x1=x_4d[:,2]\n",
    "x1=x1[:24]\n",
    "y1=x_4d[:,6]\n",
    "y1=y1[:24]\n",
    "\n",
    "x2=x_4d[:,2]\n",
    "x2=x2[25:51]\n",
    "y2=x_4d[:,6]\n",
    "y2=y2[25:51]\n",
    "\n",
    "x3=x_4d[:,2]\n",
    "x3=x3[51:]\n",
    "y3=x_4d[:,6]\n",
    "y3=y3[51:]\n"
   ]
  },
  {
   "cell_type": "code",
   "execution_count": 25,
   "metadata": {},
   "outputs": [
    {
     "data": {
      "text/html": [
       "<iframe id=\"igraph\" scrolling=\"no\" style=\"border:none;\" seamless=\"seamless\" src=\"https://plot.ly/~hank421.chen/2.embed\" height=\"525px\" width=\"100%\"></iframe>"
      ],
      "text/plain": [
       "<plotly.tools.PlotlyDisplay object>"
      ]
     },
     "execution_count": 25,
     "metadata": {},
     "output_type": "execute_result"
    }
   ],
   "source": [
    "time0 = go.Scatter(\n",
    "    #x=x_4d[:,2],\n",
    "    #y=x_4d[:,6],\n",
    "    x=x1,\n",
    "    y=y1,\n",
    "    mode=\"markers\",\n",
    "    text=title,\n",
    "    hoverinfo='text'\n",
    ")\n",
    "time1 = go.Scatter(\n",
    "    #x=x_4d[:,2],\n",
    "    #y=x_4d[:,6],\n",
    "    x=x2,\n",
    "    y=y2,\n",
    "    mode=\"markers\",\n",
    "    text=title,\n",
    "    hoverinfo='text'\n",
    ")\n",
    "time2 = go.Scatter(\n",
    "    #x=x_4d[:,2],\n",
    "    #y=x_4d[:,6],\n",
    "    x=x3,\n",
    "    y=y3,\n",
    "    mode=\"markers\",\n",
    "    text=title,\n",
    "    hoverinfo='text'\n",
    ")\n",
    "\n",
    "data = [time0,time1,time2]\n",
    "\n",
    "py.iplot(data, filename = 'basic-line')"
   ]
  },
  {
   "cell_type": "code",
   "execution_count": null,
   "metadata": {},
   "outputs": [],
   "source": []
  },
  {
   "cell_type": "code",
   "execution_count": null,
   "metadata": {},
   "outputs": [],
   "source": []
  }
 ],
 "metadata": {
  "kernelspec": {
   "display_name": "Python 3",
   "language": "python",
   "name": "python3"
  },
  "language_info": {
   "codemirror_mode": {
    "name": "ipython",
    "version": 3
   },
   "file_extension": ".py",
   "mimetype": "text/x-python",
   "name": "python",
   "nbconvert_exporter": "python",
   "pygments_lexer": "ipython3",
   "version": "3.5.5"
  }
 },
 "nbformat": 4,
 "nbformat_minor": 2
}
